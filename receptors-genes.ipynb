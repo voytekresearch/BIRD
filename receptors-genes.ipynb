{
 "cells": [
  {
   "cell_type": "markdown",
   "id": "5691f50b",
   "metadata": {},
   "source": [
    "#### TLDR moderate correlation & statistically significant\n",
    "    receptor maps || genes\n",
    "    \n",
    "    serotonin: APOE, PLC\n",
    "    dopamine: APOE, PLC, SDSL\n",
    "    gaba: APOE, LRP1, TREM2\n",
    "    norepinephrine: n/a\n",
    "    acetylcholine: APOE, PLC\n",
    "    glutamate: APOE, PLC\n",
    "    mu opioid: n/a"
   ]
  },
  {
   "cell_type": "code",
   "execution_count": 22,
   "id": "e287f8c5",
   "metadata": {},
   "outputs": [],
   "source": [
    "import nibabel as nib\n",
    "from neuromaps import nulls\n",
    "from neuromaps import stats\n",
    "from neuromaps import transforms\n",
    "from neuromaps import datasets\n",
    "from neuromaps.datasets import available_tags, available_annotations, fetch_annotation"
   ]
  },
  {
   "cell_type": "code",
   "execution_count": 67,
   "id": "6314a03b",
   "metadata": {},
   "outputs": [
    {
     "data": {
      "text/plain": [
       "dict_keys(['dopamine', 'gaba', 'norepinephrine', 'acetylcholine', 'serotonin', 'glutamate', 'mu opioid'])"
      ]
     },
     "execution_count": 67,
     "metadata": {},
     "output_type": "execute_result"
    }
   ],
   "source": [
    "import json\n",
    "with open('data_desc.json', 'r') as f:\n",
    "    data_desc = json.load(f)\n",
    "data_desc.keys()"
   ]
  },
  {
   "cell_type": "code",
   "execution_count": 35,
   "id": "ccd005a8",
   "metadata": {},
   "outputs": [],
   "source": [
    "# PROBABLY ADD MORE\n",
    "genes = {\n",
    "    'apoe': nib.load('neurosynth_maps/genes/gene_345_APOE_348.0.nii'),\n",
    "    'app': nib.load('neurosynth_maps/genes/gene_348_APP_351.0.nii'),\n",
    "    'lrp1': nib.load('neurosynth_maps/genes/gene_4010_LRP1_4035.0.nii'),\n",
    "    'trem2': nib.load('neurosynth_maps/genes/gene_33501_TREM2_54209.0.nii'),\n",
    "    'clu': nib.load('neurosynth_maps/genes/gene_1182_CLU_1191.0.nii'),\n",
    "    'fox': nib.load('neurosynth_maps/genes/gene_60868_FOXQ1_94234.0.nii'),\n",
    "    'plc': nib.load('neurosynth_maps/genes/gene_5300_PLCB4_5332.0.nii'),\n",
    "    'exo': nib.load('neurosynth_maps/genes/gene_59887_EXOC3L2_90332.0.nii'),\n",
    "    'sdsl': nib.load('neurosynth_maps/genes/gene_76678_SDSL_113675.0.nii')\n",
    "}"
   ]
  },
  {
   "cell_type": "code",
   "execution_count": 36,
   "id": "7297844a",
   "metadata": {},
   "outputs": [],
   "source": [
    "def spatial_nulls(map1, map2):\n",
    "    fsavg_map1 = transforms.mni152_to_fsaverage(map1, '10k')\n",
    "    fsavg_map2 = transforms.mni152_to_fsaverage(map2, '10k')\n",
    "    rotated = nulls.alexander_bloch(fsavg_map1, atlas='fsaverage', density='10k', n_perm=100, seed=1234)\n",
    "    corr, pval = stats.compare_images(fsavg_map1, fsavg_map2, nulls=rotated)\n",
    "    return (f'r = {corr:.3f}, p = {pval:.3f}')"
   ]
  },
  {
   "cell_type": "markdown",
   "id": "6b4dec06",
   "metadata": {},
   "source": [
    "### Serotonin"
   ]
  },
  {
   "cell_type": "code",
   "execution_count": 23,
   "id": "5043c420",
   "metadata": {},
   "outputs": [
    {
     "data": {
      "text/plain": [
       "{'gallezot2010': 'serotonin 5-HT(1B) receptor',\n",
       " 'fazio2016': 'serotonin transporter',\n",
       " 'beliveau2017': 'seratonin agonist',\n",
       " 'radnakrishnan2018': '5-HT6 receptor availability'}"
      ]
     },
     "execution_count": 23,
     "metadata": {},
     "output_type": "execute_result"
    }
   ],
   "source": [
    "data_desc['serotonin']"
   ]
  },
  {
   "cell_type": "code",
   "execution_count": 29,
   "id": "9fd65e41",
   "metadata": {},
   "outputs": [],
   "source": [
    "gallezot2010 = fetch_annotation(source='gallezot2010')\n",
    "fazio2016 = fetch_annotation(source='fazio2016')\n",
    "beliveau2017 = fetch_annotation(source='beliveau2017')\n",
    "radnakrishnan2018 = fetch_annotation(source='radnakrishnan2018')"
   ]
  },
  {
   "cell_type": "code",
   "execution_count": 37,
   "id": "ddc8542d",
   "metadata": {},
   "outputs": [
    {
     "name": "stdout",
     "output_type": "stream",
     "text": [
      "APOE <-> gallezot2010:  r = -0.291, p = 0.010\n",
      "APP <-> gallezot2010:  r = -0.059, p = 0.416\n",
      "LRP1 <-> gallezot2010:  r = -0.183, p = 0.010\n",
      "TREM2 <-> gallezot2010:  r = -0.177, p = 0.020\n",
      "CLU <-> gallezot2010:  r = 0.028, p = 0.752\n",
      "FOX <-> gallezot2010:  r = 0.119, p = 0.149\n",
      "PLC <-> gallezot2010:  r = -0.042, p = 0.574\n",
      "EXO <-> gallezot2010:  r = 0.034, p = 0.644\n",
      "SDSL <-> gallezot2010:  r = 0.103, p = 0.287\n"
     ]
    }
   ],
   "source": [
    "# correlation with all genes and gallezot2010\n",
    "\n",
    "for gene in genes:\n",
    "    output = spatial_nulls(genes[gene], gallezot2010)\n",
    "    print(gene.upper(), '<-> gallezot2010: ', output)"
   ]
  },
  {
   "cell_type": "markdown",
   "id": "3708ddab",
   "metadata": {},
   "source": [
    "    Significant W/ gallezot2010: APOE, LRP1, TREM2"
   ]
  },
  {
   "cell_type": "markdown",
   "id": "00d615b9",
   "metadata": {},
   "source": [
    "        APOE: LOW CORRELATION\n",
    "        LRP1: LOW CORRELATION\n",
    "        TREM2: LOW CORRELATION"
   ]
  },
  {
   "cell_type": "code",
   "execution_count": 38,
   "id": "b4cf945e",
   "metadata": {
    "scrolled": true
   },
   "outputs": [
    {
     "name": "stdout",
     "output_type": "stream",
     "text": [
      "APOE <-> fazio2016:  r = -0.031, p = 0.693\n",
      "APP <-> fazio2016:  r = 0.088, p = 0.050\n",
      "LRP1 <-> fazio2016:  r = -0.008, p = 0.911\n",
      "TREM2 <-> fazio2016:  r = -0.061, p = 0.337\n",
      "CLU <-> fazio2016:  r = -0.030, p = 0.614\n",
      "FOX <-> fazio2016:  r = 0.032, p = 0.594\n",
      "PLC <-> fazio2016:  r = -0.134, p = 0.020\n",
      "EXO <-> fazio2016:  r = 0.018, p = 0.743\n",
      "SDSL <-> fazio2016:  r = -0.132, p = 0.069\n"
     ]
    }
   ],
   "source": [
    "# correlation with all genes and fazio2016\n",
    "\n",
    "for gene in genes:\n",
    "    output = spatial_nulls(genes[gene], fazio2016)\n",
    "    print(gene.upper(), '<-> fazio2016: ', output)"
   ]
  },
  {
   "cell_type": "markdown",
   "id": "095f8c59",
   "metadata": {},
   "source": [
    "    Significant W/ fazio2016: APP, PLC"
   ]
  },
  {
   "cell_type": "markdown",
   "id": "5e836fba",
   "metadata": {},
   "source": [
    "        APP: NO CORRELATION\n",
    "        PLC: LOW CORRELATION"
   ]
  },
  {
   "cell_type": "code",
   "execution_count": 50,
   "id": "90c63faa",
   "metadata": {},
   "outputs": [],
   "source": [
    "# multiple maps in beliveau2017"
   ]
  },
  {
   "cell_type": "code",
   "execution_count": 43,
   "id": "bed39a47",
   "metadata": {},
   "outputs": [
    {
     "name": "stdout",
     "output_type": "stream",
     "text": [
      "APOE <-> beliveau2017 1:  r = -0.110, p = 0.030\n",
      "APP <-> beliveau2017 1:  r = 0.002, p = 0.950\n",
      "LRP1 <-> beliveau2017 1:  r = -0.041, p = 0.267\n",
      "TREM2 <-> beliveau2017 1:  r = -0.054, p = 0.188\n",
      "CLU <-> beliveau2017 1:  r = -0.066, p = 0.040\n",
      "FOX <-> beliveau2017 1:  r = 0.006, p = 0.861\n",
      "PLC <-> beliveau2017 1:  r = 0.067, p = 0.059\n",
      "EXO <-> beliveau2017 1:  r = -0.006, p = 0.842\n",
      "SDSL <-> beliveau2017 1:  r = 0.040, p = 0.277\n"
     ]
    }
   ],
   "source": [
    "# correlation with all genes and beliveau2017\n",
    "\n",
    "for gene in genes:\n",
    "    output = spatial_nulls(genes[gene], beliveau2017[('beliveau2017', 'az10419369', 'MNI152', '1mm')])\n",
    "    print(gene.upper(), '<-> beliveau2017 1: ', output)"
   ]
  },
  {
   "cell_type": "markdown",
   "id": "06ac79aa",
   "metadata": {},
   "source": [
    "    Significant W/ beliveau2017 #1: APOE, CLU"
   ]
  },
  {
   "cell_type": "markdown",
   "id": "1281695f",
   "metadata": {},
   "source": [
    "        APOE: LOW CORRELATION\n",
    "        CLU: NO CORRELATION"
   ]
  },
  {
   "cell_type": "code",
   "execution_count": 46,
   "id": "9b1ec33e",
   "metadata": {},
   "outputs": [
    {
     "name": "stdout",
     "output_type": "stream",
     "text": [
      "APOE <-> beliveau2017 1:  r = -0.065, p = 0.317\n",
      "APP <-> beliveau2017 1:  r = 0.042, p = 0.149\n",
      "LRP1 <-> beliveau2017 1:  r = -0.051, p = 0.228\n",
      "TREM2 <-> beliveau2017 1:  r = -0.048, p = 0.386\n",
      "CLU <-> beliveau2017 1:  r = -0.036, p = 0.347\n",
      "FOX <-> beliveau2017 1:  r = -0.037, p = 0.356\n",
      "PLC <-> beliveau2017 1:  r = -0.042, p = 0.277\n",
      "EXO <-> beliveau2017 1:  r = -0.020, p = 0.594\n",
      "SDSL <-> beliveau2017 1:  r = -0.084, p = 0.168\n"
     ]
    }
   ],
   "source": [
    "# correlation with all genes and beliveau2017\n",
    "\n",
    "for gene in genes:\n",
    "    output = spatial_nulls(genes[gene], beliveau2017[('beliveau2017', 'cimbi36', 'MNI152', '1mm')])\n",
    "    print(gene.upper(), '<-> beliveau2017 2: ', output)"
   ]
  },
  {
   "cell_type": "markdown",
   "id": "ec78483d",
   "metadata": {},
   "source": [
    "    Significant W/ beliveau2017 #2: NONE"
   ]
  },
  {
   "cell_type": "code",
   "execution_count": 47,
   "id": "663c15e2",
   "metadata": {},
   "outputs": [
    {
     "name": "stdout",
     "output_type": "stream",
     "text": [
      "APOE <-> beliveau2017 1:  r = 0.106, p = 0.396\n",
      "APP <-> beliveau2017 1:  r = 0.090, p = 0.050\n",
      "LRP1 <-> beliveau2017 1:  r = 0.002, p = 0.980\n",
      "TREM2 <-> beliveau2017 1:  r = 0.063, p = 0.505\n",
      "CLU <-> beliveau2017 1:  r = 0.019, p = 0.822\n",
      "FOX <-> beliveau2017 1:  r = -0.095, p = 0.257\n",
      "PLC <-> beliveau2017 1:  r = -0.222, p = 0.010\n",
      "EXO <-> beliveau2017 1:  r = -0.061, p = 0.455\n",
      "SDSL <-> beliveau2017 1:  r = -0.279, p = 0.010\n"
     ]
    }
   ],
   "source": [
    "# correlation with all genes and beliveau2017\n",
    "\n",
    "for gene in genes:\n",
    "    output = spatial_nulls(genes[gene], beliveau2017[('beliveau2017', 'cumi101', 'MNI152', '1mm')])\n",
    "    print(gene.upper(), '<-> beliveau2017 3: ', output)"
   ]
  },
  {
   "cell_type": "markdown",
   "id": "970f6a2a",
   "metadata": {},
   "source": [
    "    Significant W/ beliveau2017 #3: APP, PLC, SDSL"
   ]
  },
  {
   "cell_type": "markdown",
   "id": "b29d9bed",
   "metadata": {},
   "source": [
    "        APP: LOW CORRELATION\n",
    "        PLC: LOW CORRELATION\n",
    "        SDSL: LOW CORRELATION"
   ]
  },
  {
   "cell_type": "code",
   "execution_count": 48,
   "id": "cf93c6b4",
   "metadata": {},
   "outputs": [
    {
     "name": "stdout",
     "output_type": "stream",
     "text": [
      "APOE <-> beliveau2017 4:  r = 0.059, p = 0.644\n",
      "APP <-> beliveau2017 4:  r = 0.088, p = 0.079\n",
      "LRP1 <-> beliveau2017 4:  r = 0.065, p = 0.337\n",
      "TREM2 <-> beliveau2017 4:  r = 0.034, p = 0.743\n",
      "CLU <-> beliveau2017 4:  r = -0.113, p = 0.059\n",
      "FOX <-> beliveau2017 4:  r = 0.015, p = 0.931\n",
      "PLC <-> beliveau2017 4:  r = -0.097, p = 0.149\n",
      "EXO <-> beliveau2017 4:  r = 0.002, p = 0.980\n",
      "SDSL <-> beliveau2017 4:  r = -0.167, p = 0.139\n"
     ]
    }
   ],
   "source": [
    "# correlation with all genes and beliveau2017\n",
    "\n",
    "for gene in genes:\n",
    "    output = spatial_nulls(genes[gene], beliveau2017[('beliveau2017', 'dasb', 'MNI152', '1mm')])\n",
    "    print(gene.upper(), '<-> beliveau2017 4: ', output)"
   ]
  },
  {
   "cell_type": "markdown",
   "id": "c0fa5c3f",
   "metadata": {},
   "source": [
    "    Significant W/ beliveau2017 #4: NONE"
   ]
  },
  {
   "cell_type": "code",
   "execution_count": 49,
   "id": "fa358e75",
   "metadata": {},
   "outputs": [
    {
     "name": "stdout",
     "output_type": "stream",
     "text": [
      "APOE <-> beliveau2017 5:  r = 0.016, p = 0.871\n",
      "APP <-> beliveau2017 5:  r = 0.071, p = 0.050\n",
      "LRP1 <-> beliveau2017 5:  r = -0.030, p = 0.584\n",
      "TREM2 <-> beliveau2017 5:  r = -0.004, p = 0.941\n",
      "CLU <-> beliveau2017 5:  r = -0.012, p = 0.802\n",
      "FOX <-> beliveau2017 5:  r = -0.054, p = 0.386\n",
      "PLC <-> beliveau2017 5:  r = -0.114, p = 0.010\n",
      "EXO <-> beliveau2017 5:  r = -0.028, p = 0.604\n",
      "SDSL <-> beliveau2017 5:  r = -0.159, p = 0.020\n"
     ]
    }
   ],
   "source": [
    "# correlation with all genes and beliveau2017\n",
    "\n",
    "for gene in genes:\n",
    "    output = spatial_nulls(genes[gene], beliveau2017[('beliveau2017', 'sb207145', 'MNI152', '1mm')])\n",
    "    print(gene.upper(), '<-> beliveau2017 5: ', output)"
   ]
  },
  {
   "cell_type": "markdown",
   "id": "d9b0cca4",
   "metadata": {},
   "source": [
    "    Significant W/ beliveau2017 #5: APP, PLC, SDSL"
   ]
  },
  {
   "cell_type": "markdown",
   "id": "7e34b053",
   "metadata": {},
   "source": [
    "        APP: NO CORRELATION\n",
    "        PLC: LOW CORRELATION\n",
    "        SDSL: LOW CORRELATION"
   ]
  },
  {
   "cell_type": "code",
   "execution_count": 52,
   "id": "da8782ff",
   "metadata": {},
   "outputs": [
    {
     "name": "stdout",
     "output_type": "stream",
     "text": [
      "APOE <-> radnakrishnan2018:  r = -0.471, p = 0.010\n",
      "APP <-> radnakrishnan2018:  r = -0.019, p = 0.851\n",
      "LRP1 <-> radnakrishnan2018:  r = -0.375, p = 0.010\n",
      "TREM2 <-> radnakrishnan2018:  r = -0.387, p = 0.010\n",
      "CLU <-> radnakrishnan2018:  r = 0.218, p = 0.010\n",
      "FOX <-> radnakrishnan2018:  r = 0.225, p = 0.020\n",
      "PLC <-> radnakrishnan2018:  r = -0.460, p = 0.010\n",
      "EXO <-> radnakrishnan2018:  r = 0.220, p = 0.020\n",
      "SDSL <-> radnakrishnan2018:  r = -0.202, p = 0.119\n"
     ]
    }
   ],
   "source": [
    "# correlation with all genes and radnakrishnan2018\n",
    "\n",
    "for gene in genes:\n",
    "    output = spatial_nulls(genes[gene], radnakrishnan2018)\n",
    "    print(gene.upper(), '<-> radnakrishnan2018: ', output)"
   ]
  },
  {
   "cell_type": "markdown",
   "id": "4d3e88e4",
   "metadata": {},
   "source": [
    "    Significant W/ radnakrishnan2018: APOE, LRP1, TREM2, CLU, FOX, PLC, EXO"
   ]
  },
  {
   "cell_type": "markdown",
   "id": "a1ef1f1b",
   "metadata": {},
   "source": [
    "        APOE: MODERATE CORRELATION **\n",
    "        LRP1: LOW CORRELATION\n",
    "        TREM2: LOW CORRELATION\n",
    "        CLU: LOW CORRELATION\n",
    "        FOX: LOW CORRELATION\n",
    "        PLC: MODERATE CORRELATION **\n",
    "        EXO: LOW CORRELATION"
   ]
  },
  {
   "cell_type": "markdown",
   "id": "25c9987a",
   "metadata": {},
   "source": [
    "### Dopamine"
   ]
  },
  {
   "cell_type": "code",
   "execution_count": 54,
   "id": "365e1978",
   "metadata": {},
   "outputs": [
    {
     "data": {
      "text/plain": [
       "{'sandiego2015': 'D2 dopamine receptors',\n",
       " 'sasaki2012': 'dopamine transporter',\n",
       " 'kaller2017': 'dopamine D1 receptors',\n",
       " 'alarkurtti2015': 'raclopride - dopamine receptor'}"
      ]
     },
     "execution_count": 54,
     "metadata": {},
     "output_type": "execute_result"
    }
   ],
   "source": [
    "data_desc['dopamine']"
   ]
  },
  {
   "cell_type": "code",
   "execution_count": 62,
   "id": "fd258122",
   "metadata": {},
   "outputs": [],
   "source": [
    "sandiego2015 = fetch_annotation(source='sandiego2015')\n",
    "sasaki2012 = fetch_annotation(source='sasaki2012')\n",
    "kaller2017 = fetch_annotation(source='kaller2017')\n",
    "alarkurtti2015 = fetch_annotation(source='alarkurtti2015')"
   ]
  },
  {
   "cell_type": "code",
   "execution_count": 63,
   "id": "18a05134",
   "metadata": {},
   "outputs": [
    {
     "name": "stdout",
     "output_type": "stream",
     "text": [
      "APOE <-> sandiego2015:  r = 0.514, p = 0.010\n",
      "APP <-> sandiego2015:  r = 0.235, p = 0.010\n",
      "LRP1 <-> sandiego2015:  r = 0.301, p = 0.010\n",
      "TREM2 <-> sandiego2015:  r = 0.319, p = 0.020\n",
      "CLU <-> sandiego2015:  r = -0.203, p = 0.010\n",
      "FOX <-> sandiego2015:  r = -0.267, p = 0.010\n",
      "PLC <-> sandiego2015:  r = 0.224, p = 0.010\n",
      "EXO <-> sandiego2015:  r = -0.325, p = 0.010\n",
      "SDSL <-> sandiego2015:  r = -0.023, p = 1.000\n"
     ]
    }
   ],
   "source": [
    "# correlation with all genes and sandiego2015\n",
    "\n",
    "for gene in genes:\n",
    "    output = spatial_nulls(genes[gene], sandiego2015)\n",
    "    print(gene.upper(), '<-> sandiego2015: ', output)"
   ]
  },
  {
   "cell_type": "markdown",
   "id": "c45ebe20",
   "metadata": {},
   "source": [
    "    Significant W/ sandiego2015: APOE, APP, LRP1, TREM2, CLU, FOX, PLC, EXO"
   ]
  },
  {
   "cell_type": "markdown",
   "id": "ae286a4f",
   "metadata": {},
   "source": [
    "        APOE: MODERATE CORRELATION **\n",
    "        APP: LOW CORRELATION\n",
    "        LRP1: LOW CORRELATION\n",
    "        TREM2: LOW CORRELATION\n",
    "        CLU: LOW CORRELATION\n",
    "        FOX: LOW CORRELATION\n",
    "        PLC: LOW CORRELATION\n",
    "        EXO: LOW CORRELATION"
   ]
  },
  {
   "cell_type": "code",
   "execution_count": 64,
   "id": "e04bf712",
   "metadata": {},
   "outputs": [
    {
     "name": "stdout",
     "output_type": "stream",
     "text": [
      "APOE <-> sasaki2012:  r = -0.036, p = 0.475\n",
      "APP <-> sasaki2012:  r = 0.191, p = 0.010\n",
      "LRP1 <-> sasaki2012:  r = 0.017, p = 0.634\n",
      "TREM2 <-> sasaki2012:  r = -0.062, p = 0.307\n",
      "CLU <-> sasaki2012:  r = -0.043, p = 0.525\n",
      "FOX <-> sasaki2012:  r = 0.152, p = 0.010\n",
      "PLC <-> sasaki2012:  r = -0.105, p = 0.109\n",
      "EXO <-> sasaki2012:  r = 0.068, p = 0.168\n",
      "SDSL <-> sasaki2012:  r = -0.006, p = 0.931\n"
     ]
    }
   ],
   "source": [
    "# correlation with all genes and sasaki2012\n",
    "\n",
    "for gene in genes:\n",
    "    output = spatial_nulls(genes[gene], sasaki2012)\n",
    "    print(gene.upper(), '<-> sasaki2012: ', output)"
   ]
  },
  {
   "cell_type": "markdown",
   "id": "14bf7030",
   "metadata": {},
   "source": [
    "    Significant W/ sasaki2012: APP, FOX"
   ]
  },
  {
   "cell_type": "markdown",
   "id": "2d02510d",
   "metadata": {},
   "source": [
    "        APP: LOW CORRELATION\n",
    "        FOX: LOW CORRELATION"
   ]
  },
  {
   "cell_type": "code",
   "execution_count": 65,
   "id": "3592e15a",
   "metadata": {},
   "outputs": [
    {
     "name": "stdout",
     "output_type": "stream",
     "text": [
      "APOE <-> kaller2017:  r = -0.295, p = 0.010\n",
      "APP <-> kaller2017:  r = -0.025, p = 0.733\n",
      "LRP1 <-> kaller2017:  r = -0.254, p = 0.010\n",
      "TREM2 <-> kaller2017:  r = -0.355, p = 0.010\n",
      "CLU <-> kaller2017:  r = 0.200, p = 0.010\n",
      "FOX <-> kaller2017:  r = 0.130, p = 0.040\n",
      "PLC <-> kaller2017:  r = -0.450, p = 0.010\n",
      "EXO <-> kaller2017:  r = 0.201, p = 0.010\n",
      "SDSL <-> kaller2017:  r = -0.446, p = 0.010\n"
     ]
    }
   ],
   "source": [
    "# correlation with all genes and kaller2017\n",
    "\n",
    "for gene in genes:\n",
    "    output = spatial_nulls(genes[gene], kaller2017)\n",
    "    print(gene.upper(), '<-> kaller2017: ', output)"
   ]
  },
  {
   "cell_type": "markdown",
   "id": "a13f765b",
   "metadata": {},
   "source": [
    "    Significant W/ kaller2017: APOE, LRP1, TREM2, CLU, FOX, PLC, EXO, SDSL"
   ]
  },
  {
   "cell_type": "markdown",
   "id": "3caac3e9",
   "metadata": {},
   "source": [
    "        APOE: LOW CORRELATION\n",
    "        LRP1: LOW CORRELATION\n",
    "        TREM2: LOW CORRELATION\n",
    "        CLU: LOW CORRELATION\n",
    "        FOX: LOW CORRELATION\n",
    "        PLC: MODERATE CORRELATION **\n",
    "        EXO: LOW CORRELATION\n",
    "        SDSL: MODERATE CORRELATION **"
   ]
  },
  {
   "cell_type": "code",
   "execution_count": 66,
   "id": "fd82fcce",
   "metadata": {},
   "outputs": [
    {
     "name": "stdout",
     "output_type": "stream",
     "text": [
      "APOE <-> alarkurtti2015:  r = -0.132, p = 0.208\n",
      "APP <-> alarkurtti2015:  r = 0.017, p = 0.723\n",
      "LRP1 <-> alarkurtti2015:  r = -0.081, p = 0.208\n",
      "TREM2 <-> alarkurtti2015:  r = -0.175, p = 0.020\n",
      "CLU <-> alarkurtti2015:  r = 0.050, p = 0.485\n",
      "FOX <-> alarkurtti2015:  r = 0.169, p = 0.020\n",
      "PLC <-> alarkurtti2015:  r = -0.049, p = 0.426\n",
      "EXO <-> alarkurtti2015:  r = 0.125, p = 0.050\n",
      "SDSL <-> alarkurtti2015:  r = 0.085, p = 0.594\n"
     ]
    }
   ],
   "source": [
    "# correlation with all genes and alarkurtti2015\n",
    "\n",
    "for gene in genes:\n",
    "    output = spatial_nulls(genes[gene], alarkurtti2015)\n",
    "    print(gene.upper(), '<-> alarkurtti2015: ', output)"
   ]
  },
  {
   "cell_type": "markdown",
   "id": "7e228701",
   "metadata": {},
   "source": [
    "    Significant W/ alarkurtti2015: TREM2, FOX, EXO"
   ]
  },
  {
   "cell_type": "markdown",
   "id": "92b468e8",
   "metadata": {},
   "source": [
    "        TREM2: LOW CORRELATION\n",
    "        FOX: LOW CORRELATION\n",
    "        EXO: LOW CORRELATION"
   ]
  },
  {
   "cell_type": "markdown",
   "id": "aee1e459",
   "metadata": {},
   "source": [
    "### Gaba"
   ]
  },
  {
   "cell_type": "code",
   "execution_count": 70,
   "id": "0854bea7",
   "metadata": {},
   "outputs": [
    {
     "data": {
      "text/plain": [
       "{'norgaard2020': 'GABAA receptors', 'dukart2018': 'flumazenil gaba anatgonist'}"
      ]
     },
     "execution_count": 70,
     "metadata": {},
     "output_type": "execute_result"
    }
   ],
   "source": [
    "data_desc['gaba']"
   ]
  },
  {
   "cell_type": "code",
   "execution_count": 74,
   "id": "3294ef6c",
   "metadata": {},
   "outputs": [],
   "source": [
    "norgaard2020 = fetch_annotation(source='norgaard2020')\n",
    "dukart2018 = fetch_annotation(source='dukart2018')"
   ]
  },
  {
   "cell_type": "code",
   "execution_count": 78,
   "id": "40277f37",
   "metadata": {},
   "outputs": [
    {
     "name": "stdout",
     "output_type": "stream",
     "text": [
      "APOE <-> norgaard2020:  r = -0.368, p = 0.010\n",
      "APP <-> norgaard2020:  r = -0.088, p = 0.089\n",
      "LRP1 <-> norgaard2020:  r = -0.262, p = 0.010\n",
      "TREM2 <-> norgaard2020:  r = -0.296, p = 0.010\n",
      "CLU <-> norgaard2020:  r = 0.093, p = 0.109\n",
      "FOX <-> norgaard2020:  r = 0.168, p = 0.010\n",
      "PLC <-> norgaard2020:  r = -0.212, p = 0.010\n",
      "EXO <-> norgaard2020:  r = 0.196, p = 0.010\n",
      "SDSL <-> norgaard2020:  r = -0.086, p = 0.297\n"
     ]
    }
   ],
   "source": [
    "# correlation with all genes and norgaard2020\n",
    "\n",
    "for gene in genes:\n",
    "    output = spatial_nulls(genes[gene], norgaard2020)\n",
    "    print(gene.upper(), '<-> norgaard2020: ', output)"
   ]
  },
  {
   "cell_type": "markdown",
   "id": "0233c2e4",
   "metadata": {},
   "source": [
    "    Significant W/ norgaard2020: APOE, LRP1, TREM2, FOX, PLC, EXO"
   ]
  },
  {
   "cell_type": "markdown",
   "id": "38953ba0",
   "metadata": {},
   "source": [
    "        APOE: LOW CORRELATION\n",
    "        LRP1: LOW CORRELATION\n",
    "        TREM2: LOW CORRELATION\n",
    "        FOX: LOW CORRELATION\n",
    "        PLC: LOW CORRELATION\n",
    "        EXO: LOW CORRELATION"
   ]
  },
  {
   "cell_type": "code",
   "execution_count": 79,
   "id": "878c4815",
   "metadata": {},
   "outputs": [
    {
     "name": "stdout",
     "output_type": "stream",
     "text": [
      "APOE <-> dukart2018 1:  r = -0.531, p = 0.010\n",
      "APP <-> dukart2018 1:  r = -0.131, p = 0.040\n",
      "LRP1 <-> dukart2018 1:  r = -0.409, p = 0.010\n",
      "TREM2 <-> dukart2018 1:  r = -0.462, p = 0.010\n",
      "CLU <-> dukart2018 1:  r = 0.213, p = 0.010\n",
      "FOX <-> dukart2018 1:  r = 0.186, p = 0.030\n",
      "PLC <-> dukart2018 1:  r = -0.475, p = 0.010\n",
      "EXO <-> dukart2018 1:  r = 0.269, p = 0.010\n",
      "SDSL <-> dukart2018 1:  r = -0.332, p = 0.010\n"
     ]
    }
   ],
   "source": [
    "# correlation with all genes and dukart2018 \n",
    "\n",
    "for gene in genes:\n",
    "    output = spatial_nulls(genes[gene], dukart2018[('dukart2018', 'flumazenil', 'MNI152', '3mm')])\n",
    "    print(gene.upper(), '<-> dukart2018 1: ', output)"
   ]
  },
  {
   "cell_type": "markdown",
   "id": "f39cbdcd",
   "metadata": {},
   "source": [
    "    Significant W/ dukart2018 #1: APOE, APP, LRP1, TREM2, CLU, FOX, PLC, EXO, SDSL"
   ]
  },
  {
   "cell_type": "markdown",
   "id": "90bae0e6",
   "metadata": {},
   "source": [
    "        APOE: MODERATE CORRELATION **\n",
    "        APP: LOW CORRELATION\n",
    "        LRP1: LOW/MODERATE CORRELATION **\n",
    "        TREM2: MODERATE CORRELATION **\n",
    "        CLU: LOW CORRELATION\n",
    "        FOX: LOW CORRELATION\n",
    "        PLC: MODERATE CORRELATION **\n",
    "        EXO: LOW CORRELATION\n",
    "        SDSL: LOW CORRELATION"
   ]
  },
  {
   "cell_type": "code",
   "execution_count": 80,
   "id": "5814a6fc",
   "metadata": {},
   "outputs": [
    {
     "name": "stdout",
     "output_type": "stream",
     "text": [
      "APOE <-> dukart2018 2:  r = 0.554, p = 0.010\n",
      "APP <-> dukart2018 2:  r = 0.196, p = 0.010\n",
      "LRP1 <-> dukart2018 2:  r = 0.388, p = 0.010\n",
      "TREM2 <-> dukart2018 2:  r = 0.320, p = 0.010\n",
      "CLU <-> dukart2018 2:  r = -0.292, p = 0.010\n",
      "FOX <-> dukart2018 2:  r = -0.246, p = 0.020\n",
      "PLC <-> dukart2018 2:  r = 0.363, p = 0.010\n",
      "EXO <-> dukart2018 2:  r = -0.293, p = 0.010\n",
      "SDSL <-> dukart2018 2:  r = 0.032, p = 0.901\n"
     ]
    }
   ],
   "source": [
    "# correlation with all genes and dukart2018\n",
    "\n",
    "for gene in genes:\n",
    "    output = spatial_nulls(genes[gene], dukart2018[('dukart2018', 'fpcit', 'MNI152', '3mm')])\n",
    "    print(gene.upper(), '<-> dukart2018 2: ', output)"
   ]
  },
  {
   "cell_type": "markdown",
   "id": "0a4652df",
   "metadata": {},
   "source": [
    "    Significant W/ dukart2018 #2: APOE, APP, LRP1, TREM2, CLU, FOX, PLC, EXO"
   ]
  },
  {
   "cell_type": "markdown",
   "id": "22583650",
   "metadata": {},
   "source": [
    "        APOE: MODERATE CORRELATION **\n",
    "        APP: LOW CORRELATION\n",
    "        LRP1: LOW CORRELATION\n",
    "        TREM2: LOW CORRELATION\n",
    "        CLU: LOW CORRELATION\n",
    "        FOX: LOW CORRELATION\n",
    "        PLC: LOW CORRELATION\n",
    "        EXO: LOW CORRELATION"
   ]
  },
  {
   "cell_type": "markdown",
   "id": "f766e624",
   "metadata": {},
   "source": [
    "### Norepinephrine"
   ]
  },
  {
   "cell_type": "code",
   "execution_count": 81,
   "id": "76e8966e",
   "metadata": {},
   "outputs": [
    {
     "data": {
      "text/plain": [
       "{'hesse2017': 'noradrenaline transporter'}"
      ]
     },
     "execution_count": 81,
     "metadata": {},
     "output_type": "execute_result"
    }
   ],
   "source": [
    "data_desc['norepinephrine']"
   ]
  },
  {
   "cell_type": "code",
   "execution_count": 83,
   "id": "6f1351cc",
   "metadata": {},
   "outputs": [],
   "source": [
    "hesse2017 = fetch_annotation(source='hesse2017')"
   ]
  },
  {
   "cell_type": "code",
   "execution_count": 84,
   "id": "23fa692d",
   "metadata": {},
   "outputs": [
    {
     "name": "stdout",
     "output_type": "stream",
     "text": [
      "APOE <-> hesse2017:  r = -0.352, p = 0.010\n",
      "APP <-> hesse2017:  r = -0.038, p = 0.455\n",
      "LRP1 <-> hesse2017:  r = -0.270, p = 0.010\n",
      "TREM2 <-> hesse2017:  r = -0.266, p = 0.010\n",
      "CLU <-> hesse2017:  r = 0.183, p = 0.010\n",
      "FOX <-> hesse2017:  r = 0.111, p = 0.139\n",
      "PLC <-> hesse2017:  r = -0.275, p = 0.010\n",
      "EXO <-> hesse2017:  r = 0.163, p = 0.040\n",
      "SDSL <-> hesse2017:  r = -0.021, p = 0.812\n"
     ]
    }
   ],
   "source": [
    "# correlation with all genes and hesse2017\n",
    "\n",
    "for gene in genes:\n",
    "    output = spatial_nulls(genes[gene], hesse2017)\n",
    "    print(gene.upper(), '<-> hesse2017: ', output)"
   ]
  },
  {
   "cell_type": "markdown",
   "id": "f58b7cbe",
   "metadata": {},
   "source": [
    "    Significant W/ hesse2017: APOE, LRP1, TREM2, CLU, PLC, EXO"
   ]
  },
  {
   "cell_type": "markdown",
   "id": "3a1ad00a",
   "metadata": {},
   "source": [
    "        APOE: LOW CORRELATION\n",
    "        LRP1: LOW CORRELATION\n",
    "        TREM2: LOW CORRELATION\n",
    "        CLU: LOW CORRELATION\n",
    "        PLC: LOW CORRELATION\n",
    "        EXO: LOW CORRELATION"
   ]
  },
  {
   "cell_type": "markdown",
   "id": "15ced048",
   "metadata": {},
   "source": [
    "### Acetylcholine"
   ]
  },
  {
   "cell_type": "code",
   "execution_count": 85,
   "id": "502cb7b3",
   "metadata": {},
   "outputs": [
    {
     "data": {
      "text/plain": [
       "{'tuominen': 'acetylcholine transporter density',\n",
       " 'hillmer2016': 'nicotinic acetylcholine receptors',\n",
       " 'naganawa2020': 'M1 muscarinic acetylcholine receptors'}"
      ]
     },
     "execution_count": 85,
     "metadata": {},
     "output_type": "execute_result"
    }
   ],
   "source": [
    "data_desc['acetylcholine']"
   ]
  },
  {
   "cell_type": "code",
   "execution_count": 86,
   "id": "50c47447",
   "metadata": {},
   "outputs": [],
   "source": [
    "tuominen = fetch_annotation(source='tuominen')\n",
    "hillmer2016 = fetch_annotation(source='hillmer2016')\n",
    "naganawa2020 = fetch_annotation(source='naganawa2020')"
   ]
  },
  {
   "cell_type": "code",
   "execution_count": 87,
   "id": "56458a5c",
   "metadata": {},
   "outputs": [
    {
     "name": "stdout",
     "output_type": "stream",
     "text": [
      "APOE <-> tuominen:  r = 0.333, p = 0.010\n",
      "APP <-> tuominen:  r = 0.210, p = 0.010\n",
      "LRP1 <-> tuominen:  r = 0.287, p = 0.010\n",
      "TREM2 <-> tuominen:  r = 0.243, p = 0.020\n",
      "CLU <-> tuominen:  r = -0.201, p = 0.020\n",
      "FOX <-> tuominen:  r = -0.139, p = 0.059\n",
      "PLC <-> tuominen:  r = 0.247, p = 0.010\n",
      "EXO <-> tuominen:  r = -0.187, p = 0.010\n",
      "SDSL <-> tuominen:  r = 0.131, p = 0.287\n"
     ]
    }
   ],
   "source": [
    "# correlation with all genes and tuominen\n",
    "\n",
    "for gene in genes:\n",
    "    output = spatial_nulls(genes[gene], tuominen)\n",
    "    print(gene.upper(), '<-> tuominen: ', output)"
   ]
  },
  {
   "cell_type": "markdown",
   "id": "6e16fc2b",
   "metadata": {},
   "source": [
    "    Significant W/ tuominen: APOE, APP, LRP1, TREM2, CLU, PLC, EXO"
   ]
  },
  {
   "cell_type": "markdown",
   "id": "4d85083c",
   "metadata": {},
   "source": [
    "        APOE: LOW CORRELATION\n",
    "        APP: LOW CORRELATION\n",
    "        LRP1: LOW CORRELATION\n",
    "        TREM2: LOW CORRELATION\n",
    "        CLU: LOW CORRELATION\n",
    "        PLC: LOW CORRELATION\n",
    "        EXO: LOW CORRELATION"
   ]
  },
  {
   "cell_type": "code",
   "execution_count": 88,
   "id": "09ea3247",
   "metadata": {},
   "outputs": [
    {
     "name": "stdout",
     "output_type": "stream",
     "text": [
      "APOE <-> hillmer2016:  r = 0.389, p = 0.010\n",
      "APP <-> hillmer2016:  r = 0.157, p = 0.020\n",
      "LRP1 <-> hillmer2016:  r = 0.295, p = 0.010\n",
      "TREM2 <-> hillmer2016:  r = 0.334, p = 0.010\n",
      "CLU <-> hillmer2016:  r = -0.193, p = 0.010\n",
      "FOX <-> hillmer2016:  r = -0.144, p = 0.030\n",
      "PLC <-> hillmer2016:  r = 0.441, p = 0.010\n",
      "EXO <-> hillmer2016:  r = -0.297, p = 0.010\n",
      "SDSL <-> hillmer2016:  r = 0.361, p = 0.010\n"
     ]
    }
   ],
   "source": [
    "# correlation with all genes and hillmer2016\n",
    "\n",
    "for gene in genes:\n",
    "    output = spatial_nulls(genes[gene], hillmer2016)\n",
    "    print(gene.upper(), '<-> hillmer2016: ', output)"
   ]
  },
  {
   "cell_type": "markdown",
   "id": "04067644",
   "metadata": {},
   "source": [
    "    Significant W/ hillmer2016: APOE, APP, LRP1, TREM2, CLU, FOX, PLC, EXO, SDSL"
   ]
  },
  {
   "cell_type": "markdown",
   "id": "63abb19b",
   "metadata": {},
   "source": [
    "        APOE: LOW CORRELATION\n",
    "        APP: LOW CORRELATION\n",
    "        LRP1: LOW CORRELATION\n",
    "        TREM2: LOW CORRELATION\n",
    "        CLU: LOW CORRELATION\n",
    "        FOX: LOW CORRELATION\n",
    "        PLC: MODERATE CORRELATION **\n",
    "        EXO: LOW CORRELATION\n",
    "        SDSL: LOW CORRELATION"
   ]
  },
  {
   "cell_type": "code",
   "execution_count": 90,
   "id": "7dde3ac9",
   "metadata": {},
   "outputs": [
    {
     "name": "stdout",
     "output_type": "stream",
     "text": [
      "APOE <-> naganawa2020:  r = -0.477, p = 0.010\n",
      "APP <-> naganawa2020:  r = -0.041, p = 0.624\n",
      "LRP1 <-> naganawa2020:  r = -0.365, p = 0.010\n",
      "TREM2 <-> naganawa2020:  r = -0.362, p = 0.010\n",
      "CLU <-> naganawa2020:  r = 0.203, p = 0.010\n",
      "FOX <-> naganawa2020:  r = 0.197, p = 0.030\n",
      "PLC <-> naganawa2020:  r = -0.450, p = 0.010\n",
      "EXO <-> naganawa2020:  r = 0.209, p = 0.020\n",
      "SDSL <-> naganawa2020:  r = -0.209, p = 0.079\n"
     ]
    }
   ],
   "source": [
    "# correlation with all genes and naganawa2020\n",
    "\n",
    "for gene in genes:\n",
    "    output = spatial_nulls(genes[gene], naganawa2020)\n",
    "    print(gene.upper(), '<-> naganawa2020: ', output)"
   ]
  },
  {
   "cell_type": "markdown",
   "id": "0be4a5af",
   "metadata": {},
   "source": [
    "    Significant W/ naganawa2020: APOE, LRP1, TREM2, CLU, FOX, PLC, EXO"
   ]
  },
  {
   "cell_type": "markdown",
   "id": "7f64ecb5",
   "metadata": {},
   "source": [
    "        APOE: MODERATE CORRELATION **\n",
    "        LRP1: LOW CORRELATION\n",
    "        TREM2: LOW CORRELATION\n",
    "        CLU: LOW CORRELATION\n",
    "        FOX: LOW CORRELATION\n",
    "        PLC: MODERATE CORRELATION\n",
    "        EXO: LOW CORRELATION"
   ]
  },
  {
   "cell_type": "markdown",
   "id": "d03aad50",
   "metadata": {},
   "source": [
    "### Glutamate"
   ]
  },
  {
   "cell_type": "code",
   "execution_count": 91,
   "id": "1832b259",
   "metadata": {},
   "outputs": [
    {
     "data": {
      "text/plain": [
       "{'rosaneto': 'mGluR5 ligand', 'smart2019': 'mGluR5'}"
      ]
     },
     "execution_count": 91,
     "metadata": {},
     "output_type": "execute_result"
    }
   ],
   "source": [
    "data_desc['glutamate']"
   ]
  },
  {
   "cell_type": "code",
   "execution_count": 92,
   "id": "85f4409a",
   "metadata": {},
   "outputs": [],
   "source": [
    "rosaneto = fetch_annotation(source='rosaneto')\n",
    "smart2019 = fetch_annotation(source='smart2019')"
   ]
  },
  {
   "cell_type": "code",
   "execution_count": 95,
   "id": "57c07c86",
   "metadata": {},
   "outputs": [
    {
     "name": "stdout",
     "output_type": "stream",
     "text": [
      "APOE <-> rosaneto:  r = -0.533, p = 0.010\n",
      "APP <-> rosaneto:  r = -0.095, p = 0.208\n",
      "LRP1 <-> rosaneto:  r = -0.404, p = 0.010\n",
      "TREM2 <-> rosaneto:  r = -0.409, p = 0.010\n",
      "CLU <-> rosaneto:  r = 0.295, p = 0.010\n",
      "FOX <-> rosaneto:  r = 0.233, p = 0.020\n",
      "PLC <-> rosaneto:  r = -0.536, p = 0.010\n",
      "EXO <-> rosaneto:  r = 0.290, p = 0.010\n",
      "SDSL <-> rosaneto:  r = -0.303, p = 0.010\n"
     ]
    }
   ],
   "source": [
    "# correlation with all genes and rosaneto\n",
    "\n",
    "for gene in genes:\n",
    "    output = spatial_nulls(genes[gene], rosaneto)\n",
    "    print(gene.upper(), '<-> rosaneto: ', output)"
   ]
  },
  {
   "cell_type": "markdown",
   "id": "45f6752a",
   "metadata": {},
   "source": [
    "    Significant W/ rosaneto: APOE, LRP1, TREM2, CLU, FOX, PLC, EXO, SDSL"
   ]
  },
  {
   "cell_type": "markdown",
   "id": "608aefc1",
   "metadata": {},
   "source": [
    "        APOE: MODERATE CORRELATION **\n",
    "        LRP1: LOW CORRELATION\n",
    "        TREM2: LOW CORRELATION\n",
    "        CLU: LOW CORRELATION\n",
    "        FOX: LOW CORRELATION\n",
    "        PLC: MODERATE CORRELATION **\n",
    "        EXO: LOW CORRELATION\n",
    "        SDSL: LOW CORRELATION"
   ]
  },
  {
   "cell_type": "code",
   "execution_count": 96,
   "id": "13777215",
   "metadata": {},
   "outputs": [
    {
     "name": "stdout",
     "output_type": "stream",
     "text": [
      "APOE <-> smart2019:  r = -0.472, p = 0.010\n",
      "APP <-> smart2019:  r = -0.059, p = 0.376\n",
      "LRP1 <-> smart2019:  r = -0.372, p = 0.010\n",
      "TREM2 <-> smart2019:  r = -0.381, p = 0.010\n",
      "CLU <-> smart2019:  r = 0.286, p = 0.010\n",
      "FOX <-> smart2019:  r = 0.181, p = 0.050\n",
      "PLC <-> smart2019:  r = -0.504, p = 0.010\n",
      "EXO <-> smart2019:  r = 0.244, p = 0.010\n",
      "SDSL <-> smart2019:  r = -0.268, p = 0.030\n"
     ]
    }
   ],
   "source": [
    "# correlation with all genes and smart2019\n",
    "\n",
    "for gene in genes:\n",
    "    output = spatial_nulls(genes[gene], smart2019)\n",
    "    print(gene.upper(), '<-> smart2019: ', output)"
   ]
  },
  {
   "cell_type": "markdown",
   "id": "00d88c1b",
   "metadata": {},
   "source": [
    "    Significant W/ smart2019: APOE, LRP1, TREM2, CLU, FOX, PLC, EXO, SDSL"
   ]
  },
  {
   "cell_type": "markdown",
   "id": "377dad40",
   "metadata": {},
   "source": [
    "        APOE: MODERATE CORRELATION **\n",
    "        LRP1: LOW CORRELATION\n",
    "        TREM2: LOW CORRELATION\n",
    "        CLU: LOW CORRELATION\n",
    "        FOX: LOW CORRELATION\n",
    "        PLC: MODERATE CORRELATION **\n",
    "        EXO: LOW CORRELATION\n",
    "        SDSL: LOW CORRELATION"
   ]
  },
  {
   "cell_type": "markdown",
   "id": "8c08506e",
   "metadata": {},
   "source": [
    "### Mu opioid"
   ]
  },
  {
   "cell_type": "code",
   "execution_count": 97,
   "id": "5abd0b2f",
   "metadata": {},
   "outputs": [
    {
     "data": {
      "text/plain": [
       "{'turtonen2020': 'carfentanil: mu opioid receptor availability',\n",
       " 'kantonen2020': 'carfentanil: mu opioid receptor availability'}"
      ]
     },
     "execution_count": 97,
     "metadata": {},
     "output_type": "execute_result"
    }
   ],
   "source": [
    "data_desc['mu opioid']"
   ]
  },
  {
   "cell_type": "code",
   "execution_count": 103,
   "id": "4c0fe1f6",
   "metadata": {},
   "outputs": [],
   "source": [
    "turtonen2020 = fetch_annotation(source='turtonen2020')\n",
    "kantonen2020 = fetch_annotation(source='kantonen2020')"
   ]
  },
  {
   "cell_type": "code",
   "execution_count": 101,
   "id": "19d5788f",
   "metadata": {},
   "outputs": [
    {
     "name": "stdout",
     "output_type": "stream",
     "text": [
      "APOE <-> turtonen2020:  r = 0.345, p = 0.020\n",
      "APP <-> turtonen2020:  r = 0.145, p = 0.020\n",
      "LRP1 <-> turtonen2020:  r = 0.161, p = 0.089\n",
      "TREM2 <-> turtonen2020:  r = 0.284, p = 0.030\n",
      "CLU <-> turtonen2020:  r = 0.089, p = 0.416\n",
      "FOX <-> turtonen2020:  r = -0.208, p = 0.059\n",
      "PLC <-> turtonen2020:  r = 0.032, p = 0.673\n",
      "EXO <-> turtonen2020:  r = -0.251, p = 0.010\n",
      "SDSL <-> turtonen2020:  r = -0.046, p = 0.851\n"
     ]
    }
   ],
   "source": [
    "# correlation with all genes and turtonen2020\n",
    "\n",
    "for gene in genes:\n",
    "    output = spatial_nulls(genes[gene], turtonen2020)\n",
    "    print(gene.upper(), '<-> turtonen2020: ', output)"
   ]
  },
  {
   "cell_type": "markdown",
   "id": "25d9884b",
   "metadata": {},
   "source": [
    "    Significant W/ turtonen2020: APOE, APP, TREM2, EXO"
   ]
  },
  {
   "cell_type": "markdown",
   "id": "2558e44b",
   "metadata": {},
   "source": [
    "        APOE: LOW CORRELATION\n",
    "        APP: LOW CORRELATION\n",
    "        TREM2: LOW CORRELATION\n",
    "        EXO: LOW CORRELATION"
   ]
  },
  {
   "cell_type": "code",
   "execution_count": 104,
   "id": "2e459309",
   "metadata": {},
   "outputs": [
    {
     "name": "stdout",
     "output_type": "stream",
     "text": [
      "APOE <-> kantonen2020:  r = 0.185, p = 0.208\n",
      "APP <-> kantonen2020:  r = 0.121, p = 0.079\n",
      "LRP1 <-> kantonen2020:  r = 0.036, p = 0.683\n",
      "TREM2 <-> kantonen2020:  r = 0.166, p = 0.198\n",
      "CLU <-> kantonen2020:  r = 0.204, p = 0.010\n",
      "FOX <-> kantonen2020:  r = -0.139, p = 0.188\n",
      "PLC <-> kantonen2020:  r = -0.173, p = 0.059\n",
      "EXO <-> kantonen2020:  r = -0.153, p = 0.109\n",
      "SDSL <-> kantonen2020:  r = -0.171, p = 0.337\n"
     ]
    }
   ],
   "source": [
    "# correlation with all genes and kantonen2020\n",
    "\n",
    "for gene in genes:\n",
    "    output = spatial_nulls(genes[gene], kantonen2020)\n",
    "    print(gene.upper(), '<-> kantonen2020: ', output)"
   ]
  },
  {
   "cell_type": "markdown",
   "id": "0c967872",
   "metadata": {},
   "source": [
    "    Significant W/ kantonen2020: CLU"
   ]
  },
  {
   "cell_type": "markdown",
   "id": "e7dd7af6",
   "metadata": {},
   "source": [
    "        CLU: LOW CORRELATION"
   ]
  }
 ],
 "metadata": {
  "kernelspec": {
   "display_name": "Python 3 (ipykernel)",
   "language": "python",
   "name": "python3"
  },
  "language_info": {
   "codemirror_mode": {
    "name": "ipython",
    "version": 3
   },
   "file_extension": ".py",
   "mimetype": "text/x-python",
   "name": "python",
   "nbconvert_exporter": "python",
   "pygments_lexer": "ipython3",
   "version": "3.9.7"
  }
 },
 "nbformat": 4,
 "nbformat_minor": 5
}
