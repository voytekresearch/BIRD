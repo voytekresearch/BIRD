{
 "cells": [
  {
   "cell_type": "code",
   "execution_count": 41,
   "id": "afc65f05",
   "metadata": {},
   "outputs": [],
   "source": [
    "import nibabel as nib\n",
    "from neuromaps import nulls\n",
    "from neuromaps import stats\n",
    "from neuromaps import transforms\n",
    "from neuromaps import datasets\n",
    "from neuromaps.datasets import available_tags, available_annotations, fetch_annotation"
   ]
  },
  {
   "cell_type": "code",
   "execution_count": 42,
   "id": "8ed77ea8",
   "metadata": {},
   "outputs": [
    {
     "name": "stdout",
     "output_type": "stream",
     "text": [
      "('hcps1200', 'megalpha', 'fsLR', '4k')\n",
      "('hcps1200', 'megbeta', 'fsLR', '4k')\n",
      "('hcps1200', 'megdelta', 'fsLR', '4k')\n",
      "('hcps1200', 'meggamma1', 'fsLR', '4k')\n",
      "('hcps1200', 'meggamma2', 'fsLR', '4k')\n",
      "('hcps1200', 'megtheta', 'fsLR', '4k')\n",
      "('hcps1200', 'megtimescale', 'fsLR', '4k')\n"
     ]
    }
   ],
   "source": [
    "for annotation in available_annotations(tags=['MEG']):\n",
    "    print(annotation)"
   ]
  },
  {
   "cell_type": "code",
   "execution_count": 43,
   "id": "2a593481",
   "metadata": {},
   "outputs": [],
   "source": [
    "megalpha = fetch_annotation(source='hcps1200', desc ='megalpha')\n",
    "megbeta = fetch_annotation(source='hcps1200', desc ='megbeta')\n",
    "megdelta = fetch_annotation(source='hcps1200', desc ='megdelta')\n",
    "meggamma1 = fetch_annotation(source='hcps1200', desc ='meggamma1')\n",
    "meggamma2 = fetch_annotation(source='hcps1200', desc ='meggamma2')\n",
    "megtheta = fetch_annotation(source='hcps1200', desc ='megtheta')\n",
    "megtimescale = fetch_annotation(source='hcps1200', desc ='megtimescale')"
   ]
  },
  {
   "cell_type": "code",
   "execution_count": 44,
   "id": "9c1f8b81",
   "metadata": {},
   "outputs": [
    {
     "data": {
      "text/plain": [
       "-0.13015858829021454"
      ]
     },
     "execution_count": 44,
     "metadata": {},
     "output_type": "execute_result"
    }
   ],
   "source": [
    "stats.compare_images(megalpha, megbeta)"
   ]
  },
  {
   "cell_type": "code",
   "execution_count": 45,
   "id": "62e68213",
   "metadata": {},
   "outputs": [
    {
     "data": {
      "text/plain": [
       "-0.8421758413314819"
      ]
     },
     "execution_count": 45,
     "metadata": {},
     "output_type": "execute_result"
    }
   ],
   "source": [
    "stats.compare_images(megalpha, megdelta)"
   ]
  },
  {
   "cell_type": "code",
   "execution_count": 46,
   "id": "f20fb59d",
   "metadata": {},
   "outputs": [
    {
     "data": {
      "text/plain": [
       "-0.8410748839378357"
      ]
     },
     "execution_count": 46,
     "metadata": {},
     "output_type": "execute_result"
    }
   ],
   "source": [
    "stats.compare_images(megalpha, meggamma1)"
   ]
  },
  {
   "cell_type": "code",
   "execution_count": 47,
   "id": "17d15725",
   "metadata": {},
   "outputs": [
    {
     "data": {
      "text/plain": [
       "-0.5986140370368958"
      ]
     },
     "execution_count": 47,
     "metadata": {},
     "output_type": "execute_result"
    }
   ],
   "source": [
    "stats.compare_images(megalpha, meggamma2)"
   ]
  },
  {
   "cell_type": "code",
   "execution_count": 48,
   "id": "1e5131ad",
   "metadata": {},
   "outputs": [
    {
     "data": {
      "text/plain": [
       "-0.8766703605651855"
      ]
     },
     "execution_count": 48,
     "metadata": {},
     "output_type": "execute_result"
    }
   ],
   "source": [
    "stats.compare_images(megalpha, megtheta)"
   ]
  },
  {
   "cell_type": "code",
   "execution_count": 49,
   "id": "881d7f38",
   "metadata": {},
   "outputs": [
    {
     "data": {
      "text/plain": [
       "-0.7203072905540466"
      ]
     },
     "execution_count": 49,
     "metadata": {},
     "output_type": "execute_result"
    }
   ],
   "source": [
    "stats.compare_images(megalpha, megtimescale)"
   ]
  },
  {
   "cell_type": "code",
   "execution_count": 50,
   "id": "1efd974f",
   "metadata": {},
   "outputs": [
    {
     "data": {
      "text/plain": [
       "0.7930572032928467"
      ]
     },
     "execution_count": 50,
     "metadata": {},
     "output_type": "execute_result"
    }
   ],
   "source": [
    "stats.compare_images(meggamma1, meggamma2)"
   ]
  },
  {
   "cell_type": "code",
   "execution_count": 51,
   "id": "586f415e",
   "metadata": {},
   "outputs": [],
   "source": [
    "# PROBABLY ADD MORE\n",
    "genes = {\n",
    "    'apoe': nib.load('neurosynth_maps/genes/gene_345_APOE_348.0.nii'),\n",
    "    'app': nib.load('neurosynth_maps/genes/gene_348_APP_351.0.nii'),\n",
    "    'lrp1': nib.load('neurosynth_maps/genes/gene_4010_LRP1_4035.0.nii'),\n",
    "    'trem2': nib.load('neurosynth_maps/genes/gene_33501_TREM2_54209.0.nii'),\n",
    "    'clu': nib.load('neurosynth_maps/genes/gene_1182_CLU_1191.0.nii'),\n",
    "    'fox': nib.load('neurosynth_maps/genes/gene_60868_FOXQ1_94234.0.nii'),\n",
    "    'plc': nib.load('neurosynth_maps/genes/gene_5300_PLCB4_5332.0.nii'),\n",
    "    'exo': nib.load('neurosynth_maps/genes/gene_59887_EXOC3L2_90332.0.nii'),\n",
    "    'sdsl': nib.load('neurosynth_maps/genes/gene_76678_SDSL_113675.0.nii')\n",
    "}"
   ]
  },
  {
   "cell_type": "code",
   "execution_count": 52,
   "id": "c3120fc4",
   "metadata": {},
   "outputs": [],
   "source": [
    "# edited to transform to fslr\n",
    "# map1 neurosynth (mni--fslr)\n",
    "# map2 \n",
    "def spatial_nulls(map1, map2):\n",
    "    fsav_map1 = transforms.mni152_to_fsaverage(map1, '10k')\n",
    "    fsav_map2 = transforms.fslr_to_fsaverage(map2, '10k')\n",
    "    rotated = nulls.alexander_bloch(fsav_map1, atlas='fsaverage', density='10k', n_perm=100, seed=1234)\n",
    "    corr, pval = stats.compare_images(fsav_map1, fsav_map2, nulls=rotated)\n",
    "    return (f'r = {corr:.3f}, p = {pval:.3f}')"
   ]
  },
  {
   "cell_type": "code",
   "execution_count": 53,
   "id": "e649ed57",
   "metadata": {},
   "outputs": [
    {
     "ename": "SubprocessError",
     "evalue": "Command failed with non-zero exit status 127. Error traceback: \"/bin/sh: wb_command: command not found\"",
     "output_type": "error",
     "traceback": [
      "\u001b[0;31m---------------------------------------------------------------------------\u001b[0m",
      "\u001b[0;31mCalledProcessError\u001b[0m                        Traceback (most recent call last)",
      "\u001b[0;32m~/opt/anaconda3/lib/python3.9/site-packages/neuromaps/utils.py\u001b[0m in \u001b[0;36mrun\u001b[0;34m(cmd, env, return_proc, quiet, **kwargs)\u001b[0m\n\u001b[1;32m     81\u001b[0m     \u001b[0;32mtry\u001b[0m\u001b[0;34m:\u001b[0m\u001b[0;34m\u001b[0m\u001b[0;34m\u001b[0m\u001b[0m\n\u001b[0;32m---> 82\u001b[0;31m         \u001b[0mproc\u001b[0m \u001b[0;34m=\u001b[0m \u001b[0msubprocess\u001b[0m\u001b[0;34m.\u001b[0m\u001b[0mrun\u001b[0m\u001b[0;34m(\u001b[0m\u001b[0mcmd\u001b[0m\u001b[0;34m,\u001b[0m \u001b[0menv\u001b[0m\u001b[0;34m=\u001b[0m\u001b[0mmerged_env\u001b[0m\u001b[0;34m,\u001b[0m \u001b[0;34m**\u001b[0m\u001b[0mopts\u001b[0m\u001b[0;34m)\u001b[0m\u001b[0;34m\u001b[0m\u001b[0;34m\u001b[0m\u001b[0m\n\u001b[0m\u001b[1;32m     83\u001b[0m     \u001b[0;32mexcept\u001b[0m \u001b[0msubprocess\u001b[0m\u001b[0;34m.\u001b[0m\u001b[0mCalledProcessError\u001b[0m \u001b[0;32mas\u001b[0m \u001b[0merr\u001b[0m\u001b[0;34m:\u001b[0m\u001b[0;34m\u001b[0m\u001b[0;34m\u001b[0m\u001b[0m\n",
      "\u001b[0;32m~/opt/anaconda3/lib/python3.9/subprocess.py\u001b[0m in \u001b[0;36mrun\u001b[0;34m(input, capture_output, timeout, check, *popenargs, **kwargs)\u001b[0m\n\u001b[1;32m    527\u001b[0m         \u001b[0;32mif\u001b[0m \u001b[0mcheck\u001b[0m \u001b[0;32mand\u001b[0m \u001b[0mretcode\u001b[0m\u001b[0;34m:\u001b[0m\u001b[0;34m\u001b[0m\u001b[0;34m\u001b[0m\u001b[0m\n\u001b[0;32m--> 528\u001b[0;31m             raise CalledProcessError(retcode, process.args,\n\u001b[0m\u001b[1;32m    529\u001b[0m                                      output=stdout, stderr=stderr)\n",
      "\u001b[0;31mCalledProcessError\u001b[0m: Command 'wb_command -metric-resample /Users/amyhardy/neuromaps-data/annotations/hcps1200/megbeta/fsLR/source-hcps1200_desc-megbeta_space-fsLR_den-4k_hemi-L_feature.func.gii /Users/amyhardy/neuromaps-data/atlases/fsLR/tpl-fsLR_space-fsaverage_den-4k_hemi-L_sphere.surf.gii /Users/amyhardy/neuromaps-data/atlases/fsaverage/tpl-fsaverage_den-10k_hemi-L_sphere.surf.gii ADAP_BARY_AREA /var/folders/xx/2cg35yz508l9lkqk5qfq5ms80000gn/T/tmp_unj_kxv.func.gii -area-metrics /Users/amyhardy/neuromaps-data/atlases/fsLR/tpl-fsLR_den-4k_hemi-L_desc-vaavg_midthickness.shape.gii /Users/amyhardy/neuromaps-data/atlases/fsaverage/tpl-fsaverage_den-10k_hemi-L_desc-vaavg_midthickness.shape.gii -current-roi /Users/amyhardy/neuromaps-data/atlases/fsLR/tpl-fsLR_den-4k_hemi-L_desc-nomedialwall_dparc.label.gii' returned non-zero exit status 127.",
      "\nDuring handling of the above exception, another exception occurred:\n",
      "\u001b[0;31mSubprocessError\u001b[0m                           Traceback (most recent call last)",
      "\u001b[0;32m/var/folders/xx/2cg35yz508l9lkqk5qfq5ms80000gn/T/ipykernel_1447/3568627392.py\u001b[0m in \u001b[0;36m<module>\u001b[0;34m\u001b[0m\n\u001b[0;32m----> 1\u001b[0;31m \u001b[0mspatial_nulls\u001b[0m\u001b[0;34m(\u001b[0m\u001b[0mgenes\u001b[0m\u001b[0;34m[\u001b[0m\u001b[0;34m'apoe'\u001b[0m\u001b[0;34m]\u001b[0m\u001b[0;34m,\u001b[0m \u001b[0mbeta\u001b[0m\u001b[0;34m)\u001b[0m\u001b[0;34m\u001b[0m\u001b[0;34m\u001b[0m\u001b[0m\n\u001b[0m",
      "\u001b[0;32m/var/folders/xx/2cg35yz508l9lkqk5qfq5ms80000gn/T/ipykernel_1447/1899809310.py\u001b[0m in \u001b[0;36mspatial_nulls\u001b[0;34m(map1, map2)\u001b[0m\n\u001b[1;32m      4\u001b[0m \u001b[0;32mdef\u001b[0m \u001b[0mspatial_nulls\u001b[0m\u001b[0;34m(\u001b[0m\u001b[0mmap1\u001b[0m\u001b[0;34m,\u001b[0m \u001b[0mmap2\u001b[0m\u001b[0;34m)\u001b[0m\u001b[0;34m:\u001b[0m\u001b[0;34m\u001b[0m\u001b[0;34m\u001b[0m\u001b[0m\n\u001b[1;32m      5\u001b[0m     \u001b[0mfsav_map1\u001b[0m \u001b[0;34m=\u001b[0m \u001b[0mtransforms\u001b[0m\u001b[0;34m.\u001b[0m\u001b[0mmni152_to_fsaverage\u001b[0m\u001b[0;34m(\u001b[0m\u001b[0mmap1\u001b[0m\u001b[0;34m,\u001b[0m \u001b[0;34m'10k'\u001b[0m\u001b[0;34m)\u001b[0m\u001b[0;34m\u001b[0m\u001b[0;34m\u001b[0m\u001b[0m\n\u001b[0;32m----> 6\u001b[0;31m     \u001b[0mfsav_map2\u001b[0m \u001b[0;34m=\u001b[0m \u001b[0mtransforms\u001b[0m\u001b[0;34m.\u001b[0m\u001b[0mfslr_to_fsaverage\u001b[0m\u001b[0;34m(\u001b[0m\u001b[0mmap2\u001b[0m\u001b[0;34m,\u001b[0m \u001b[0;34m'10k'\u001b[0m\u001b[0;34m)\u001b[0m\u001b[0;34m\u001b[0m\u001b[0;34m\u001b[0m\u001b[0m\n\u001b[0m\u001b[1;32m      7\u001b[0m     \u001b[0mrotated\u001b[0m \u001b[0;34m=\u001b[0m \u001b[0mnulls\u001b[0m\u001b[0;34m.\u001b[0m\u001b[0malexander_bloch\u001b[0m\u001b[0;34m(\u001b[0m\u001b[0mfsav_map1\u001b[0m\u001b[0;34m,\u001b[0m \u001b[0matlas\u001b[0m\u001b[0;34m=\u001b[0m\u001b[0;34m'fsaverage'\u001b[0m\u001b[0;34m,\u001b[0m \u001b[0mdensity\u001b[0m\u001b[0;34m=\u001b[0m\u001b[0;34m'10k'\u001b[0m\u001b[0;34m,\u001b[0m \u001b[0mn_perm\u001b[0m\u001b[0;34m=\u001b[0m\u001b[0;36m100\u001b[0m\u001b[0;34m,\u001b[0m \u001b[0mseed\u001b[0m\u001b[0;34m=\u001b[0m\u001b[0;36m1234\u001b[0m\u001b[0;34m)\u001b[0m\u001b[0;34m\u001b[0m\u001b[0;34m\u001b[0m\u001b[0m\n\u001b[1;32m      8\u001b[0m     \u001b[0mcorr\u001b[0m\u001b[0;34m,\u001b[0m \u001b[0mpval\u001b[0m \u001b[0;34m=\u001b[0m \u001b[0mstats\u001b[0m\u001b[0;34m.\u001b[0m\u001b[0mcompare_images\u001b[0m\u001b[0;34m(\u001b[0m\u001b[0mfsav_map1\u001b[0m\u001b[0;34m,\u001b[0m \u001b[0mfsav_map2\u001b[0m\u001b[0;34m,\u001b[0m \u001b[0mnulls\u001b[0m\u001b[0;34m=\u001b[0m\u001b[0mrotated\u001b[0m\u001b[0;34m)\u001b[0m\u001b[0;34m\u001b[0m\u001b[0;34m\u001b[0m\u001b[0m\n",
      "\u001b[0;32m~/opt/anaconda3/lib/python3.9/site-packages/neuromaps/transforms.py\u001b[0m in \u001b[0;36mfslr_to_fsaverage\u001b[0;34m(data, target_density, hemi, method)\u001b[0m\n\u001b[1;32m    521\u001b[0m     \u001b[0msrcparams\u001b[0m \u001b[0;34m=\u001b[0m \u001b[0mdict\u001b[0m\u001b[0;34m(\u001b[0m\u001b[0mspace\u001b[0m\u001b[0;34m=\u001b[0m\u001b[0;34m'fsLR'\u001b[0m\u001b[0;34m,\u001b[0m \u001b[0mden\u001b[0m\u001b[0;34m=\u001b[0m\u001b[0mdensity\u001b[0m\u001b[0;34m,\u001b[0m \u001b[0mtrg\u001b[0m\u001b[0;34m=\u001b[0m\u001b[0;34m'_space-fsaverage'\u001b[0m\u001b[0;34m)\u001b[0m\u001b[0;34m\u001b[0m\u001b[0;34m\u001b[0m\u001b[0m\n\u001b[1;32m    522\u001b[0m     \u001b[0mtrgparams\u001b[0m \u001b[0;34m=\u001b[0m \u001b[0mdict\u001b[0m\u001b[0;34m(\u001b[0m\u001b[0mspace\u001b[0m\u001b[0;34m=\u001b[0m\u001b[0;34m'fsaverage'\u001b[0m\u001b[0;34m,\u001b[0m \u001b[0mden\u001b[0m\u001b[0;34m=\u001b[0m\u001b[0mtarget_density\u001b[0m\u001b[0;34m,\u001b[0m \u001b[0mtrg\u001b[0m\u001b[0;34m=\u001b[0m\u001b[0;34m''\u001b[0m\u001b[0;34m)\u001b[0m\u001b[0;34m\u001b[0m\u001b[0;34m\u001b[0m\u001b[0m\n\u001b[0;32m--> 523\u001b[0;31m     \u001b[0;32mreturn\u001b[0m \u001b[0m_surf_to_surf\u001b[0m\u001b[0;34m(\u001b[0m\u001b[0mdata\u001b[0m\u001b[0;34m,\u001b[0m \u001b[0msrcparams\u001b[0m\u001b[0;34m,\u001b[0m \u001b[0mtrgparams\u001b[0m\u001b[0;34m,\u001b[0m \u001b[0mmethod\u001b[0m\u001b[0;34m,\u001b[0m \u001b[0mhemi\u001b[0m\u001b[0;34m)\u001b[0m\u001b[0;34m\u001b[0m\u001b[0;34m\u001b[0m\u001b[0m\n\u001b[0m\u001b[1;32m    524\u001b[0m \u001b[0;34m\u001b[0m\u001b[0m\n\u001b[1;32m    525\u001b[0m \u001b[0;34m\u001b[0m\u001b[0m\n",
      "\u001b[0;32m~/opt/anaconda3/lib/python3.9/site-packages/neuromaps/transforms.py\u001b[0m in \u001b[0;36m_surf_to_surf\u001b[0;34m(data, srcparams, trgparams, method, hemi)\u001b[0m\n\u001b[1;32m    370\u001b[0m         )\n\u001b[1;32m    371\u001b[0m         \u001b[0;32mfor\u001b[0m \u001b[0mfn\u001b[0m \u001b[0;32min\u001b[0m \u001b[0;34m(\u001b[0m\u001b[0mfunc\u001b[0m\u001b[0;34m,\u001b[0m \u001b[0mMASKSURF\u001b[0m\u001b[0;34m)\u001b[0m\u001b[0;34m:\u001b[0m\u001b[0;34m\u001b[0m\u001b[0;34m\u001b[0m\u001b[0m\n\u001b[0;32m--> 372\u001b[0;31m             \u001b[0mrun\u001b[0m\u001b[0;34m(\u001b[0m\u001b[0mfn\u001b[0m\u001b[0;34m.\u001b[0m\u001b[0mformat\u001b[0m\u001b[0;34m(\u001b[0m\u001b[0;34m**\u001b[0m\u001b[0mparams\u001b[0m\u001b[0;34m)\u001b[0m\u001b[0;34m,\u001b[0m \u001b[0mquiet\u001b[0m\u001b[0;34m=\u001b[0m\u001b[0;32mTrue\u001b[0m\u001b[0;34m)\u001b[0m\u001b[0;34m\u001b[0m\u001b[0;34m\u001b[0m\u001b[0m\n\u001b[0m\u001b[1;32m    373\u001b[0m         \u001b[0mresampled\u001b[0m \u001b[0;34m+=\u001b[0m \u001b[0;34m(\u001b[0m\u001b[0mconstruct_shape_gii\u001b[0m\u001b[0;34m(\u001b[0m\u001b[0mload_data\u001b[0m\u001b[0;34m(\u001b[0m\u001b[0mparams\u001b[0m\u001b[0;34m[\u001b[0m\u001b[0;34m'out'\u001b[0m\u001b[0;34m]\u001b[0m\u001b[0;34m)\u001b[0m\u001b[0;34m)\u001b[0m\u001b[0;34m,\u001b[0m\u001b[0;34m)\u001b[0m\u001b[0;34m\u001b[0m\u001b[0;34m\u001b[0m\u001b[0m\n\u001b[1;32m    374\u001b[0m         \u001b[0mparams\u001b[0m\u001b[0;34m[\u001b[0m\u001b[0;34m'out'\u001b[0m\u001b[0;34m]\u001b[0m\u001b[0;34m.\u001b[0m\u001b[0munlink\u001b[0m\u001b[0;34m(\u001b[0m\u001b[0;34m)\u001b[0m\u001b[0;34m\u001b[0m\u001b[0;34m\u001b[0m\u001b[0m\n",
      "\u001b[0;32m~/opt/anaconda3/lib/python3.9/site-packages/neuromaps/utils.py\u001b[0m in \u001b[0;36mrun\u001b[0;34m(cmd, env, return_proc, quiet, **kwargs)\u001b[0m\n\u001b[1;32m     82\u001b[0m         \u001b[0mproc\u001b[0m \u001b[0;34m=\u001b[0m \u001b[0msubprocess\u001b[0m\u001b[0;34m.\u001b[0m\u001b[0mrun\u001b[0m\u001b[0;34m(\u001b[0m\u001b[0mcmd\u001b[0m\u001b[0;34m,\u001b[0m \u001b[0menv\u001b[0m\u001b[0;34m=\u001b[0m\u001b[0mmerged_env\u001b[0m\u001b[0;34m,\u001b[0m \u001b[0;34m**\u001b[0m\u001b[0mopts\u001b[0m\u001b[0;34m)\u001b[0m\u001b[0;34m\u001b[0m\u001b[0;34m\u001b[0m\u001b[0m\n\u001b[1;32m     83\u001b[0m     \u001b[0;32mexcept\u001b[0m \u001b[0msubprocess\u001b[0m\u001b[0;34m.\u001b[0m\u001b[0mCalledProcessError\u001b[0m \u001b[0;32mas\u001b[0m \u001b[0merr\u001b[0m\u001b[0;34m:\u001b[0m\u001b[0;34m\u001b[0m\u001b[0;34m\u001b[0m\u001b[0m\n\u001b[0;32m---> 84\u001b[0;31m         raise subprocess.SubprocessError(\n\u001b[0m\u001b[1;32m     85\u001b[0m             \u001b[0;34mf'Command failed with non-zero exit status {err.returncode}. '\u001b[0m\u001b[0;34m\u001b[0m\u001b[0;34m\u001b[0m\u001b[0m\n\u001b[1;32m     86\u001b[0m             \u001b[0;34mf'Error traceback: \"{err.stderr.strip()}\"'\u001b[0m\u001b[0;34m\u001b[0m\u001b[0;34m\u001b[0m\u001b[0m\n",
      "\u001b[0;31mSubprocessError\u001b[0m: Command failed with non-zero exit status 127. Error traceback: \"/bin/sh: wb_command: command not found\""
     ]
    }
   ],
   "source": [
    "spatial_nulls(genes['apoe'], beta)"
   ]
  },
  {
   "cell_type": "code",
   "execution_count": null,
   "id": "d9381be3",
   "metadata": {},
   "outputs": [],
   "source": []
  }
 ],
 "metadata": {
  "kernelspec": {
   "display_name": "Python 3 (ipykernel)",
   "language": "python",
   "name": "python3"
  },
  "language_info": {
   "codemirror_mode": {
    "name": "ipython",
    "version": 3
   },
   "file_extension": ".py",
   "mimetype": "text/x-python",
   "name": "python",
   "nbconvert_exporter": "python",
   "pygments_lexer": "ipython3",
   "version": "3.9.7"
  }
 },
 "nbformat": 4,
 "nbformat_minor": 5
}
