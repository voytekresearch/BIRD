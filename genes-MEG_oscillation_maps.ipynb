{
 "cells": [
  {
   "cell_type": "markdown",
   "id": "3cdd10a9",
   "metadata": {},
   "source": [
    "### "
   ]
  },
  {
   "cell_type": "code",
   "execution_count": 1,
   "id": "afc65f05",
   "metadata": {},
   "outputs": [],
   "source": [
    "import nibabel as nib\n",
    "from neuromaps import nulls\n",
    "from neuromaps import stats\n",
    "from neuromaps import transforms\n",
    "from neuromaps import datasets\n",
    "from neuromaps.datasets import available_tags, available_annotations, fetch_annotation"
   ]
  },
  {
   "cell_type": "code",
   "execution_count": 2,
   "id": "8ed77ea8",
   "metadata": {},
   "outputs": [
    {
     "name": "stdout",
     "output_type": "stream",
     "text": [
      "('hcps1200', 'megalpha', 'fsLR', '4k')\n",
      "('hcps1200', 'megbeta', 'fsLR', '4k')\n",
      "('hcps1200', 'megdelta', 'fsLR', '4k')\n",
      "('hcps1200', 'meggamma1', 'fsLR', '4k')\n",
      "('hcps1200', 'meggamma2', 'fsLR', '4k')\n",
      "('hcps1200', 'megtheta', 'fsLR', '4k')\n",
      "('hcps1200', 'megtimescale', 'fsLR', '4k')\n"
     ]
    }
   ],
   "source": [
    "for annotation in available_annotations(tags=['MEG']):\n",
    "    print(annotation)"
   ]
  },
  {
   "cell_type": "code",
   "execution_count": 39,
   "id": "2a593481",
   "metadata": {},
   "outputs": [],
   "source": [
    "megalpha = fetch_annotation(source='hcps1200', desc ='megalpha')\n",
    "megbeta = fetch_annotation(source='hcps1200', desc ='megbeta')\n",
    "megdelta = fetch_annotation(source='hcps1200', desc ='megdelta')\n",
    "meggamma1 = fetch_annotation(source='hcps1200', desc ='meggamma1')\n",
    "meggamma2 = fetch_annotation(source='hcps1200', desc ='meggamma2')\n",
    "megtheta = fetch_annotation(source='hcps1200', desc ='megtheta')\n",
    "megtimescale = fetch_annotation(source='hcps1200', desc ='megtimescale')\n",
    "\n",
    "myelinmap = fetch_annotation(source='hcps1200', desc='myelinmap')\n",
    "thickness = fetch_annotation(source='hcps1200', desc='thickness')"
   ]
  },
  {
   "cell_type": "code",
   "execution_count": 18,
   "id": "8e5092d0",
   "metadata": {},
   "outputs": [],
   "source": [
    "# terms\n",
    "AD_association = nib.load('neurosynth_maps/terms/alzheimer_association-test_z_FDR_0.01.nii')\n",
    "age = nib.load('neurosynth_maps/terms/age_uniformity-test_z_FDR_0.01.nii')\n",
    "memory = nib.load('neurosynth_maps/terms/memory_association-test_z_FDR_0.01.nii')\n",
    "\n",
    "# topics\n",
    "topic377 = nib.load('neurosynth_maps/topics/v4-topics-400_377_ad_disease_mci_association-test_z_FDR_0.01.nii')"
   ]
  },
  {
   "cell_type": "code",
   "execution_count": 13,
   "id": "586f415e",
   "metadata": {},
   "outputs": [],
   "source": [
    "genes = {\n",
    "    'apoe': nib.load('neurosynth_maps/genes/gene_345_APOE_348.0.nii'),\n",
    "    'app': nib.load('neurosynth_maps/genes/gene_348_APP_351.0.nii'),\n",
    "    'lrp1': nib.load('neurosynth_maps/genes/gene_4010_LRP1_4035.0.nii'),\n",
    "    'trem2': nib.load('neurosynth_maps/genes/gene_33501_TREM2_54209.0.nii'),\n",
    "    'clu': nib.load('neurosynth_maps/genes/gene_1182_CLU_1191.0.nii'),\n",
    "    'fox': nib.load('neurosynth_maps/genes/gene_60868_FOXQ1_94234.0.nii'),\n",
    "    'plc': nib.load('neurosynth_maps/genes/gene_5300_PLCB4_5332.0.nii'),\n",
    "    'exo': nib.load('neurosynth_maps/genes/gene_59887_EXOC3L2_90332.0.nii'),\n",
    "    'sdsl': nib.load('neurosynth_maps/genes/gene_76678_SDSL_113675.0.nii'),\n",
    "    'hs3st5': nib.load('neurosynth_maps/genes/gene_85856_HS3ST5_222537.0.nii'),\n",
    "    'crabp1': nib.load('neurosynth_maps/genes/gene_1372_CRABP1_1381.0.nii'),\n",
    "    'gadd45b': nib.load('neurosynth_maps/genes/gene_4590_GADD45B_4616.0.nii')\n",
    "}"
   ]
  },
  {
   "cell_type": "code",
   "execution_count": 11,
   "id": "c3120fc4",
   "metadata": {},
   "outputs": [],
   "source": [
    "# edited for fslr\n",
    "\n",
    "def spatial_nulls(map1, map2):\n",
    "    fsav_map1 = transforms.mni152_to_fsaverage(map1, '10k')\n",
    "    fsav_map2 = transforms.fslr_to_fsaverage(map2, '10k')\n",
    "    rotated = nulls.alexander_bloch(fsav_map1, atlas='fsaverage', density='10k', n_perm=100, seed=1234)\n",
    "    corr, pval = stats.compare_images(fsav_map1, fsav_map2, nulls=rotated)\n",
    "    return (f'r = {corr:.3f}, p = {pval:.3f}')"
   ]
  },
  {
   "cell_type": "code",
   "execution_count": 8,
   "id": "e649ed57",
   "metadata": {},
   "outputs": [
    {
     "data": {
      "text/plain": [
       "'r = -0.056, p = 0.851'"
      ]
     },
     "execution_count": 8,
     "metadata": {},
     "output_type": "execute_result"
    }
   ],
   "source": [
    "spatial_nulls(genes['apoe'], megbeta)"
   ]
  },
  {
   "cell_type": "code",
   "execution_count": 13,
   "id": "c39f62ad",
   "metadata": {},
   "outputs": [
    {
     "name": "stdout",
     "output_type": "stream",
     "text": [
      "APOE <-> megalpha:  r = -0.076, p = 0.743\n",
      "APP <-> megalpha:  r = -0.016, p = 0.861\n",
      "LRP1 <-> megalpha:  r = 0.016, p = 0.931\n",
      "TREM2 <-> megalpha:  r = -0.197, p = 0.208\n",
      "CLU <-> megalpha:  r = -0.219, p = 0.069\n",
      "FOX <-> megalpha:  r = 0.112, p = 0.545\n",
      "PLC <-> megalpha:  r = 0.217, p = 0.010\n",
      "EXO <-> megalpha:  r = 0.107, p = 0.525\n",
      "SDSL <-> megalpha:  r = 0.129, p = 0.624\n",
      "HS3ST5 <-> megalpha:  r = 0.036, p = 0.960\n",
      "CRABP1 <-> megalpha:  r = 0.239, p = 0.010\n",
      "GADD45B <-> megalpha:  r = 0.197, p = 0.020\n"
     ]
    }
   ],
   "source": [
    "# correlation with all genes and megalpha\n",
    "\n",
    "for gene in genes:\n",
    "    output = spatial_nulls(genes[gene], megalpha)\n",
    "    print(gene.upper(), '<-> megalpha: ', output)"
   ]
  },
  {
   "cell_type": "code",
   "execution_count": 14,
   "id": "746330ea",
   "metadata": {},
   "outputs": [
    {
     "name": "stdout",
     "output_type": "stream",
     "text": [
      "APOE <-> megbeta:  r = -0.056, p = 0.851\n",
      "APP <-> megbeta:  r = -0.041, p = 0.644\n",
      "LRP1 <-> megbeta:  r = 0.016, p = 0.931\n",
      "TREM2 <-> megbeta:  r = 0.142, p = 0.485\n",
      "CLU <-> megbeta:  r = 0.157, p = 0.198\n",
      "FOX <-> megbeta:  r = 0.068, p = 0.762\n",
      "PLC <-> megbeta:  r = 0.183, p = 0.050\n",
      "EXO <-> megbeta:  r = 0.052, p = 0.832\n",
      "SDSL <-> megbeta:  r = 0.478, p = 0.010\n",
      "HS3ST5 <-> megbeta:  r = 0.338, p = 0.257\n",
      "CRABP1 <-> megbeta:  r = 0.205, p = 0.020\n",
      "GADD45B <-> megbeta:  r = 0.213, p = 0.010\n"
     ]
    }
   ],
   "source": [
    "# correlation with all genes and megbeta\n",
    "\n",
    "for gene in genes:\n",
    "    output = spatial_nulls(genes[gene], megbeta)\n",
    "    print(gene.upper(), '<-> megbeta: ', output)"
   ]
  },
  {
   "cell_type": "code",
   "execution_count": 15,
   "id": "95222193",
   "metadata": {},
   "outputs": [
    {
     "name": "stdout",
     "output_type": "stream",
     "text": [
      "APOE <-> megdelta:  r = 0.118, p = 0.723\n",
      "APP <-> megdelta:  r = 0.032, p = 0.802\n",
      "LRP1 <-> megdelta:  r = -0.015, p = 0.941\n",
      "TREM2 <-> megdelta:  r = 0.122, p = 0.465\n",
      "CLU <-> megdelta:  r = 0.120, p = 0.446\n",
      "FOX <-> megdelta:  r = -0.148, p = 0.386\n",
      "PLC <-> megdelta:  r = -0.295, p = 0.010\n",
      "EXO <-> megdelta:  r = -0.133, p = 0.436\n",
      "SDSL <-> megdelta:  r = -0.392, p = 0.040\n",
      "HS3ST5 <-> megdelta:  r = -0.233, p = 0.614\n",
      "CRABP1 <-> megdelta:  r = -0.315, p = 0.010\n",
      "GADD45B <-> megdelta:  r = -0.302, p = 0.010\n"
     ]
    }
   ],
   "source": [
    "# correlation with all genes and megdelta\n",
    "\n",
    "for gene in genes:\n",
    "    output = spatial_nulls(genes[gene], megdelta)\n",
    "    print(gene.upper(), '<-> megdelta: ', output)"
   ]
  },
  {
   "cell_type": "code",
   "execution_count": 16,
   "id": "23786123",
   "metadata": {},
   "outputs": [
    {
     "name": "stdout",
     "output_type": "stream",
     "text": [
      "APOE <-> meggamma1:  r = 0.047, p = 0.842\n",
      "APP <-> meggamma1:  r = 0.010, p = 0.911\n",
      "LRP1 <-> meggamma1:  r = -0.016, p = 0.891\n",
      "TREM2 <-> meggamma1:  r = 0.199, p = 0.129\n",
      "CLU <-> meggamma1:  r = 0.203, p = 0.020\n",
      "FOX <-> meggamma1:  r = -0.106, p = 0.515\n",
      "PLC <-> meggamma1:  r = -0.171, p = 0.069\n",
      "EXO <-> meggamma1:  r = -0.113, p = 0.495\n",
      "SDSL <-> meggamma1:  r = -0.072, p = 0.782\n",
      "HS3ST5 <-> meggamma1:  r = -0.029, p = 0.911\n",
      "CRABP1 <-> meggamma1:  r = -0.174, p = 0.040\n",
      "GADD45B <-> meggamma1:  r = -0.148, p = 0.089\n"
     ]
    }
   ],
   "source": [
    "# correlation with all genes and meggamma1\n",
    "\n",
    "for gene in genes:\n",
    "    output = spatial_nulls(genes[gene], meggamma1)\n",
    "    print(gene.upper(), '<-> meggamma1: ', output)"
   ]
  },
  {
   "cell_type": "code",
   "execution_count": 17,
   "id": "f6a0dcb6",
   "metadata": {},
   "outputs": [
    {
     "name": "stdout",
     "output_type": "stream",
     "text": [
      "APOE <-> meggamma2:  r = 0.106, p = 0.683\n",
      "APP <-> meggamma2:  r = 0.055, p = 0.446\n",
      "LRP1 <-> meggamma2:  r = -0.019, p = 0.931\n",
      "TREM2 <-> meggamma2:  r = 0.116, p = 0.396\n",
      "CLU <-> meggamma2:  r = 0.081, p = 0.515\n",
      "FOX <-> meggamma2:  r = -0.157, p = 0.208\n",
      "PLC <-> meggamma2:  r = -0.283, p = 0.010\n",
      "EXO <-> meggamma2:  r = -0.136, p = 0.287\n",
      "SDSL <-> meggamma2:  r = -0.380, p = 0.030\n",
      "HS3ST5 <-> meggamma2:  r = -0.275, p = 0.356\n",
      "CRABP1 <-> meggamma2:  r = -0.283, p = 0.010\n",
      "GADD45B <-> meggamma2:  r = -0.295, p = 0.010\n"
     ]
    }
   ],
   "source": [
    "# correlation with all genes and meggamma2\n",
    "\n",
    "for gene in genes:\n",
    "    output = spatial_nulls(genes[gene], meggamma2)\n",
    "    print(gene.upper(), '<-> meggamma2: ', output)"
   ]
  },
  {
   "cell_type": "code",
   "execution_count": 18,
   "id": "ad269eb7",
   "metadata": {},
   "outputs": [
    {
     "name": "stdout",
     "output_type": "stream",
     "text": [
      "APOE <-> megtheta:  r = 0.018, p = 0.960\n",
      "APP <-> megtheta:  r = 0.004, p = 0.970\n",
      "LRP1 <-> megtheta:  r = -0.021, p = 0.911\n",
      "TREM2 <-> megtheta:  r = 0.175, p = 0.277\n",
      "CLU <-> megtheta:  r = 0.228, p = 0.059\n",
      "FOX <-> megtheta:  r = -0.051, p = 0.772\n",
      "PLC <-> megtheta:  r = -0.122, p = 0.228\n",
      "EXO <-> megtheta:  r = -0.055, p = 0.792\n",
      "SDSL <-> megtheta:  r = 0.075, p = 0.772\n",
      "HS3ST5 <-> megtheta:  r = 0.120, p = 0.723\n",
      "CRABP1 <-> megtheta:  r = -0.158, p = 0.040\n",
      "GADD45B <-> megtheta:  r = -0.080, p = 0.436\n"
     ]
    }
   ],
   "source": [
    "# correlation with all genes and megtheta\n",
    "\n",
    "for gene in genes:\n",
    "    output = spatial_nulls(genes[gene], megtheta)\n",
    "    print(gene.upper(), '<-> megtheta: ', output)"
   ]
  },
  {
   "cell_type": "code",
   "execution_count": 19,
   "id": "7e8f47fb",
   "metadata": {},
   "outputs": [
    {
     "name": "stdout",
     "output_type": "stream",
     "text": [
      "APOE <-> megtimescale:  r = 0.113, p = 0.663\n",
      "APP <-> megtimescale:  r = 0.053, p = 0.505\n",
      "LRP1 <-> megtimescale:  r = -0.009, p = 0.980\n",
      "TREM2 <-> megtimescale:  r = 0.118, p = 0.485\n",
      "CLU <-> megtimescale:  r = 0.112, p = 0.406\n",
      "FOX <-> megtimescale:  r = -0.116, p = 0.446\n",
      "PLC <-> megtimescale:  r = -0.277, p = 0.010\n",
      "EXO <-> megtimescale:  r = -0.140, p = 0.317\n",
      "SDSL <-> megtimescale:  r = -0.373, p = 0.040\n",
      "HS3ST5 <-> megtimescale:  r = -0.249, p = 0.515\n",
      "CRABP1 <-> megtimescale:  r = -0.306, p = 0.010\n",
      "GADD45B <-> megtimescale:  r = -0.299, p = 0.010\n"
     ]
    }
   ],
   "source": [
    "# correlation with all genes and megtimescale\n",
    "\n",
    "for gene in genes:\n",
    "    output = spatial_nulls(genes[gene], megtimescale)\n",
    "    print(gene.upper(), '<-> megtimescale: ', output)"
   ]
  },
  {
   "cell_type": "code",
   "execution_count": null,
   "id": "675f9e3d",
   "metadata": {},
   "outputs": [],
   "source": []
  },
  {
   "cell_type": "code",
   "execution_count": 21,
   "id": "f64c220e",
   "metadata": {},
   "outputs": [
    {
     "name": "stdout",
     "output_type": "stream",
     "text": [
      "AD_association <-> megalpha:  r = -0.030, p = 0.683\n"
     ]
    }
   ],
   "source": [
    "# megalpha and AD_association\n",
    "output1 = spatial_nulls(AD_association, megalpha)\n",
    "print('AD_association <-> megalpha: ', output1)"
   ]
  },
  {
   "cell_type": "code",
   "execution_count": 23,
   "id": "72089eb8",
   "metadata": {},
   "outputs": [
    {
     "name": "stdout",
     "output_type": "stream",
     "text": [
      "AD_association <-> megbeta:  r = -0.235, p = 0.059\n"
     ]
    }
   ],
   "source": [
    "# megbeta and AD_association\n",
    "output2 = spatial_nulls(AD_association, megbeta)\n",
    "print('AD_association <-> megbeta: ', output2)"
   ]
  },
  {
   "cell_type": "code",
   "execution_count": 27,
   "id": "7b3a7b36",
   "metadata": {},
   "outputs": [
    {
     "name": "stdout",
     "output_type": "stream",
     "text": [
      "AD_association <-> megbeta:  r = -0.235, p = 0.059\n"
     ]
    }
   ],
   "source": [
    "# megbeta and AD_association\n",
    "output2 = spatial_nulls(AD_association, megbeta)\n",
    "print('AD_association <-> megbeta: ', output2)"
   ]
  },
  {
   "cell_type": "code",
   "execution_count": 26,
   "id": "99cf2cf9",
   "metadata": {},
   "outputs": [
    {
     "name": "stdout",
     "output_type": "stream",
     "text": [
      "AD_association <-> megdelta:  r = 0.126, p = 0.188\n"
     ]
    }
   ],
   "source": [
    "# megdelta and AD_association\n",
    "output3 = spatial_nulls(AD_association, megdelta)\n",
    "print('AD_association <-> megdelta: ', output3)"
   ]
  },
  {
   "cell_type": "code",
   "execution_count": 28,
   "id": "9ab3b7ea",
   "metadata": {},
   "outputs": [
    {
     "name": "stdout",
     "output_type": "stream",
     "text": [
      "AD_association <-> meggamma1:  r = 0.021, p = 0.703\n"
     ]
    }
   ],
   "source": [
    "# meggamma1 and AD_association\n",
    "output4 = spatial_nulls(AD_association, meggamma1)\n",
    "print('AD_association <-> meggamma1: ', output4)"
   ]
  },
  {
   "cell_type": "code",
   "execution_count": 29,
   "id": "49363180",
   "metadata": {},
   "outputs": [
    {
     "name": "stdout",
     "output_type": "stream",
     "text": [
      "AD_association <-> meggamma2:  r = 0.140, p = 0.089\n"
     ]
    }
   ],
   "source": [
    "# meggamma2 and AD_association\n",
    "output5 = spatial_nulls(AD_association, meggamma2)\n",
    "print('AD_association <-> meggamma2: ', output5)"
   ]
  },
  {
   "cell_type": "code",
   "execution_count": 30,
   "id": "13e7f0b8",
   "metadata": {},
   "outputs": [
    {
     "name": "stdout",
     "output_type": "stream",
     "text": [
      "AD_association <-> megtheta:  r = -0.117, p = 0.158\n"
     ]
    }
   ],
   "source": [
    "# megtheta and AD_association\n",
    "output6 = spatial_nulls(AD_association, megtheta)\n",
    "print('AD_association <-> megtheta: ', output6)"
   ]
  },
  {
   "cell_type": "code",
   "execution_count": 31,
   "id": "523839bc",
   "metadata": {},
   "outputs": [
    {
     "name": "stdout",
     "output_type": "stream",
     "text": [
      "AD_association <-> megtimescale:  r = 0.077, p = 0.366\n"
     ]
    }
   ],
   "source": [
    "# megtimescale and AD_association\n",
    "output7 = spatial_nulls(AD_association, megtimescale)\n",
    "print('AD_association <-> megtimescale: ', output7)"
   ]
  },
  {
   "cell_type": "code",
   "execution_count": 34,
   "id": "a5dc444f",
   "metadata": {},
   "outputs": [
    {
     "name": "stdout",
     "output_type": "stream",
     "text": [
      "AD_association <-> myelinmap:  r = -0.152, p = 0.069\n"
     ]
    }
   ],
   "source": [
    "# myelinmap and AD_association\n",
    "output8 = spatial_nulls(AD_association, myelinmap)\n",
    "print('AD_association <-> myelinmap: ', output8)"
   ]
  },
  {
   "cell_type": "code",
   "execution_count": 36,
   "id": "ad753c5c",
   "metadata": {},
   "outputs": [
    {
     "name": "stdout",
     "output_type": "stream",
     "text": [
      "AD_association <-> thickness:  r = 0.231, p = 0.020\n"
     ]
    }
   ],
   "source": [
    "# thickness and AD_association\n",
    "output9 = spatial_nulls(AD_association, thickness)\n",
    "print('AD_association <-> thickness: ', output9)"
   ]
  },
  {
   "cell_type": "code",
   "execution_count": 38,
   "id": "0530a223",
   "metadata": {},
   "outputs": [
    {
     "name": "stdout",
     "output_type": "stream",
     "text": [
      "age <-> meggamma1:  r = -0.045, p = 0.673\n",
      "age <-> meggamma2:  r = -0.223, p = 0.010\n"
     ]
    }
   ],
   "source": [
    "# meggamma1 and age\n",
    "output10 = spatial_nulls(age, meggamma1)\n",
    "print('age <-> meggamma1: ', output10)\n",
    "\n",
    "# meggamma2 and age\n",
    "output11 = spatial_nulls(age, meggamma2)\n",
    "print('age <-> meggamma2: ', output11)"
   ]
  }
 ],
 "metadata": {
  "kernelspec": {
   "display_name": "Python 3 (ipykernel)",
   "language": "python",
   "name": "python3"
  },
  "language_info": {
   "codemirror_mode": {
    "name": "ipython",
    "version": 3
   },
   "file_extension": ".py",
   "mimetype": "text/x-python",
   "name": "python",
   "nbconvert_exporter": "python",
   "pygments_lexer": "ipython3",
   "version": "3.9.7"
  }
 },
 "nbformat": 4,
 "nbformat_minor": 5
}
