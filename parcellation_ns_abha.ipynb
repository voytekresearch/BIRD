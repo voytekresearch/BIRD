{
 "cells": [
  {
   "cell_type": "markdown",
   "id": "a9006bde",
   "metadata": {},
   "source": [
    "### just random shit for the most part"
   ]
  },
  {
   "cell_type": "code",
   "execution_count": 46,
   "id": "6c7e8c85",
   "metadata": {},
   "outputs": [],
   "source": [
    "import pandas as pd\n",
    "import abagen\n",
    "import nibabel as nib\n",
    "import numpy as np\n",
    "import matplotlib.pyplot as plt"
   ]
  },
  {
   "cell_type": "code",
   "execution_count": 2,
   "id": "2affb984",
   "metadata": {},
   "outputs": [],
   "source": [
    "files = abagen.fetch_microarray(donors='all', verbose=0)"
   ]
  },
  {
   "cell_type": "code",
   "execution_count": 3,
   "id": "9b4b35f0",
   "metadata": {},
   "outputs": [],
   "source": [
    "atlas = abagen.fetch_desikan_killiany()"
   ]
  },
  {
   "cell_type": "code",
   "execution_count": 4,
   "id": "0888e3af",
   "metadata": {},
   "outputs": [
    {
     "data": {
      "text/html": [
       "<div>\n",
       "<style scoped>\n",
       "    .dataframe tbody tr th:only-of-type {\n",
       "        vertical-align: middle;\n",
       "    }\n",
       "\n",
       "    .dataframe tbody tr th {\n",
       "        vertical-align: top;\n",
       "    }\n",
       "\n",
       "    .dataframe thead th {\n",
       "        text-align: right;\n",
       "    }\n",
       "</style>\n",
       "<table border=\"1\" class=\"dataframe\">\n",
       "  <thead>\n",
       "    <tr style=\"text-align: right;\">\n",
       "      <th></th>\n",
       "      <th>id</th>\n",
       "      <th>label</th>\n",
       "      <th>hemisphere</th>\n",
       "      <th>structure</th>\n",
       "    </tr>\n",
       "  </thead>\n",
       "  <tbody>\n",
       "    <tr>\n",
       "      <th>0</th>\n",
       "      <td>1</td>\n",
       "      <td>bankssts</td>\n",
       "      <td>L</td>\n",
       "      <td>cortex</td>\n",
       "    </tr>\n",
       "    <tr>\n",
       "      <th>1</th>\n",
       "      <td>2</td>\n",
       "      <td>caudalanteriorcingulate</td>\n",
       "      <td>L</td>\n",
       "      <td>cortex</td>\n",
       "    </tr>\n",
       "    <tr>\n",
       "      <th>2</th>\n",
       "      <td>3</td>\n",
       "      <td>caudalmiddlefrontal</td>\n",
       "      <td>L</td>\n",
       "      <td>cortex</td>\n",
       "    </tr>\n",
       "    <tr>\n",
       "      <th>3</th>\n",
       "      <td>4</td>\n",
       "      <td>cuneus</td>\n",
       "      <td>L</td>\n",
       "      <td>cortex</td>\n",
       "    </tr>\n",
       "    <tr>\n",
       "      <th>4</th>\n",
       "      <td>5</td>\n",
       "      <td>entorhinal</td>\n",
       "      <td>L</td>\n",
       "      <td>cortex</td>\n",
       "    </tr>\n",
       "    <tr>\n",
       "      <th>...</th>\n",
       "      <td>...</td>\n",
       "      <td>...</td>\n",
       "      <td>...</td>\n",
       "      <td>...</td>\n",
       "    </tr>\n",
       "    <tr>\n",
       "      <th>78</th>\n",
       "      <td>79</td>\n",
       "      <td>pallidum</td>\n",
       "      <td>R</td>\n",
       "      <td>subcortex/brainstem</td>\n",
       "    </tr>\n",
       "    <tr>\n",
       "      <th>79</th>\n",
       "      <td>80</td>\n",
       "      <td>accumbensarea</td>\n",
       "      <td>R</td>\n",
       "      <td>subcortex/brainstem</td>\n",
       "    </tr>\n",
       "    <tr>\n",
       "      <th>80</th>\n",
       "      <td>81</td>\n",
       "      <td>hippocampus</td>\n",
       "      <td>R</td>\n",
       "      <td>subcortex/brainstem</td>\n",
       "    </tr>\n",
       "    <tr>\n",
       "      <th>81</th>\n",
       "      <td>82</td>\n",
       "      <td>amygdala</td>\n",
       "      <td>R</td>\n",
       "      <td>subcortex/brainstem</td>\n",
       "    </tr>\n",
       "    <tr>\n",
       "      <th>82</th>\n",
       "      <td>83</td>\n",
       "      <td>brainstem</td>\n",
       "      <td>B</td>\n",
       "      <td>subcortex/brainstem</td>\n",
       "    </tr>\n",
       "  </tbody>\n",
       "</table>\n",
       "<p>83 rows × 4 columns</p>\n",
       "</div>"
      ],
      "text/plain": [
       "    id                    label hemisphere            structure\n",
       "0    1                 bankssts          L               cortex\n",
       "1    2  caudalanteriorcingulate          L               cortex\n",
       "2    3      caudalmiddlefrontal          L               cortex\n",
       "3    4                   cuneus          L               cortex\n",
       "4    5               entorhinal          L               cortex\n",
       "..  ..                      ...        ...                  ...\n",
       "78  79                 pallidum          R  subcortex/brainstem\n",
       "79  80            accumbensarea          R  subcortex/brainstem\n",
       "80  81              hippocampus          R  subcortex/brainstem\n",
       "81  82                 amygdala          R  subcortex/brainstem\n",
       "82  83                brainstem          B  subcortex/brainstem\n",
       "\n",
       "[83 rows x 4 columns]"
      ]
     },
     "execution_count": 4,
     "metadata": {},
     "output_type": "execute_result"
    }
   ],
   "source": [
    "csv = pd.read_csv('atlas-desikankilliany.csv')\n",
    "csv"
   ]
  },
  {
   "cell_type": "code",
   "execution_count": 6,
   "id": "b8d02d5a",
   "metadata": {},
   "outputs": [],
   "source": [
    "from neuromaps.parcellate import Parcellater\n",
    "parc = Parcellater(atlas['image'], 'mni152')"
   ]
  },
  {
   "cell_type": "code",
   "execution_count": 9,
   "id": "123830a3",
   "metadata": {},
   "outputs": [],
   "source": [
    "AD_association = nib.load('neurosynth_maps/alzheimer_association-test_z_FDR_0.01.nii')\n",
    "AD_parc = parc.fit_transform(AD_association, 'mni152')"
   ]
  },
  {
   "cell_type": "code",
   "execution_count": 11,
   "id": "a5969bf1",
   "metadata": {},
   "outputs": [
    {
     "data": {
      "text/plain": [
       "array([[0.00000000e+00, 0.00000000e+00, 2.91863150e-03, 0.00000000e+00,\n",
       "        1.64627017e+00, 4.59790482e-01, 1.38213308e-02, 5.79417904e-01,\n",
       "        2.62167892e-01, 0.00000000e+00, 1.04059678e-01, 3.31995570e-02,\n",
       "        3.60654746e-02, 5.72723241e-02, 5.69602056e-01, 0.00000000e+00,\n",
       "        0.00000000e+00, 0.00000000e+00, 0.00000000e+00, 0.00000000e+00,\n",
       "        0.00000000e+00, 0.00000000e+00, 0.00000000e+00, 2.27331312e-02,\n",
       "        0.00000000e+00, 2.60600581e-02, 0.00000000e+00, 8.34672965e-03,\n",
       "        3.33454119e-03, 0.00000000e+00, 8.93536710e-02, 2.15374929e-02,\n",
       "        0.00000000e+00, 3.20790872e-03, 9.03024779e-03, 0.00000000e+00,\n",
       "        3.86514218e-03, 0.00000000e+00, 0.00000000e+00, 1.42934426e+00,\n",
       "        1.01591404e-02, 0.00000000e+00, 0.00000000e+00, 2.88764021e-02,\n",
       "        7.52982528e-03, 1.45518436e-01, 3.20178280e-01, 0.00000000e+00,\n",
       "        2.22360409e-01, 1.00467291e-01, 0.00000000e+00, 1.37511678e-02,\n",
       "        1.85928170e-02, 1.53864102e-01, 7.87606711e-03, 1.58948877e-01,\n",
       "        0.00000000e+00, 0.00000000e+00, 0.00000000e+00, 0.00000000e+00,\n",
       "        0.00000000e+00, 0.00000000e+00, 0.00000000e+00, 0.00000000e+00,\n",
       "        1.06617555e-01, 0.00000000e+00, 3.75258645e-02, 9.28542347e-03,\n",
       "        0.00000000e+00, 4.08332980e-02, 0.00000000e+00, 0.00000000e+00,\n",
       "        1.41997666e+00, 0.00000000e+00, 0.00000000e+00, 2.62920329e-03,\n",
       "        0.00000000e+00, 3.12251487e-02, 2.76508539e-02, 0.00000000e+00,\n",
       "        8.97948911e-01, 1.59869002e-01, 1.29923210e-03]])"
      ]
     },
     "execution_count": 11,
     "metadata": {},
     "output_type": "execute_result"
    }
   ],
   "source": [
    "# parcellated AD association data\n",
    "AD_parc"
   ]
  },
  {
   "cell_type": "code",
   "execution_count": 48,
   "id": "0ae63548",
   "metadata": {},
   "outputs": [],
   "source": [
    "# ABHA data with atlas parcellation (same as AD_parc)\n",
    "expression = abagen.get_expression_data(atlas['image'])"
   ]
  },
  {
   "cell_type": "code",
   "execution_count": 49,
   "id": "e74db220",
   "metadata": {},
   "outputs": [
    {
     "data": {
      "text/html": [
       "<div>\n",
       "<style scoped>\n",
       "    .dataframe tbody tr th:only-of-type {\n",
       "        vertical-align: middle;\n",
       "    }\n",
       "\n",
       "    .dataframe tbody tr th {\n",
       "        vertical-align: top;\n",
       "    }\n",
       "\n",
       "    .dataframe thead th {\n",
       "        text-align: right;\n",
       "    }\n",
       "</style>\n",
       "<table border=\"1\" class=\"dataframe\">\n",
       "  <thead>\n",
       "    <tr style=\"text-align: right;\">\n",
       "      <th>gene_symbol</th>\n",
       "      <th>A1BG</th>\n",
       "      <th>A1BG-AS1</th>\n",
       "      <th>A2M</th>\n",
       "      <th>A2ML1</th>\n",
       "      <th>A3GALT2</th>\n",
       "      <th>A4GALT</th>\n",
       "      <th>AAAS</th>\n",
       "      <th>AACS</th>\n",
       "      <th>AADACL3</th>\n",
       "      <th>AADAT</th>\n",
       "      <th>...</th>\n",
       "      <th>ZW10</th>\n",
       "      <th>ZWILCH</th>\n",
       "      <th>ZWINT</th>\n",
       "      <th>ZXDA</th>\n",
       "      <th>ZXDB</th>\n",
       "      <th>ZXDC</th>\n",
       "      <th>ZYG11B</th>\n",
       "      <th>ZYX</th>\n",
       "      <th>ZZEF1</th>\n",
       "      <th>ZZZ3</th>\n",
       "    </tr>\n",
       "    <tr>\n",
       "      <th>label</th>\n",
       "      <th></th>\n",
       "      <th></th>\n",
       "      <th></th>\n",
       "      <th></th>\n",
       "      <th></th>\n",
       "      <th></th>\n",
       "      <th></th>\n",
       "      <th></th>\n",
       "      <th></th>\n",
       "      <th></th>\n",
       "      <th></th>\n",
       "      <th></th>\n",
       "      <th></th>\n",
       "      <th></th>\n",
       "      <th></th>\n",
       "      <th></th>\n",
       "      <th></th>\n",
       "      <th></th>\n",
       "      <th></th>\n",
       "      <th></th>\n",
       "      <th></th>\n",
       "    </tr>\n",
       "  </thead>\n",
       "  <tbody>\n",
       "    <tr>\n",
       "      <th>1</th>\n",
       "      <td>0.480759</td>\n",
       "      <td>0.688550</td>\n",
       "      <td>0.370086</td>\n",
       "      <td>0.392645</td>\n",
       "      <td>0.360818</td>\n",
       "      <td>0.419254</td>\n",
       "      <td>0.517483</td>\n",
       "      <td>0.759551</td>\n",
       "      <td>0.369701</td>\n",
       "      <td>0.686505</td>\n",
       "      <td>...</td>\n",
       "      <td>0.545096</td>\n",
       "      <td>0.545136</td>\n",
       "      <td>0.563060</td>\n",
       "      <td>0.442549</td>\n",
       "      <td>0.509614</td>\n",
       "      <td>0.371313</td>\n",
       "      <td>0.678011</td>\n",
       "      <td>0.688956</td>\n",
       "      <td>0.544369</td>\n",
       "      <td>0.496820</td>\n",
       "    </tr>\n",
       "    <tr>\n",
       "      <th>2</th>\n",
       "      <td>0.623995</td>\n",
       "      <td>0.532027</td>\n",
       "      <td>0.519627</td>\n",
       "      <td>0.623731</td>\n",
       "      <td>0.404923</td>\n",
       "      <td>0.412919</td>\n",
       "      <td>0.456501</td>\n",
       "      <td>0.635867</td>\n",
       "      <td>0.455615</td>\n",
       "      <td>0.683714</td>\n",
       "      <td>...</td>\n",
       "      <td>0.490226</td>\n",
       "      <td>0.408071</td>\n",
       "      <td>0.401761</td>\n",
       "      <td>0.424034</td>\n",
       "      <td>0.348653</td>\n",
       "      <td>0.556901</td>\n",
       "      <td>0.632079</td>\n",
       "      <td>0.468893</td>\n",
       "      <td>0.369227</td>\n",
       "      <td>0.483143</td>\n",
       "    </tr>\n",
       "    <tr>\n",
       "      <th>3</th>\n",
       "      <td>0.525373</td>\n",
       "      <td>0.622902</td>\n",
       "      <td>0.519448</td>\n",
       "      <td>0.393459</td>\n",
       "      <td>0.442179</td>\n",
       "      <td>0.550368</td>\n",
       "      <td>0.515183</td>\n",
       "      <td>0.790477</td>\n",
       "      <td>0.352449</td>\n",
       "      <td>0.582405</td>\n",
       "      <td>...</td>\n",
       "      <td>0.499996</td>\n",
       "      <td>0.619777</td>\n",
       "      <td>0.479420</td>\n",
       "      <td>0.350032</td>\n",
       "      <td>0.376171</td>\n",
       "      <td>0.357934</td>\n",
       "      <td>0.679664</td>\n",
       "      <td>0.735109</td>\n",
       "      <td>0.359137</td>\n",
       "      <td>0.455061</td>\n",
       "    </tr>\n",
       "    <tr>\n",
       "      <th>4</th>\n",
       "      <td>0.353714</td>\n",
       "      <td>0.576465</td>\n",
       "      <td>0.474117</td>\n",
       "      <td>0.413741</td>\n",
       "      <td>0.354063</td>\n",
       "      <td>0.441846</td>\n",
       "      <td>0.655117</td>\n",
       "      <td>0.754925</td>\n",
       "      <td>0.443763</td>\n",
       "      <td>0.577075</td>\n",
       "      <td>...</td>\n",
       "      <td>0.574148</td>\n",
       "      <td>0.575461</td>\n",
       "      <td>0.443060</td>\n",
       "      <td>0.393485</td>\n",
       "      <td>0.425785</td>\n",
       "      <td>0.378634</td>\n",
       "      <td>0.651728</td>\n",
       "      <td>0.845611</td>\n",
       "      <td>0.562431</td>\n",
       "      <td>0.377707</td>\n",
       "    </tr>\n",
       "    <tr>\n",
       "      <th>5</th>\n",
       "      <td>0.667755</td>\n",
       "      <td>0.543455</td>\n",
       "      <td>0.606849</td>\n",
       "      <td>0.526906</td>\n",
       "      <td>0.423939</td>\n",
       "      <td>0.467107</td>\n",
       "      <td>0.349361</td>\n",
       "      <td>0.716827</td>\n",
       "      <td>0.476033</td>\n",
       "      <td>0.614465</td>\n",
       "      <td>...</td>\n",
       "      <td>0.462089</td>\n",
       "      <td>0.539385</td>\n",
       "      <td>0.710304</td>\n",
       "      <td>0.358010</td>\n",
       "      <td>0.398148</td>\n",
       "      <td>0.510071</td>\n",
       "      <td>0.713046</td>\n",
       "      <td>0.339948</td>\n",
       "      <td>0.399627</td>\n",
       "      <td>0.574180</td>\n",
       "    </tr>\n",
       "  </tbody>\n",
       "</table>\n",
       "<p>5 rows × 15633 columns</p>\n",
       "</div>"
      ],
      "text/plain": [
       "gene_symbol      A1BG  A1BG-AS1       A2M     A2ML1   A3GALT2    A4GALT  \\\n",
       "label                                                                     \n",
       "1            0.480759  0.688550  0.370086  0.392645  0.360818  0.419254   \n",
       "2            0.623995  0.532027  0.519627  0.623731  0.404923  0.412919   \n",
       "3            0.525373  0.622902  0.519448  0.393459  0.442179  0.550368   \n",
       "4            0.353714  0.576465  0.474117  0.413741  0.354063  0.441846   \n",
       "5            0.667755  0.543455  0.606849  0.526906  0.423939  0.467107   \n",
       "\n",
       "gene_symbol      AAAS      AACS   AADACL3     AADAT  ...      ZW10    ZWILCH  \\\n",
       "label                                                ...                       \n",
       "1            0.517483  0.759551  0.369701  0.686505  ...  0.545096  0.545136   \n",
       "2            0.456501  0.635867  0.455615  0.683714  ...  0.490226  0.408071   \n",
       "3            0.515183  0.790477  0.352449  0.582405  ...  0.499996  0.619777   \n",
       "4            0.655117  0.754925  0.443763  0.577075  ...  0.574148  0.575461   \n",
       "5            0.349361  0.716827  0.476033  0.614465  ...  0.462089  0.539385   \n",
       "\n",
       "gene_symbol     ZWINT      ZXDA      ZXDB      ZXDC    ZYG11B       ZYX  \\\n",
       "label                                                                     \n",
       "1            0.563060  0.442549  0.509614  0.371313  0.678011  0.688956   \n",
       "2            0.401761  0.424034  0.348653  0.556901  0.632079  0.468893   \n",
       "3            0.479420  0.350032  0.376171  0.357934  0.679664  0.735109   \n",
       "4            0.443060  0.393485  0.425785  0.378634  0.651728  0.845611   \n",
       "5            0.710304  0.358010  0.398148  0.510071  0.713046  0.339948   \n",
       "\n",
       "gene_symbol     ZZEF1      ZZZ3  \n",
       "label                            \n",
       "1            0.544369  0.496820  \n",
       "2            0.369227  0.483143  \n",
       "3            0.359137  0.455061  \n",
       "4            0.562431  0.377707  \n",
       "5            0.399627  0.574180  \n",
       "\n",
       "[5 rows x 15633 columns]"
      ]
     },
     "execution_count": 49,
     "metadata": {},
     "output_type": "execute_result"
    }
   ],
   "source": [
    "expression.head()"
   ]
  },
  {
   "cell_type": "code",
   "execution_count": 50,
   "id": "91d4e52f",
   "metadata": {},
   "outputs": [
    {
     "data": {
      "text/plain": [
       "((83, 15633), (83, 1))"
      ]
     },
     "execution_count": 50,
     "metadata": {},
     "output_type": "execute_result"
    }
   ],
   "source": [
    "expression.shape, AD_parc.T.shape"
   ]
  },
  {
   "cell_type": "code",
   "execution_count": 51,
   "id": "1369e560",
   "metadata": {},
   "outputs": [],
   "source": [
    "expression['AD'] = AD_parc.T"
   ]
  },
  {
   "cell_type": "code",
   "execution_count": 52,
   "id": "f368eb51",
   "metadata": {},
   "outputs": [],
   "source": [
    "expression.drop(expression.index[expression['AD'] == 0], inplace = True)\n",
    "expression.dropna(inplace=True)"
   ]
  },
  {
   "cell_type": "code",
   "execution_count": 53,
   "id": "ef014dc7",
   "metadata": {},
   "outputs": [],
   "source": [
    "expression['AD'] = np.log(expression['AD'])"
   ]
  },
  {
   "cell_type": "code",
   "execution_count": 54,
   "id": "33d0a281",
   "metadata": {},
   "outputs": [
    {
     "data": {
      "text/html": [
       "<div>\n",
       "<style scoped>\n",
       "    .dataframe tbody tr th:only-of-type {\n",
       "        vertical-align: middle;\n",
       "    }\n",
       "\n",
       "    .dataframe tbody tr th {\n",
       "        vertical-align: top;\n",
       "    }\n",
       "\n",
       "    .dataframe thead th {\n",
       "        text-align: right;\n",
       "    }\n",
       "</style>\n",
       "<table border=\"1\" class=\"dataframe\">\n",
       "  <thead>\n",
       "    <tr style=\"text-align: right;\">\n",
       "      <th>gene_symbol</th>\n",
       "      <th>A1BG</th>\n",
       "      <th>A1BG-AS1</th>\n",
       "      <th>A2M</th>\n",
       "      <th>A2ML1</th>\n",
       "      <th>A3GALT2</th>\n",
       "      <th>A4GALT</th>\n",
       "      <th>AAAS</th>\n",
       "      <th>AACS</th>\n",
       "      <th>AADACL3</th>\n",
       "      <th>AADAT</th>\n",
       "      <th>...</th>\n",
       "      <th>ZWILCH</th>\n",
       "      <th>ZWINT</th>\n",
       "      <th>ZXDA</th>\n",
       "      <th>ZXDB</th>\n",
       "      <th>ZXDC</th>\n",
       "      <th>ZYG11B</th>\n",
       "      <th>ZYX</th>\n",
       "      <th>ZZEF1</th>\n",
       "      <th>ZZZ3</th>\n",
       "      <th>AD</th>\n",
       "    </tr>\n",
       "    <tr>\n",
       "      <th>label</th>\n",
       "      <th></th>\n",
       "      <th></th>\n",
       "      <th></th>\n",
       "      <th></th>\n",
       "      <th></th>\n",
       "      <th></th>\n",
       "      <th></th>\n",
       "      <th></th>\n",
       "      <th></th>\n",
       "      <th></th>\n",
       "      <th></th>\n",
       "      <th></th>\n",
       "      <th></th>\n",
       "      <th></th>\n",
       "      <th></th>\n",
       "      <th></th>\n",
       "      <th></th>\n",
       "      <th></th>\n",
       "      <th></th>\n",
       "      <th></th>\n",
       "      <th></th>\n",
       "    </tr>\n",
       "  </thead>\n",
       "  <tbody>\n",
       "    <tr>\n",
       "      <th>5</th>\n",
       "      <td>0.667755</td>\n",
       "      <td>0.543455</td>\n",
       "      <td>0.606849</td>\n",
       "      <td>0.526906</td>\n",
       "      <td>0.423939</td>\n",
       "      <td>0.467107</td>\n",
       "      <td>0.349361</td>\n",
       "      <td>0.716827</td>\n",
       "      <td>0.476033</td>\n",
       "      <td>0.614465</td>\n",
       "      <td>...</td>\n",
       "      <td>0.539385</td>\n",
       "      <td>0.710304</td>\n",
       "      <td>0.358010</td>\n",
       "      <td>0.398148</td>\n",
       "      <td>0.510071</td>\n",
       "      <td>0.713046</td>\n",
       "      <td>0.339948</td>\n",
       "      <td>0.399627</td>\n",
       "      <td>0.574180</td>\n",
       "      <td>0.498512</td>\n",
       "    </tr>\n",
       "    <tr>\n",
       "      <th>40</th>\n",
       "      <td>0.490292</td>\n",
       "      <td>0.344296</td>\n",
       "      <td>0.427536</td>\n",
       "      <td>0.586020</td>\n",
       "      <td>0.577370</td>\n",
       "      <td>0.583279</td>\n",
       "      <td>0.291768</td>\n",
       "      <td>0.523781</td>\n",
       "      <td>0.640499</td>\n",
       "      <td>0.234787</td>\n",
       "      <td>...</td>\n",
       "      <td>0.538566</td>\n",
       "      <td>0.719953</td>\n",
       "      <td>0.685794</td>\n",
       "      <td>0.449745</td>\n",
       "      <td>0.564028</td>\n",
       "      <td>0.345236</td>\n",
       "      <td>0.273563</td>\n",
       "      <td>0.583096</td>\n",
       "      <td>0.493267</td>\n",
       "      <td>0.357216</td>\n",
       "    </tr>\n",
       "    <tr>\n",
       "      <th>81</th>\n",
       "      <td>0.363747</td>\n",
       "      <td>0.271664</td>\n",
       "      <td>0.469768</td>\n",
       "      <td>0.630534</td>\n",
       "      <td>0.656241</td>\n",
       "      <td>0.585701</td>\n",
       "      <td>0.347811</td>\n",
       "      <td>0.507718</td>\n",
       "      <td>0.719961</td>\n",
       "      <td>0.234131</td>\n",
       "      <td>...</td>\n",
       "      <td>0.355556</td>\n",
       "      <td>0.631193</td>\n",
       "      <td>0.642921</td>\n",
       "      <td>0.482462</td>\n",
       "      <td>0.571270</td>\n",
       "      <td>0.371391</td>\n",
       "      <td>0.286521</td>\n",
       "      <td>0.480644</td>\n",
       "      <td>0.432468</td>\n",
       "      <td>-0.107642</td>\n",
       "    </tr>\n",
       "    <tr>\n",
       "      <th>8</th>\n",
       "      <td>0.578291</td>\n",
       "      <td>0.696163</td>\n",
       "      <td>0.420250</td>\n",
       "      <td>0.474752</td>\n",
       "      <td>0.380554</td>\n",
       "      <td>0.363455</td>\n",
       "      <td>0.476270</td>\n",
       "      <td>0.797896</td>\n",
       "      <td>0.383587</td>\n",
       "      <td>0.657303</td>\n",
       "      <td>...</td>\n",
       "      <td>0.570905</td>\n",
       "      <td>0.572326</td>\n",
       "      <td>0.416326</td>\n",
       "      <td>0.471603</td>\n",
       "      <td>0.388065</td>\n",
       "      <td>0.694198</td>\n",
       "      <td>0.616343</td>\n",
       "      <td>0.434626</td>\n",
       "      <td>0.497935</td>\n",
       "      <td>-0.545731</td>\n",
       "    </tr>\n",
       "    <tr>\n",
       "      <th>15</th>\n",
       "      <td>0.631017</td>\n",
       "      <td>0.618824</td>\n",
       "      <td>0.373092</td>\n",
       "      <td>0.394127</td>\n",
       "      <td>0.446812</td>\n",
       "      <td>0.397319</td>\n",
       "      <td>0.387885</td>\n",
       "      <td>0.707964</td>\n",
       "      <td>0.473886</td>\n",
       "      <td>0.456811</td>\n",
       "      <td>...</td>\n",
       "      <td>0.641104</td>\n",
       "      <td>0.541905</td>\n",
       "      <td>0.450932</td>\n",
       "      <td>0.439447</td>\n",
       "      <td>0.514867</td>\n",
       "      <td>0.657221</td>\n",
       "      <td>0.446785</td>\n",
       "      <td>0.444901</td>\n",
       "      <td>0.432817</td>\n",
       "      <td>-0.562817</td>\n",
       "    </tr>\n",
       "  </tbody>\n",
       "</table>\n",
       "<p>5 rows × 15634 columns</p>\n",
       "</div>"
      ],
      "text/plain": [
       "gene_symbol      A1BG  A1BG-AS1       A2M     A2ML1   A3GALT2    A4GALT  \\\n",
       "label                                                                     \n",
       "5            0.667755  0.543455  0.606849  0.526906  0.423939  0.467107   \n",
       "40           0.490292  0.344296  0.427536  0.586020  0.577370  0.583279   \n",
       "81           0.363747  0.271664  0.469768  0.630534  0.656241  0.585701   \n",
       "8            0.578291  0.696163  0.420250  0.474752  0.380554  0.363455   \n",
       "15           0.631017  0.618824  0.373092  0.394127  0.446812  0.397319   \n",
       "\n",
       "gene_symbol      AAAS      AACS   AADACL3     AADAT  ...    ZWILCH     ZWINT  \\\n",
       "label                                                ...                       \n",
       "5            0.349361  0.716827  0.476033  0.614465  ...  0.539385  0.710304   \n",
       "40           0.291768  0.523781  0.640499  0.234787  ...  0.538566  0.719953   \n",
       "81           0.347811  0.507718  0.719961  0.234131  ...  0.355556  0.631193   \n",
       "8            0.476270  0.797896  0.383587  0.657303  ...  0.570905  0.572326   \n",
       "15           0.387885  0.707964  0.473886  0.456811  ...  0.641104  0.541905   \n",
       "\n",
       "gene_symbol      ZXDA      ZXDB      ZXDC    ZYG11B       ZYX     ZZEF1  \\\n",
       "label                                                                     \n",
       "5            0.358010  0.398148  0.510071  0.713046  0.339948  0.399627   \n",
       "40           0.685794  0.449745  0.564028  0.345236  0.273563  0.583096   \n",
       "81           0.642921  0.482462  0.571270  0.371391  0.286521  0.480644   \n",
       "8            0.416326  0.471603  0.388065  0.694198  0.616343  0.434626   \n",
       "15           0.450932  0.439447  0.514867  0.657221  0.446785  0.444901   \n",
       "\n",
       "gene_symbol      ZZZ3        AD  \n",
       "label                            \n",
       "5            0.574180  0.498512  \n",
       "40           0.493267  0.357216  \n",
       "81           0.432468 -0.107642  \n",
       "8            0.497935 -0.545731  \n",
       "15           0.432817 -0.562817  \n",
       "\n",
       "[5 rows x 15634 columns]"
      ]
     },
     "execution_count": 54,
     "metadata": {},
     "output_type": "execute_result"
    }
   ],
   "source": [
    "expression.nlargest(5, ['AD'])"
   ]
  },
  {
   "cell_type": "code",
   "execution_count": 55,
   "id": "7828588e",
   "metadata": {},
   "outputs": [
    {
     "data": {
      "text/plain": [
       "gene_symbol\n",
       "EXOC3L2      0.939050\n",
       "LINC02217    0.925807\n",
       "GDA          0.915135\n",
       "LHX2         0.914040\n",
       "KIF21B       0.910780\n",
       "Name: 5, dtype: float64"
      ]
     },
     "execution_count": 55,
     "metadata": {},
     "output_type": "execute_result"
    }
   ],
   "source": [
    "expression.loc[5][:-1].nlargest(5)"
   ]
  },
  {
   "cell_type": "code",
   "execution_count": 56,
   "id": "30d0f9fc",
   "metadata": {},
   "outputs": [
    {
     "data": {
      "text/plain": [
       "gene_symbol\n",
       "SLC24A3    0.906877\n",
       "EPHA6      0.899456\n",
       "SUSD4      0.895791\n",
       "LRRTM1     0.889791\n",
       "LRRN2      0.888457\n",
       "Name: 40, dtype: float64"
      ]
     },
     "execution_count": 56,
     "metadata": {},
     "output_type": "execute_result"
    }
   ],
   "source": [
    "expression.loc[40][:-1].nlargest(5)"
   ]
  },
  {
   "cell_type": "code",
   "execution_count": 57,
   "id": "c5a85198",
   "metadata": {},
   "outputs": [
    {
     "data": {
      "text/plain": [
       "gene_symbol\n",
       "PNO1       0.912458\n",
       "SLC24A3    0.909667\n",
       "ALPK1      0.891972\n",
       "SUSD4      0.886826\n",
       "WIPF3      0.875446\n",
       "Name: 81, dtype: float64"
      ]
     },
     "execution_count": 57,
     "metadata": {},
     "output_type": "execute_result"
    }
   ],
   "source": [
    "expression.loc[81][:-1].nlargest(5)"
   ]
  },
  {
   "cell_type": "code",
   "execution_count": 58,
   "id": "91edbb05",
   "metadata": {},
   "outputs": [
    {
     "data": {
      "text/plain": [
       "gene_symbol\n",
       "STX1A      0.931906\n",
       "TMEM155    0.916310\n",
       "OLFM1      0.908981\n",
       "RFTN1      0.908588\n",
       "ENC1       0.902118\n",
       "Name: 8, dtype: float64"
      ]
     },
     "execution_count": 58,
     "metadata": {},
     "output_type": "execute_result"
    }
   ],
   "source": [
    "expression.loc[8][:-1].nlargest(5)"
   ]
  },
  {
   "cell_type": "code",
   "execution_count": 59,
   "id": "cfdd5fe0",
   "metadata": {},
   "outputs": [
    {
     "data": {
      "text/plain": [
       "gene_symbol\n",
       "STX1A      0.867296\n",
       "FABP7      0.845749\n",
       "NPTX1      0.835478\n",
       "NEUROD2    0.827978\n",
       "CA11       0.825816\n",
       "Name: 15, dtype: float64"
      ]
     },
     "execution_count": 59,
     "metadata": {},
     "output_type": "execute_result"
    }
   ],
   "source": [
    "expression.loc[15][:-1].nlargest(5)"
   ]
  },
  {
   "cell_type": "code",
   "execution_count": 60,
   "id": "21e90d5d",
   "metadata": {},
   "outputs": [],
   "source": [
    "AD_corr = expression[expression.columns].corr()['AD']"
   ]
  },
  {
   "cell_type": "code",
   "execution_count": 61,
   "id": "a0624564",
   "metadata": {},
   "outputs": [
    {
     "data": {
      "image/png": "[encoded data removed]",
      "text/plain": [
       "<Figure size 432x288 with 1 Axes>"
      ]
     },
     "metadata": {
      "needs_background": "light"
     },
     "output_type": "display_data"
    }
   ],
   "source": [
    "plt.title('Figure 3 Log AD Association Gene Correlation') \n",
    "plt.ylabel('Genes')\n",
    "plt.xlabel('Correlation') \n",
    "log_hist_bins = plt.hist(AD_corr,bins=50,color='teal')"
   ]
  },
  {
   "cell_type": "code",
   "execution_count": 65,
   "id": "d5d06261",
   "metadata": {},
   "outputs": [
    {
     "data": {
      "text/plain": [
       "gene_symbol\n",
       "NSG1       0.681479\n",
       "FOXQ1      0.637006\n",
       "PLCB4      0.629693\n",
       "FKBP9      0.626061\n",
       "HIST4H4    0.624609\n",
       "             ...   \n",
       "SUZ12P1    0.552486\n",
       "DCAF5      0.552475\n",
       "MARCH4     0.552138\n",
       "DUSP5P1    0.551614\n",
       "ANXA3      0.551453\n",
       "Name: AD, Length: 66, dtype: float64"
      ]
     },
     "execution_count": 65,
     "metadata": {},
     "output_type": "execute_result"
    }
   ],
   "source": [
    "abs(AD_corr[:-1]).nlargest(66)"
   ]
  },
  {
   "cell_type": "code",
   "execution_count": null,
   "id": "2fb77139",
   "metadata": {},
   "outputs": [],
   "source": []
  }
 ],
 "metadata": {
  "kernelspec": {
   "display_name": "Python 3 (ipykernel)",
   "language": "python",
   "name": "python3"
  },
  "language_info": {
   "codemirror_mode": {
    "name": "ipython",
    "version": 3
   },
   "file_extension": ".py",
   "mimetype": "text/x-python",
   "name": "python",
   "nbconvert_exporter": "python",
   "pygments_lexer": "ipython3",
   "version": "3.9.7"
  }
 },
 "nbformat": 4,
 "nbformat_minor": 5
}
