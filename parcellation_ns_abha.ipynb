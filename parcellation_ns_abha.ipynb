{
 "cells": [
  {
   "cell_type": "markdown",
   "id": "3353a7b9",
   "metadata": {},
   "source": [
    "### just random shit for the most part"
   ]
  },
  {
   "cell_type": "code",
   "execution_count": 2,
   "id": "3645cbbc",
   "metadata": {},
   "outputs": [],
   "source": [
    "import pandas as pd\n",
    "import abagen\n",
    "import nibabel as nib\n",
    "import numpy as np\n",
    "import matplotlib.pyplot as plt"
   ]
  },
  {
   "cell_type": "code",
   "execution_count": 3,
   "id": "3f77e427",
   "metadata": {},
   "outputs": [],
   "source": [
    "files = abagen.fetch_microarray(donors='all', verbose=0)"
   ]
  },
  {
   "cell_type": "code",
   "execution_count": 4,
   "id": "90558b1e",
   "metadata": {},
   "outputs": [
    {
     "data": {
      "text/plain": [
       "'/Users/amyhardy/abagen-data/microarray/normalized_microarray_donor9861/SampleAnnot.csv'"
      ]
     },
     "execution_count": 4,
     "metadata": {},
     "output_type": "execute_result"
    }
   ],
   "source": [
    "files['9861']['annotation']"
   ]
  },
  {
   "cell_type": "code",
   "execution_count": 5,
   "id": "84148cf9",
   "metadata": {},
   "outputs": [],
   "source": [
    "anno = pd.read_csv(files['9861']['annotation'])"
   ]
  },
  {
   "cell_type": "code",
   "execution_count": 6,
   "id": "d32fead5",
   "metadata": {},
   "outputs": [
    {
     "data": {
      "text/html": [
       "<div>\n",
       "<style scoped>\n",
       "    .dataframe tbody tr th:only-of-type {\n",
       "        vertical-align: middle;\n",
       "    }\n",
       "\n",
       "    .dataframe tbody tr th {\n",
       "        vertical-align: top;\n",
       "    }\n",
       "\n",
       "    .dataframe thead th {\n",
       "        text-align: right;\n",
       "    }\n",
       "</style>\n",
       "<table border=\"1\" class=\"dataframe\">\n",
       "  <thead>\n",
       "    <tr style=\"text-align: right;\">\n",
       "      <th></th>\n",
       "      <th>structure_id</th>\n",
       "      <th>slab_num</th>\n",
       "      <th>well_id</th>\n",
       "      <th>slab_type</th>\n",
       "      <th>structure_acronym</th>\n",
       "      <th>structure_name</th>\n",
       "      <th>polygon_id</th>\n",
       "      <th>mri_voxel_x</th>\n",
       "      <th>mri_voxel_y</th>\n",
       "      <th>mri_voxel_z</th>\n",
       "      <th>mni_x</th>\n",
       "      <th>mni_y</th>\n",
       "      <th>mni_z</th>\n",
       "    </tr>\n",
       "  </thead>\n",
       "  <tbody>\n",
       "    <tr>\n",
       "      <th>0</th>\n",
       "      <td>4077</td>\n",
       "      <td>22</td>\n",
       "      <td>594</td>\n",
       "      <td>CX</td>\n",
       "      <td>PCLa-i</td>\n",
       "      <td>paracentral lobule, anterior part, right, infe...</td>\n",
       "      <td>37470</td>\n",
       "      <td>87</td>\n",
       "      <td>52</td>\n",
       "      <td>116</td>\n",
       "      <td>5.9</td>\n",
       "      <td>-27.7</td>\n",
       "      <td>49.7</td>\n",
       "    </tr>\n",
       "    <tr>\n",
       "      <th>1</th>\n",
       "      <td>4323</td>\n",
       "      <td>11</td>\n",
       "      <td>2985</td>\n",
       "      <td>CX</td>\n",
       "      <td>Cl</td>\n",
       "      <td>claustrum, right</td>\n",
       "      <td>40517</td>\n",
       "      <td>66</td>\n",
       "      <td>92</td>\n",
       "      <td>63</td>\n",
       "      <td>29.2</td>\n",
       "      <td>17.0</td>\n",
       "      <td>-2.9</td>\n",
       "    </tr>\n",
       "    <tr>\n",
       "      <th>2</th>\n",
       "      <td>4323</td>\n",
       "      <td>18</td>\n",
       "      <td>2801</td>\n",
       "      <td>CX</td>\n",
       "      <td>Cl</td>\n",
       "      <td>claustrum, right</td>\n",
       "      <td>41516</td>\n",
       "      <td>66</td>\n",
       "      <td>81</td>\n",
       "      <td>104</td>\n",
       "      <td>28.2</td>\n",
       "      <td>-22.8</td>\n",
       "      <td>16.8</td>\n",
       "    </tr>\n",
       "    <tr>\n",
       "      <th>3</th>\n",
       "      <td>4440</td>\n",
       "      <td>18</td>\n",
       "      <td>2273</td>\n",
       "      <td>CX</td>\n",
       "      <td>LGd</td>\n",
       "      <td>dorsal lateral geniculate nucleus, left</td>\n",
       "      <td>41473</td>\n",
       "      <td>116</td>\n",
       "      <td>94</td>\n",
       "      <td>101</td>\n",
       "      <td>-24.6</td>\n",
       "      <td>-24.6</td>\n",
       "      <td>1.3</td>\n",
       "    </tr>\n",
       "    <tr>\n",
       "      <th>4</th>\n",
       "      <td>4266</td>\n",
       "      <td>17</td>\n",
       "      <td>2785</td>\n",
       "      <td>CX</td>\n",
       "      <td>CA4</td>\n",
       "      <td>CA4 field, right</td>\n",
       "      <td>41142</td>\n",
       "      <td>63</td>\n",
       "      <td>104</td>\n",
       "      <td>106</td>\n",
       "      <td>31.1</td>\n",
       "      <td>-31.3</td>\n",
       "      <td>-7.3</td>\n",
       "    </tr>\n",
       "    <tr>\n",
       "      <th>...</th>\n",
       "      <td>...</td>\n",
       "      <td>...</td>\n",
       "      <td>...</td>\n",
       "      <td>...</td>\n",
       "      <td>...</td>\n",
       "      <td>...</td>\n",
       "      <td>...</td>\n",
       "      <td>...</td>\n",
       "      <td>...</td>\n",
       "      <td>...</td>\n",
       "      <td>...</td>\n",
       "      <td>...</td>\n",
       "      <td>...</td>\n",
       "    </tr>\n",
       "    <tr>\n",
       "      <th>941</th>\n",
       "      <td>4751</td>\n",
       "      <td>67</td>\n",
       "      <td>1090</td>\n",
       "      <td>CB</td>\n",
       "      <td>PV-III</td>\n",
       "      <td>III, right, paravermis</td>\n",
       "      <td>51241</td>\n",
       "      <td>84</td>\n",
       "      <td>119</td>\n",
       "      <td>113</td>\n",
       "      <td>8.7</td>\n",
       "      <td>-43.4</td>\n",
       "      <td>-22.4</td>\n",
       "    </tr>\n",
       "    <tr>\n",
       "      <th>942</th>\n",
       "      <td>4752</td>\n",
       "      <td>67</td>\n",
       "      <td>1082</td>\n",
       "      <td>CB</td>\n",
       "      <td>PV-IV</td>\n",
       "      <td>IV, right, paravermis</td>\n",
       "      <td>51239</td>\n",
       "      <td>84</td>\n",
       "      <td>108</td>\n",
       "      <td>122</td>\n",
       "      <td>8.5</td>\n",
       "      <td>-49.7</td>\n",
       "      <td>-8.9</td>\n",
       "    </tr>\n",
       "    <tr>\n",
       "      <th>943</th>\n",
       "      <td>4758</td>\n",
       "      <td>67</td>\n",
       "      <td>1074</td>\n",
       "      <td>CB</td>\n",
       "      <td>PV-VIIB</td>\n",
       "      <td>VIIB, right, paravermis</td>\n",
       "      <td>56063</td>\n",
       "      <td>84</td>\n",
       "      <td>140</td>\n",
       "      <td>135</td>\n",
       "      <td>7.9</td>\n",
       "      <td>-72.3</td>\n",
       "      <td>-40.6</td>\n",
       "    </tr>\n",
       "    <tr>\n",
       "      <th>944</th>\n",
       "      <td>4760</td>\n",
       "      <td>67</td>\n",
       "      <td>1058</td>\n",
       "      <td>CB</td>\n",
       "      <td>PV-VIIIB</td>\n",
       "      <td>VIIIB, right, paravermis</td>\n",
       "      <td>56061</td>\n",
       "      <td>84</td>\n",
       "      <td>154</td>\n",
       "      <td>117</td>\n",
       "      <td>8.3</td>\n",
       "      <td>-57.4</td>\n",
       "      <td>-59.0</td>\n",
       "    </tr>\n",
       "    <tr>\n",
       "      <th>945</th>\n",
       "      <td>4761</td>\n",
       "      <td>67</td>\n",
       "      <td>1145</td>\n",
       "      <td>CB</td>\n",
       "      <td>PV-IX</td>\n",
       "      <td>IX, right, paravermis</td>\n",
       "      <td>56059</td>\n",
       "      <td>83</td>\n",
       "      <td>142</td>\n",
       "      <td>110</td>\n",
       "      <td>9.6</td>\n",
       "      <td>-46.7</td>\n",
       "      <td>-47.6</td>\n",
       "    </tr>\n",
       "  </tbody>\n",
       "</table>\n",
       "<p>946 rows × 13 columns</p>\n",
       "</div>"
      ],
      "text/plain": [
       "     structure_id  slab_num  well_id slab_type structure_acronym  \\\n",
       "0            4077        22      594        CX            PCLa-i   \n",
       "1            4323        11     2985        CX                Cl   \n",
       "2            4323        18     2801        CX                Cl   \n",
       "3            4440        18     2273        CX               LGd   \n",
       "4            4266        17     2785        CX               CA4   \n",
       "..            ...       ...      ...       ...               ...   \n",
       "941          4751        67     1090        CB            PV-III   \n",
       "942          4752        67     1082        CB             PV-IV   \n",
       "943          4758        67     1074        CB           PV-VIIB   \n",
       "944          4760        67     1058        CB          PV-VIIIB   \n",
       "945          4761        67     1145        CB             PV-IX   \n",
       "\n",
       "                                        structure_name  polygon_id  \\\n",
       "0    paracentral lobule, anterior part, right, infe...       37470   \n",
       "1                                     claustrum, right       40517   \n",
       "2                                     claustrum, right       41516   \n",
       "3              dorsal lateral geniculate nucleus, left       41473   \n",
       "4                                     CA4 field, right       41142   \n",
       "..                                                 ...         ...   \n",
       "941                             III, right, paravermis       51241   \n",
       "942                              IV, right, paravermis       51239   \n",
       "943                            VIIB, right, paravermis       56063   \n",
       "944                           VIIIB, right, paravermis       56061   \n",
       "945                              IX, right, paravermis       56059   \n",
       "\n",
       "     mri_voxel_x  mri_voxel_y  mri_voxel_z  mni_x  mni_y  mni_z  \n",
       "0             87           52          116    5.9  -27.7   49.7  \n",
       "1             66           92           63   29.2   17.0   -2.9  \n",
       "2             66           81          104   28.2  -22.8   16.8  \n",
       "3            116           94          101  -24.6  -24.6    1.3  \n",
       "4             63          104          106   31.1  -31.3   -7.3  \n",
       "..           ...          ...          ...    ...    ...    ...  \n",
       "941           84          119          113    8.7  -43.4  -22.4  \n",
       "942           84          108          122    8.5  -49.7   -8.9  \n",
       "943           84          140          135    7.9  -72.3  -40.6  \n",
       "944           84          154          117    8.3  -57.4  -59.0  \n",
       "945           83          142          110    9.6  -46.7  -47.6  \n",
       "\n",
       "[946 rows x 13 columns]"
      ]
     },
     "execution_count": 6,
     "metadata": {},
     "output_type": "execute_result"
    }
   ],
   "source": [
    "anno"
   ]
  },
  {
   "cell_type": "code",
   "execution_count": 9,
   "id": "c208f217",
   "metadata": {},
   "outputs": [],
   "source": [
    "atlas = abagen.fetch_desikan_killiany()"
   ]
  },
  {
   "cell_type": "code",
   "execution_count": 10,
   "id": "759baf17",
   "metadata": {
    "scrolled": false
   },
   "outputs": [
    {
     "data": {
      "text/html": [
       "<div>\n",
       "<style scoped>\n",
       "    .dataframe tbody tr th:only-of-type {\n",
       "        vertical-align: middle;\n",
       "    }\n",
       "\n",
       "    .dataframe tbody tr th {\n",
       "        vertical-align: top;\n",
       "    }\n",
       "\n",
       "    .dataframe thead th {\n",
       "        text-align: right;\n",
       "    }\n",
       "</style>\n",
       "<table border=\"1\" class=\"dataframe\">\n",
       "  <thead>\n",
       "    <tr style=\"text-align: right;\">\n",
       "      <th></th>\n",
       "      <th>id</th>\n",
       "      <th>label</th>\n",
       "      <th>hemisphere</th>\n",
       "      <th>structure</th>\n",
       "    </tr>\n",
       "  </thead>\n",
       "  <tbody>\n",
       "    <tr>\n",
       "      <th>0</th>\n",
       "      <td>1</td>\n",
       "      <td>bankssts</td>\n",
       "      <td>L</td>\n",
       "      <td>cortex</td>\n",
       "    </tr>\n",
       "    <tr>\n",
       "      <th>1</th>\n",
       "      <td>2</td>\n",
       "      <td>caudalanteriorcingulate</td>\n",
       "      <td>L</td>\n",
       "      <td>cortex</td>\n",
       "    </tr>\n",
       "    <tr>\n",
       "      <th>2</th>\n",
       "      <td>3</td>\n",
       "      <td>caudalmiddlefrontal</td>\n",
       "      <td>L</td>\n",
       "      <td>cortex</td>\n",
       "    </tr>\n",
       "    <tr>\n",
       "      <th>3</th>\n",
       "      <td>4</td>\n",
       "      <td>cuneus</td>\n",
       "      <td>L</td>\n",
       "      <td>cortex</td>\n",
       "    </tr>\n",
       "    <tr>\n",
       "      <th>4</th>\n",
       "      <td>5</td>\n",
       "      <td>entorhinal</td>\n",
       "      <td>L</td>\n",
       "      <td>cortex</td>\n",
       "    </tr>\n",
       "    <tr>\n",
       "      <th>...</th>\n",
       "      <td>...</td>\n",
       "      <td>...</td>\n",
       "      <td>...</td>\n",
       "      <td>...</td>\n",
       "    </tr>\n",
       "    <tr>\n",
       "      <th>78</th>\n",
       "      <td>79</td>\n",
       "      <td>pallidum</td>\n",
       "      <td>R</td>\n",
       "      <td>subcortex/brainstem</td>\n",
       "    </tr>\n",
       "    <tr>\n",
       "      <th>79</th>\n",
       "      <td>80</td>\n",
       "      <td>accumbensarea</td>\n",
       "      <td>R</td>\n",
       "      <td>subcortex/brainstem</td>\n",
       "    </tr>\n",
       "    <tr>\n",
       "      <th>80</th>\n",
       "      <td>81</td>\n",
       "      <td>hippocampus</td>\n",
       "      <td>R</td>\n",
       "      <td>subcortex/brainstem</td>\n",
       "    </tr>\n",
       "    <tr>\n",
       "      <th>81</th>\n",
       "      <td>82</td>\n",
       "      <td>amygdala</td>\n",
       "      <td>R</td>\n",
       "      <td>subcortex/brainstem</td>\n",
       "    </tr>\n",
       "    <tr>\n",
       "      <th>82</th>\n",
       "      <td>83</td>\n",
       "      <td>brainstem</td>\n",
       "      <td>B</td>\n",
       "      <td>subcortex/brainstem</td>\n",
       "    </tr>\n",
       "  </tbody>\n",
       "</table>\n",
       "<p>83 rows × 4 columns</p>\n",
       "</div>"
      ],
      "text/plain": [
       "    id                    label hemisphere            structure\n",
       "0    1                 bankssts          L               cortex\n",
       "1    2  caudalanteriorcingulate          L               cortex\n",
       "2    3      caudalmiddlefrontal          L               cortex\n",
       "3    4                   cuneus          L               cortex\n",
       "4    5               entorhinal          L               cortex\n",
       "..  ..                      ...        ...                  ...\n",
       "78  79                 pallidum          R  subcortex/brainstem\n",
       "79  80            accumbensarea          R  subcortex/brainstem\n",
       "80  81              hippocampus          R  subcortex/brainstem\n",
       "81  82                 amygdala          R  subcortex/brainstem\n",
       "82  83                brainstem          B  subcortex/brainstem\n",
       "\n",
       "[83 rows x 4 columns]"
      ]
     },
     "execution_count": 10,
     "metadata": {},
     "output_type": "execute_result"
    }
   ],
   "source": [
    "csv = pd.read_csv('atlas-desikankilliany.csv')\n",
    "csv"
   ]
  },
  {
   "cell_type": "code",
   "execution_count": 12,
   "id": "f950b7c1",
   "metadata": {},
   "outputs": [],
   "source": [
    "from neuromaps.parcellate import Parcellater\n",
    "parc = Parcellater(atlas['image'], 'mni152')"
   ]
  },
  {
   "cell_type": "code",
   "execution_count": 13,
   "id": "4144a7bc",
   "metadata": {},
   "outputs": [],
   "source": [
    "AD_association = nib.load('neurosynth_maps/terms/alzheimer_association-test_z_FDR_0.01.nii')\n",
    "AD_parc = parc.fit_transform(AD_association, 'mni152')"
   ]
  },
  {
   "cell_type": "code",
   "execution_count": 14,
   "id": "80e15dea",
   "metadata": {},
   "outputs": [
    {
     "data": {
      "text/plain": [
       "array([[0.00000000e+00, 0.00000000e+00, 2.91863150e-03, 0.00000000e+00,\n",
       "        1.64627017e+00, 4.59790482e-01, 1.38213308e-02, 5.79417904e-01,\n",
       "        2.62167892e-01, 0.00000000e+00, 1.04059678e-01, 3.31995570e-02,\n",
       "        3.60654746e-02, 5.72723241e-02, 5.69602056e-01, 0.00000000e+00,\n",
       "        0.00000000e+00, 0.00000000e+00, 0.00000000e+00, 0.00000000e+00,\n",
       "        0.00000000e+00, 0.00000000e+00, 0.00000000e+00, 2.27331312e-02,\n",
       "        0.00000000e+00, 2.60600581e-02, 0.00000000e+00, 8.34672965e-03,\n",
       "        3.33454119e-03, 0.00000000e+00, 8.93536710e-02, 2.15374929e-02,\n",
       "        0.00000000e+00, 3.20790872e-03, 9.03024779e-03, 0.00000000e+00,\n",
       "        3.86514218e-03, 0.00000000e+00, 0.00000000e+00, 1.42934426e+00,\n",
       "        1.01591404e-02, 0.00000000e+00, 0.00000000e+00, 2.88764021e-02,\n",
       "        7.52982528e-03, 1.45518436e-01, 3.20178280e-01, 0.00000000e+00,\n",
       "        2.22360409e-01, 1.00467291e-01, 0.00000000e+00, 1.37511678e-02,\n",
       "        1.85928170e-02, 1.53864102e-01, 7.87606711e-03, 1.58948877e-01,\n",
       "        0.00000000e+00, 0.00000000e+00, 0.00000000e+00, 0.00000000e+00,\n",
       "        0.00000000e+00, 0.00000000e+00, 0.00000000e+00, 0.00000000e+00,\n",
       "        1.06617555e-01, 0.00000000e+00, 3.75258645e-02, 9.28542347e-03,\n",
       "        0.00000000e+00, 4.08332980e-02, 0.00000000e+00, 0.00000000e+00,\n",
       "        1.41997666e+00, 0.00000000e+00, 0.00000000e+00, 2.62920329e-03,\n",
       "        0.00000000e+00, 3.12251487e-02, 2.76508539e-02, 0.00000000e+00,\n",
       "        8.97948911e-01, 1.59869002e-01, 1.29923210e-03]])"
      ]
     },
     "execution_count": 14,
     "metadata": {},
     "output_type": "execute_result"
    }
   ],
   "source": [
    "# parcellated AD association data\n",
    "AD_parc"
   ]
  },
  {
   "cell_type": "code",
   "execution_count": 15,
   "id": "757163b0",
   "metadata": {},
   "outputs": [],
   "source": [
    "# ABHA data with atlas parcellation (same as AD_parc)\n",
    "expression = abagen.get_expression_data(atlas['image'])"
   ]
  },
  {
   "cell_type": "code",
   "execution_count": 16,
   "id": "e53e751f",
   "metadata": {},
   "outputs": [
    {
     "data": {
      "text/plain": [
       "(83, 15633)"
      ]
     },
     "execution_count": 16,
     "metadata": {},
     "output_type": "execute_result"
    }
   ],
   "source": [
    "expression.shape"
   ]
  },
  {
   "cell_type": "code",
   "execution_count": 17,
   "id": "ea726064",
   "metadata": {
    "scrolled": true
   },
   "outputs": [
    {
     "data": {
      "text/html": [
       "<div>\n",
       "<style scoped>\n",
       "    .dataframe tbody tr th:only-of-type {\n",
       "        vertical-align: middle;\n",
       "    }\n",
       "\n",
       "    .dataframe tbody tr th {\n",
       "        vertical-align: top;\n",
       "    }\n",
       "\n",
       "    .dataframe thead th {\n",
       "        text-align: right;\n",
       "    }\n",
       "</style>\n",
       "<table border=\"1\" class=\"dataframe\">\n",
       "  <thead>\n",
       "    <tr style=\"text-align: right;\">\n",
       "      <th>gene_symbol</th>\n",
       "      <th>A1BG</th>\n",
       "      <th>A1BG-AS1</th>\n",
       "      <th>A2M</th>\n",
       "      <th>A2ML1</th>\n",
       "      <th>A3GALT2</th>\n",
       "      <th>A4GALT</th>\n",
       "      <th>AAAS</th>\n",
       "      <th>AACS</th>\n",
       "      <th>AADACL3</th>\n",
       "      <th>AADAT</th>\n",
       "      <th>...</th>\n",
       "      <th>ZW10</th>\n",
       "      <th>ZWILCH</th>\n",
       "      <th>ZWINT</th>\n",
       "      <th>ZXDA</th>\n",
       "      <th>ZXDB</th>\n",
       "      <th>ZXDC</th>\n",
       "      <th>ZYG11B</th>\n",
       "      <th>ZYX</th>\n",
       "      <th>ZZEF1</th>\n",
       "      <th>ZZZ3</th>\n",
       "    </tr>\n",
       "    <tr>\n",
       "      <th>label</th>\n",
       "      <th></th>\n",
       "      <th></th>\n",
       "      <th></th>\n",
       "      <th></th>\n",
       "      <th></th>\n",
       "      <th></th>\n",
       "      <th></th>\n",
       "      <th></th>\n",
       "      <th></th>\n",
       "      <th></th>\n",
       "      <th></th>\n",
       "      <th></th>\n",
       "      <th></th>\n",
       "      <th></th>\n",
       "      <th></th>\n",
       "      <th></th>\n",
       "      <th></th>\n",
       "      <th></th>\n",
       "      <th></th>\n",
       "      <th></th>\n",
       "      <th></th>\n",
       "    </tr>\n",
       "  </thead>\n",
       "  <tbody>\n",
       "    <tr>\n",
       "      <th>1</th>\n",
       "      <td>0.480759</td>\n",
       "      <td>0.688550</td>\n",
       "      <td>0.370086</td>\n",
       "      <td>0.392645</td>\n",
       "      <td>0.360818</td>\n",
       "      <td>0.419254</td>\n",
       "      <td>0.517483</td>\n",
       "      <td>0.759551</td>\n",
       "      <td>0.369701</td>\n",
       "      <td>0.686505</td>\n",
       "      <td>...</td>\n",
       "      <td>0.545096</td>\n",
       "      <td>0.545136</td>\n",
       "      <td>0.563060</td>\n",
       "      <td>0.442549</td>\n",
       "      <td>0.509614</td>\n",
       "      <td>0.371313</td>\n",
       "      <td>0.678011</td>\n",
       "      <td>0.688956</td>\n",
       "      <td>0.544369</td>\n",
       "      <td>0.496820</td>\n",
       "    </tr>\n",
       "    <tr>\n",
       "      <th>2</th>\n",
       "      <td>0.623995</td>\n",
       "      <td>0.532027</td>\n",
       "      <td>0.519627</td>\n",
       "      <td>0.623731</td>\n",
       "      <td>0.404923</td>\n",
       "      <td>0.412919</td>\n",
       "      <td>0.456501</td>\n",
       "      <td>0.635867</td>\n",
       "      <td>0.455615</td>\n",
       "      <td>0.683714</td>\n",
       "      <td>...</td>\n",
       "      <td>0.490226</td>\n",
       "      <td>0.408071</td>\n",
       "      <td>0.401761</td>\n",
       "      <td>0.424034</td>\n",
       "      <td>0.348653</td>\n",
       "      <td>0.556901</td>\n",
       "      <td>0.632079</td>\n",
       "      <td>0.468893</td>\n",
       "      <td>0.369227</td>\n",
       "      <td>0.483143</td>\n",
       "    </tr>\n",
       "    <tr>\n",
       "      <th>3</th>\n",
       "      <td>0.525373</td>\n",
       "      <td>0.622902</td>\n",
       "      <td>0.519448</td>\n",
       "      <td>0.393459</td>\n",
       "      <td>0.442179</td>\n",
       "      <td>0.550368</td>\n",
       "      <td>0.515183</td>\n",
       "      <td>0.790477</td>\n",
       "      <td>0.352449</td>\n",
       "      <td>0.582405</td>\n",
       "      <td>...</td>\n",
       "      <td>0.499996</td>\n",
       "      <td>0.619777</td>\n",
       "      <td>0.479420</td>\n",
       "      <td>0.350032</td>\n",
       "      <td>0.376171</td>\n",
       "      <td>0.357934</td>\n",
       "      <td>0.679664</td>\n",
       "      <td>0.735109</td>\n",
       "      <td>0.359137</td>\n",
       "      <td>0.455061</td>\n",
       "    </tr>\n",
       "    <tr>\n",
       "      <th>4</th>\n",
       "      <td>0.353714</td>\n",
       "      <td>0.576465</td>\n",
       "      <td>0.474117</td>\n",
       "      <td>0.413741</td>\n",
       "      <td>0.354063</td>\n",
       "      <td>0.441846</td>\n",
       "      <td>0.655117</td>\n",
       "      <td>0.754925</td>\n",
       "      <td>0.443763</td>\n",
       "      <td>0.577075</td>\n",
       "      <td>...</td>\n",
       "      <td>0.574148</td>\n",
       "      <td>0.575461</td>\n",
       "      <td>0.443060</td>\n",
       "      <td>0.393485</td>\n",
       "      <td>0.425785</td>\n",
       "      <td>0.378634</td>\n",
       "      <td>0.651728</td>\n",
       "      <td>0.845611</td>\n",
       "      <td>0.562431</td>\n",
       "      <td>0.377707</td>\n",
       "    </tr>\n",
       "    <tr>\n",
       "      <th>5</th>\n",
       "      <td>0.667755</td>\n",
       "      <td>0.543455</td>\n",
       "      <td>0.606849</td>\n",
       "      <td>0.526906</td>\n",
       "      <td>0.423939</td>\n",
       "      <td>0.467107</td>\n",
       "      <td>0.349361</td>\n",
       "      <td>0.716827</td>\n",
       "      <td>0.476033</td>\n",
       "      <td>0.614465</td>\n",
       "      <td>...</td>\n",
       "      <td>0.462089</td>\n",
       "      <td>0.539385</td>\n",
       "      <td>0.710304</td>\n",
       "      <td>0.358010</td>\n",
       "      <td>0.398148</td>\n",
       "      <td>0.510071</td>\n",
       "      <td>0.713046</td>\n",
       "      <td>0.339948</td>\n",
       "      <td>0.399627</td>\n",
       "      <td>0.574180</td>\n",
       "    </tr>\n",
       "  </tbody>\n",
       "</table>\n",
       "<p>5 rows × 15633 columns</p>\n",
       "</div>"
      ],
      "text/plain": [
       "gene_symbol      A1BG  A1BG-AS1       A2M     A2ML1   A3GALT2    A4GALT  \\\n",
       "label                                                                     \n",
       "1            0.480759  0.688550  0.370086  0.392645  0.360818  0.419254   \n",
       "2            0.623995  0.532027  0.519627  0.623731  0.404923  0.412919   \n",
       "3            0.525373  0.622902  0.519448  0.393459  0.442179  0.550368   \n",
       "4            0.353714  0.576465  0.474117  0.413741  0.354063  0.441846   \n",
       "5            0.667755  0.543455  0.606849  0.526906  0.423939  0.467107   \n",
       "\n",
       "gene_symbol      AAAS      AACS   AADACL3     AADAT  ...      ZW10    ZWILCH  \\\n",
       "label                                                ...                       \n",
       "1            0.517483  0.759551  0.369701  0.686505  ...  0.545096  0.545136   \n",
       "2            0.456501  0.635867  0.455615  0.683714  ...  0.490226  0.408071   \n",
       "3            0.515183  0.790477  0.352449  0.582405  ...  0.499996  0.619777   \n",
       "4            0.655117  0.754925  0.443763  0.577075  ...  0.574148  0.575461   \n",
       "5            0.349361  0.716827  0.476033  0.614465  ...  0.462089  0.539385   \n",
       "\n",
       "gene_symbol     ZWINT      ZXDA      ZXDB      ZXDC    ZYG11B       ZYX  \\\n",
       "label                                                                     \n",
       "1            0.563060  0.442549  0.509614  0.371313  0.678011  0.688956   \n",
       "2            0.401761  0.424034  0.348653  0.556901  0.632079  0.468893   \n",
       "3            0.479420  0.350032  0.376171  0.357934  0.679664  0.735109   \n",
       "4            0.443060  0.393485  0.425785  0.378634  0.651728  0.845611   \n",
       "5            0.710304  0.358010  0.398148  0.510071  0.713046  0.339948   \n",
       "\n",
       "gene_symbol     ZZEF1      ZZZ3  \n",
       "label                            \n",
       "1            0.544369  0.496820  \n",
       "2            0.369227  0.483143  \n",
       "3            0.359137  0.455061  \n",
       "4            0.562431  0.377707  \n",
       "5            0.399627  0.574180  \n",
       "\n",
       "[5 rows x 15633 columns]"
      ]
     },
     "execution_count": 17,
     "metadata": {},
     "output_type": "execute_result"
    }
   ],
   "source": [
    "expression.head()"
   ]
  },
  {
   "cell_type": "code",
   "execution_count": 21,
   "id": "7fe55c09",
   "metadata": {},
   "outputs": [
    {
     "data": {
      "text/plain": [
       "((83, 15633), (83, 1))"
      ]
     },
     "execution_count": 21,
     "metadata": {},
     "output_type": "execute_result"
    }
   ],
   "source": [
    "expression.shape, AD_parc.T.shape"
   ]
  },
  {
   "cell_type": "code",
   "execution_count": 22,
   "id": "c0ecec2c",
   "metadata": {},
   "outputs": [],
   "source": [
    "expression['AD'] = AD_parc.T"
   ]
  },
  {
   "cell_type": "code",
   "execution_count": 23,
   "id": "a426d811",
   "metadata": {},
   "outputs": [],
   "source": [
    "expression.drop(expression.index[expression['AD'] == 0], inplace = True)\n",
    "expression.dropna(inplace=True)"
   ]
  },
  {
   "cell_type": "code",
   "execution_count": 24,
   "id": "05f12bdd",
   "metadata": {},
   "outputs": [],
   "source": [
    "expression['AD'] = np.log(expression['AD'])"
   ]
  },
  {
   "cell_type": "code",
   "execution_count": 25,
   "id": "4fac30eb",
   "metadata": {},
   "outputs": [
    {
     "data": {
      "text/plain": [
       "(43, 15634)"
      ]
     },
     "execution_count": 25,
     "metadata": {},
     "output_type": "execute_result"
    }
   ],
   "source": [
    "expression.shape"
   ]
  },
  {
   "cell_type": "code",
   "execution_count": 26,
   "id": "b63172a2",
   "metadata": {
    "scrolled": true
   },
   "outputs": [
    {
     "data": {
      "text/html": [
       "<div>\n",
       "<style scoped>\n",
       "    .dataframe tbody tr th:only-of-type {\n",
       "        vertical-align: middle;\n",
       "    }\n",
       "\n",
       "    .dataframe tbody tr th {\n",
       "        vertical-align: top;\n",
       "    }\n",
       "\n",
       "    .dataframe thead th {\n",
       "        text-align: right;\n",
       "    }\n",
       "</style>\n",
       "<table border=\"1\" class=\"dataframe\">\n",
       "  <thead>\n",
       "    <tr style=\"text-align: right;\">\n",
       "      <th>gene_symbol</th>\n",
       "      <th>A1BG</th>\n",
       "      <th>A1BG-AS1</th>\n",
       "      <th>A2M</th>\n",
       "      <th>A2ML1</th>\n",
       "      <th>A3GALT2</th>\n",
       "      <th>A4GALT</th>\n",
       "      <th>AAAS</th>\n",
       "      <th>AACS</th>\n",
       "      <th>AADACL3</th>\n",
       "      <th>AADAT</th>\n",
       "      <th>...</th>\n",
       "      <th>ZWILCH</th>\n",
       "      <th>ZWINT</th>\n",
       "      <th>ZXDA</th>\n",
       "      <th>ZXDB</th>\n",
       "      <th>ZXDC</th>\n",
       "      <th>ZYG11B</th>\n",
       "      <th>ZYX</th>\n",
       "      <th>ZZEF1</th>\n",
       "      <th>ZZZ3</th>\n",
       "      <th>AD</th>\n",
       "    </tr>\n",
       "    <tr>\n",
       "      <th>label</th>\n",
       "      <th></th>\n",
       "      <th></th>\n",
       "      <th></th>\n",
       "      <th></th>\n",
       "      <th></th>\n",
       "      <th></th>\n",
       "      <th></th>\n",
       "      <th></th>\n",
       "      <th></th>\n",
       "      <th></th>\n",
       "      <th></th>\n",
       "      <th></th>\n",
       "      <th></th>\n",
       "      <th></th>\n",
       "      <th></th>\n",
       "      <th></th>\n",
       "      <th></th>\n",
       "      <th></th>\n",
       "      <th></th>\n",
       "      <th></th>\n",
       "      <th></th>\n",
       "    </tr>\n",
       "  </thead>\n",
       "  <tbody>\n",
       "    <tr>\n",
       "      <th>5</th>\n",
       "      <td>0.667755</td>\n",
       "      <td>0.543455</td>\n",
       "      <td>0.606849</td>\n",
       "      <td>0.526906</td>\n",
       "      <td>0.423939</td>\n",
       "      <td>0.467107</td>\n",
       "      <td>0.349361</td>\n",
       "      <td>0.716827</td>\n",
       "      <td>0.476033</td>\n",
       "      <td>0.614465</td>\n",
       "      <td>...</td>\n",
       "      <td>0.539385</td>\n",
       "      <td>0.710304</td>\n",
       "      <td>0.358010</td>\n",
       "      <td>0.398148</td>\n",
       "      <td>0.510071</td>\n",
       "      <td>0.713046</td>\n",
       "      <td>0.339948</td>\n",
       "      <td>0.399627</td>\n",
       "      <td>0.574180</td>\n",
       "      <td>0.498512</td>\n",
       "    </tr>\n",
       "    <tr>\n",
       "      <th>40</th>\n",
       "      <td>0.490292</td>\n",
       "      <td>0.344296</td>\n",
       "      <td>0.427536</td>\n",
       "      <td>0.586020</td>\n",
       "      <td>0.577370</td>\n",
       "      <td>0.583279</td>\n",
       "      <td>0.291768</td>\n",
       "      <td>0.523781</td>\n",
       "      <td>0.640499</td>\n",
       "      <td>0.234787</td>\n",
       "      <td>...</td>\n",
       "      <td>0.538566</td>\n",
       "      <td>0.719953</td>\n",
       "      <td>0.685794</td>\n",
       "      <td>0.449745</td>\n",
       "      <td>0.564028</td>\n",
       "      <td>0.345236</td>\n",
       "      <td>0.273563</td>\n",
       "      <td>0.583096</td>\n",
       "      <td>0.493267</td>\n",
       "      <td>0.357216</td>\n",
       "    </tr>\n",
       "    <tr>\n",
       "      <th>81</th>\n",
       "      <td>0.363747</td>\n",
       "      <td>0.271664</td>\n",
       "      <td>0.469768</td>\n",
       "      <td>0.630534</td>\n",
       "      <td>0.656241</td>\n",
       "      <td>0.585701</td>\n",
       "      <td>0.347811</td>\n",
       "      <td>0.507718</td>\n",
       "      <td>0.719961</td>\n",
       "      <td>0.234131</td>\n",
       "      <td>...</td>\n",
       "      <td>0.355556</td>\n",
       "      <td>0.631193</td>\n",
       "      <td>0.642921</td>\n",
       "      <td>0.482462</td>\n",
       "      <td>0.571270</td>\n",
       "      <td>0.371391</td>\n",
       "      <td>0.286521</td>\n",
       "      <td>0.480644</td>\n",
       "      <td>0.432468</td>\n",
       "      <td>-0.107642</td>\n",
       "    </tr>\n",
       "    <tr>\n",
       "      <th>8</th>\n",
       "      <td>0.578291</td>\n",
       "      <td>0.696163</td>\n",
       "      <td>0.420250</td>\n",
       "      <td>0.474752</td>\n",
       "      <td>0.380554</td>\n",
       "      <td>0.363455</td>\n",
       "      <td>0.476270</td>\n",
       "      <td>0.797896</td>\n",
       "      <td>0.383587</td>\n",
       "      <td>0.657303</td>\n",
       "      <td>...</td>\n",
       "      <td>0.570905</td>\n",
       "      <td>0.572326</td>\n",
       "      <td>0.416326</td>\n",
       "      <td>0.471603</td>\n",
       "      <td>0.388065</td>\n",
       "      <td>0.694198</td>\n",
       "      <td>0.616343</td>\n",
       "      <td>0.434626</td>\n",
       "      <td>0.497935</td>\n",
       "      <td>-0.545731</td>\n",
       "    </tr>\n",
       "    <tr>\n",
       "      <th>15</th>\n",
       "      <td>0.631017</td>\n",
       "      <td>0.618824</td>\n",
       "      <td>0.373092</td>\n",
       "      <td>0.394127</td>\n",
       "      <td>0.446812</td>\n",
       "      <td>0.397319</td>\n",
       "      <td>0.387885</td>\n",
       "      <td>0.707964</td>\n",
       "      <td>0.473886</td>\n",
       "      <td>0.456811</td>\n",
       "      <td>...</td>\n",
       "      <td>0.641104</td>\n",
       "      <td>0.541905</td>\n",
       "      <td>0.450932</td>\n",
       "      <td>0.439447</td>\n",
       "      <td>0.514867</td>\n",
       "      <td>0.657221</td>\n",
       "      <td>0.446785</td>\n",
       "      <td>0.444901</td>\n",
       "      <td>0.432817</td>\n",
       "      <td>-0.562817</td>\n",
       "    </tr>\n",
       "  </tbody>\n",
       "</table>\n",
       "<p>5 rows × 15634 columns</p>\n",
       "</div>"
      ],
      "text/plain": [
       "gene_symbol      A1BG  A1BG-AS1       A2M     A2ML1   A3GALT2    A4GALT  \\\n",
       "label                                                                     \n",
       "5            0.667755  0.543455  0.606849  0.526906  0.423939  0.467107   \n",
       "40           0.490292  0.344296  0.427536  0.586020  0.577370  0.583279   \n",
       "81           0.363747  0.271664  0.469768  0.630534  0.656241  0.585701   \n",
       "8            0.578291  0.696163  0.420250  0.474752  0.380554  0.363455   \n",
       "15           0.631017  0.618824  0.373092  0.394127  0.446812  0.397319   \n",
       "\n",
       "gene_symbol      AAAS      AACS   AADACL3     AADAT  ...    ZWILCH     ZWINT  \\\n",
       "label                                                ...                       \n",
       "5            0.349361  0.716827  0.476033  0.614465  ...  0.539385  0.710304   \n",
       "40           0.291768  0.523781  0.640499  0.234787  ...  0.538566  0.719953   \n",
       "81           0.347811  0.507718  0.719961  0.234131  ...  0.355556  0.631193   \n",
       "8            0.476270  0.797896  0.383587  0.657303  ...  0.570905  0.572326   \n",
       "15           0.387885  0.707964  0.473886  0.456811  ...  0.641104  0.541905   \n",
       "\n",
       "gene_symbol      ZXDA      ZXDB      ZXDC    ZYG11B       ZYX     ZZEF1  \\\n",
       "label                                                                     \n",
       "5            0.358010  0.398148  0.510071  0.713046  0.339948  0.399627   \n",
       "40           0.685794  0.449745  0.564028  0.345236  0.273563  0.583096   \n",
       "81           0.642921  0.482462  0.571270  0.371391  0.286521  0.480644   \n",
       "8            0.416326  0.471603  0.388065  0.694198  0.616343  0.434626   \n",
       "15           0.450932  0.439447  0.514867  0.657221  0.446785  0.444901   \n",
       "\n",
       "gene_symbol      ZZZ3        AD  \n",
       "label                            \n",
       "5            0.574180  0.498512  \n",
       "40           0.493267  0.357216  \n",
       "81           0.432468 -0.107642  \n",
       "8            0.497935 -0.545731  \n",
       "15           0.432817 -0.562817  \n",
       "\n",
       "[5 rows x 15634 columns]"
      ]
     },
     "execution_count": 26,
     "metadata": {},
     "output_type": "execute_result"
    }
   ],
   "source": [
    "expression.nlargest(5, ['AD'])"
   ]
  },
  {
   "cell_type": "code",
   "execution_count": 27,
   "id": "25d109f9",
   "metadata": {},
   "outputs": [
    {
     "data": {
      "text/plain": [
       "gene_symbol\n",
       "EXOC3L2      0.939050\n",
       "LINC02217    0.925807\n",
       "GDA          0.915135\n",
       "LHX2         0.914040\n",
       "KIF21B       0.910780\n",
       "Name: 5, dtype: float64"
      ]
     },
     "execution_count": 27,
     "metadata": {},
     "output_type": "execute_result"
    }
   ],
   "source": [
    "expression.loc[5][:-1].nlargest(5)"
   ]
  },
  {
   "cell_type": "code",
   "execution_count": 28,
   "id": "b934700f",
   "metadata": {},
   "outputs": [
    {
     "data": {
      "text/plain": [
       "gene_symbol\n",
       "SLC24A3    0.906877\n",
       "EPHA6      0.899456\n",
       "SUSD4      0.895791\n",
       "LRRTM1     0.889791\n",
       "LRRN2      0.888457\n",
       "Name: 40, dtype: float64"
      ]
     },
     "execution_count": 28,
     "metadata": {},
     "output_type": "execute_result"
    }
   ],
   "source": [
    "expression.loc[40][:-1].nlargest(5)"
   ]
  },
  {
   "cell_type": "code",
   "execution_count": 29,
   "id": "33791771",
   "metadata": {},
   "outputs": [
    {
     "data": {
      "text/plain": [
       "gene_symbol\n",
       "PNO1       0.912458\n",
       "SLC24A3    0.909667\n",
       "ALPK1      0.891972\n",
       "SUSD4      0.886826\n",
       "WIPF3      0.875446\n",
       "Name: 81, dtype: float64"
      ]
     },
     "execution_count": 29,
     "metadata": {},
     "output_type": "execute_result"
    }
   ],
   "source": [
    "expression.loc[81][:-1].nlargest(5)"
   ]
  },
  {
   "cell_type": "code",
   "execution_count": 30,
   "id": "789b1d42",
   "metadata": {},
   "outputs": [
    {
     "data": {
      "text/plain": [
       "gene_symbol\n",
       "STX1A      0.931906\n",
       "TMEM155    0.916310\n",
       "OLFM1      0.908981\n",
       "RFTN1      0.908588\n",
       "ENC1       0.902118\n",
       "Name: 8, dtype: float64"
      ]
     },
     "execution_count": 30,
     "metadata": {},
     "output_type": "execute_result"
    }
   ],
   "source": [
    "expression.loc[8][:-1].nlargest(5)"
   ]
  },
  {
   "cell_type": "code",
   "execution_count": 31,
   "id": "a2f7e8bd",
   "metadata": {},
   "outputs": [
    {
     "data": {
      "text/plain": [
       "gene_symbol\n",
       "STX1A      0.867296\n",
       "FABP7      0.845749\n",
       "NPTX1      0.835478\n",
       "NEUROD2    0.827978\n",
       "CA11       0.825816\n",
       "Name: 15, dtype: float64"
      ]
     },
     "execution_count": 31,
     "metadata": {},
     "output_type": "execute_result"
    }
   ],
   "source": [
    "expression.loc[15][:-1].nlargest(5)"
   ]
  },
  {
   "cell_type": "code",
   "execution_count": 32,
   "id": "0c2b2a4e",
   "metadata": {},
   "outputs": [],
   "source": [
    "AD_corr = expression[expression.columns].corr()['AD']"
   ]
  },
  {
   "cell_type": "code",
   "execution_count": 231,
   "id": "d389b733",
   "metadata": {},
   "outputs": [],
   "source": [
    "#AD_corr['AB6E10']"
   ]
  },
  {
   "cell_type": "code",
   "execution_count": 35,
   "id": "c284dd86",
   "metadata": {},
   "outputs": [
    {
     "data": {
      "text/plain": [
       "(15634,)"
      ]
     },
     "execution_count": 35,
     "metadata": {},
     "output_type": "execute_result"
    }
   ],
   "source": [
    "AD_corr.shape"
   ]
  },
  {
   "cell_type": "code",
   "execution_count": 37,
   "id": "0863f08d",
   "metadata": {},
   "outputs": [
    {
     "data": {
      "text/plain": [
       "gene_symbol\n",
       "A1BG        0.121271\n",
       "A1BG-AS1    0.135866\n",
       "A2M        -0.265796\n",
       "A2ML1       0.050230\n",
       "A3GALT2     0.076189\n",
       "Name: AD, dtype: float64"
      ]
     },
     "execution_count": 37,
     "metadata": {},
     "output_type": "execute_result"
    }
   ],
   "source": [
    "AD_corr[:5]"
   ]
  },
  {
   "cell_type": "code",
   "execution_count": 33,
   "id": "8b86cea5",
   "metadata": {},
   "outputs": [
    {
     "data": {
      "image/png": "[encoded data removed]",
      "text/plain": [
       "<Figure size 432x288 with 1 Axes>"
      ]
     },
     "metadata": {
      "needs_background": "light"
     },
     "output_type": "display_data"
    }
   ],
   "source": [
    "plt.title('Figure 3 Log AD Association Gene Correlation') \n",
    "plt.ylabel('Genes')\n",
    "plt.xlabel('Correlation') \n",
    "log_hist_bins = plt.hist(AD_corr,bins=50,color='teal')"
   ]
  },
  {
   "cell_type": "code",
   "execution_count": 241,
   "id": "b0b57f78",
   "metadata": {
    "scrolled": true
   },
   "outputs": [
    {
     "data": {
      "text/plain": [
       "<matplotlib.collections.PathCollection at 0x7f8514b0a5b0>"
      ]
     },
     "execution_count": 241,
     "metadata": {},
     "output_type": "execute_result"
    },
    {
     "data": {
      "image/png": "[encoded data removed]",
      "text/plain": [
       "<Figure size 432x288 with 1 Axes>"
      ]
     },
     "metadata": {
      "needs_background": "light"
     },
     "output_type": "display_data"
    }
   ],
   "source": [
    "plt.scatter(expression['AD'],expression['NSG1'])"
   ]
  },
  {
   "cell_type": "code",
   "execution_count": 178,
   "id": "c98039e1",
   "metadata": {},
   "outputs": [
    {
     "data": {
      "text/plain": [
       "gene_symbol\n",
       "NSG1       0.681479\n",
       "FOXQ1      0.637006\n",
       "PLCB4      0.629693\n",
       "FKBP9      0.626061\n",
       "HIST4H4    0.624609\n",
       "MAP2K3     0.619874\n",
       "SV2C       0.614129\n",
       "SDSL       0.613662\n",
       "PLCD4      0.612178\n",
       "CDH6       0.610929\n",
       "Name: AD, dtype: float64"
      ]
     },
     "execution_count": 178,
     "metadata": {},
     "output_type": "execute_result"
    }
   ],
   "source": [
    "abs(AD_corr[:-1]).nlargest(10)"
   ]
  },
  {
   "cell_type": "code",
   "execution_count": 77,
   "id": "f9cac1c1",
   "metadata": {},
   "outputs": [],
   "source": [
    "new = pd.DataFrame({\n",
    "    'NSG1': expression['NSG1'],\n",
    "    'FOXQ1': expression['FOXQ1'],\n",
    "    'PLCB4': expression['PLCB4'],\n",
    "    'FKBP9': expression['FKBP9'],\n",
    "    'HIST4H4': expression['HIST4H4'],\n",
    "    'MAP2K3': expression['MAP2K3'],\n",
    "    'SV2C': expression['SV2C'],\n",
    "    'SDSL': expression['SDSL'],\n",
    "    'PLCD4': expression['PLCD4'],\n",
    "    'CDH6': expression['CDH6']\n",
    "})"
   ]
  },
  {
   "cell_type": "code",
   "execution_count": 79,
   "id": "1c35c677",
   "metadata": {},
   "outputs": [
    {
     "data": {
      "text/html": [
       "<div>\n",
       "<style scoped>\n",
       "    .dataframe tbody tr th:only-of-type {\n",
       "        vertical-align: middle;\n",
       "    }\n",
       "\n",
       "    .dataframe tbody tr th {\n",
       "        vertical-align: top;\n",
       "    }\n",
       "\n",
       "    .dataframe thead th {\n",
       "        text-align: right;\n",
       "    }\n",
       "</style>\n",
       "<table border=\"1\" class=\"dataframe\">\n",
       "  <thead>\n",
       "    <tr style=\"text-align: right;\">\n",
       "      <th></th>\n",
       "      <th>NSG1</th>\n",
       "      <th>FOXQ1</th>\n",
       "      <th>PLCB4</th>\n",
       "      <th>FKBP9</th>\n",
       "      <th>HIST4H4</th>\n",
       "      <th>MAP2K3</th>\n",
       "      <th>SV2C</th>\n",
       "      <th>SDSL</th>\n",
       "      <th>PLCD4</th>\n",
       "      <th>CDH6</th>\n",
       "    </tr>\n",
       "    <tr>\n",
       "      <th>label</th>\n",
       "      <th></th>\n",
       "      <th></th>\n",
       "      <th></th>\n",
       "      <th></th>\n",
       "      <th></th>\n",
       "      <th></th>\n",
       "      <th></th>\n",
       "      <th></th>\n",
       "      <th></th>\n",
       "      <th></th>\n",
       "    </tr>\n",
       "  </thead>\n",
       "  <tbody>\n",
       "    <tr>\n",
       "      <th>3</th>\n",
       "      <td>0.583627</td>\n",
       "      <td>0.537473</td>\n",
       "      <td>0.543701</td>\n",
       "      <td>0.570812</td>\n",
       "      <td>0.468355</td>\n",
       "      <td>0.541548</td>\n",
       "      <td>0.453781</td>\n",
       "      <td>0.615405</td>\n",
       "      <td>0.489012</td>\n",
       "      <td>0.566208</td>\n",
       "    </tr>\n",
       "    <tr>\n",
       "      <th>5</th>\n",
       "      <td>0.284294</td>\n",
       "      <td>0.253065</td>\n",
       "      <td>0.265957</td>\n",
       "      <td>0.361951</td>\n",
       "      <td>0.354445</td>\n",
       "      <td>0.211881</td>\n",
       "      <td>0.174768</td>\n",
       "      <td>0.279616</td>\n",
       "      <td>0.245863</td>\n",
       "      <td>0.299553</td>\n",
       "    </tr>\n",
       "    <tr>\n",
       "      <th>6</th>\n",
       "      <td>0.378846</td>\n",
       "      <td>0.338134</td>\n",
       "      <td>0.384011</td>\n",
       "      <td>0.416077</td>\n",
       "      <td>0.371210</td>\n",
       "      <td>0.336301</td>\n",
       "      <td>0.284555</td>\n",
       "      <td>0.394435</td>\n",
       "      <td>0.359745</td>\n",
       "      <td>0.415498</td>\n",
       "    </tr>\n",
       "    <tr>\n",
       "      <th>7</th>\n",
       "      <td>0.484528</td>\n",
       "      <td>0.467534</td>\n",
       "      <td>0.466467</td>\n",
       "      <td>0.467866</td>\n",
       "      <td>0.479077</td>\n",
       "      <td>0.434273</td>\n",
       "      <td>0.481794</td>\n",
       "      <td>0.516851</td>\n",
       "      <td>0.503313</td>\n",
       "      <td>0.472382</td>\n",
       "    </tr>\n",
       "    <tr>\n",
       "      <th>8</th>\n",
       "      <td>0.398064</td>\n",
       "      <td>0.365364</td>\n",
       "      <td>0.398590</td>\n",
       "      <td>0.435047</td>\n",
       "      <td>0.385632</td>\n",
       "      <td>0.358136</td>\n",
       "      <td>0.306461</td>\n",
       "      <td>0.412714</td>\n",
       "      <td>0.376651</td>\n",
       "      <td>0.418383</td>\n",
       "    </tr>\n",
       "  </tbody>\n",
       "</table>\n",
       "</div>"
      ],
      "text/plain": [
       "           NSG1     FOXQ1     PLCB4     FKBP9   HIST4H4    MAP2K3      SV2C  \\\n",
       "label                                                                         \n",
       "3      0.583627  0.537473  0.543701  0.570812  0.468355  0.541548  0.453781   \n",
       "5      0.284294  0.253065  0.265957  0.361951  0.354445  0.211881  0.174768   \n",
       "6      0.378846  0.338134  0.384011  0.416077  0.371210  0.336301  0.284555   \n",
       "7      0.484528  0.467534  0.466467  0.467866  0.479077  0.434273  0.481794   \n",
       "8      0.398064  0.365364  0.398590  0.435047  0.385632  0.358136  0.306461   \n",
       "\n",
       "           SDSL     PLCD4      CDH6  \n",
       "label                                \n",
       "3      0.615405  0.489012  0.566208  \n",
       "5      0.279616  0.245863  0.299553  \n",
       "6      0.394435  0.359745  0.415498  \n",
       "7      0.516851  0.503313  0.472382  \n",
       "8      0.412714  0.376651  0.418383  "
      ]
     },
     "execution_count": 79,
     "metadata": {},
     "output_type": "execute_result"
    }
   ],
   "source": [
    "new.head()"
   ]
  },
  {
   "cell_type": "code",
   "execution_count": 71,
   "id": "60f86af3",
   "metadata": {},
   "outputs": [],
   "source": [
    "import seaborn as sns"
   ]
  },
  {
   "cell_type": "code",
   "execution_count": 104,
   "id": "8983cc7a",
   "metadata": {
    "scrolled": true
   },
   "outputs": [
    {
     "data": {
      "image/png": "[encoded data removed]",
      "text/plain": [
       "<Figure size 1152x432 with 2 Axes>"
      ]
     },
     "metadata": {
      "needs_background": "light"
     },
     "output_type": "display_data"
    }
   ],
   "source": [
    "# AD genes co-expression\n",
    "\n",
    "plt.figure(figsize=(16, 6))\n",
    "new_heat = sns.heatmap(new.corr(), annot=True);\n",
    "new_heat.set_title('AD Genes Correlation', fontdict={'fontsize':12}, pad=12);"
   ]
  },
  {
   "cell_type": "code",
   "execution_count": 155,
   "id": "5129e0ce",
   "metadata": {},
   "outputs": [],
   "source": [
    "x = abs(AD_corr[:-1]).nlargest(10).index"
   ]
  },
  {
   "cell_type": "code",
   "execution_count": 224,
   "id": "90870b58",
   "metadata": {},
   "outputs": [
    {
     "data": {
      "text/plain": [
       "<BarContainer object of 10 artists>"
      ]
     },
     "execution_count": 224,
     "metadata": {},
     "output_type": "execute_result"
    },
    {
     "data": {
      "image/png": "[encoded data removed]",
      "text/plain": [
       "<Figure size 576x360 with 1 Axes>"
      ]
     },
     "metadata": {
      "needs_background": "light"
     },
     "output_type": "display_data"
    }
   ],
   "source": [
    "# 10 genes most correlated w/ AD association level\n",
    "\n",
    "plt.figure(figsize=(8, 5))\n",
    "#plt.title('AD Genes Correlation',fontsize=20)\n",
    "plt.ylabel('AD Correlation',fontsize=16)\n",
    "plt.yticks(fontsize=12)\n",
    "plt.xticks(fontsize=14,rotation=55)\n",
    "plt.bar(x=x,height=abs(AD_corr[:-1]).nlargest(10), width=0.3, color='teal')\n"
   ]
  },
  {
   "cell_type": "code",
   "execution_count": null,
   "id": "b6d91574",
   "metadata": {},
   "outputs": [],
   "source": []
  }
 ],
 "metadata": {
  "kernelspec": {
   "display_name": "Python 3 (ipykernel)",
   "language": "python",
   "name": "python3"
  },
  "language_info": {
   "codemirror_mode": {
    "name": "ipython",
    "version": 3
   },
   "file_extension": ".py",
   "mimetype": "text/x-python",
   "name": "python",
   "nbconvert_exporter": "python",
   "pygments_lexer": "ipython3",
   "version": "3.9.7"
  }
 },
 "nbformat": 4,
 "nbformat_minor": 5
}
