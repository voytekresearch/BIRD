{
 "cells": [
  {
   "cell_type": "markdown",
   "id": "5691f50b",
   "metadata": {},
   "source": [
    "#### Moderate correlation ( r > 0.3 ) & statistically significant ( p < 0.05 )\n",
    "    receptor maps || genes\n",
    "    \n",
    "    serotonin: ELMO2, GADD45B, LANCL2, TRIM66, NEURL1B\n",
    "    dopamine: STXBP6, GADD45B, LANCL2, RSPO3, NEURL1B\n",
    "    gaba: GADD45B, LANCL2, RSPO3, TRIM66, NEURL1B, STXBP6\n",
    "    norepinephrine: NONE\n",
    "    acetylcholine: GADD45B, LANCL2, RSPO3, TRIM66, NEURL1B, STXBP6\n",
    "    glutamate: GABB45B, LANCL2, RSPO3, TRIM66, NEURL1B\n",
    "    mu opioid: STXBP6"
   ]
  },
  {
   "cell_type": "code",
   "execution_count": 25,
   "id": "e287f8c5",
   "metadata": {},
   "outputs": [],
   "source": [
    "import nibabel as nib\n",
    "from neuromaps import nulls\n",
    "from neuromaps import stats\n",
    "from neuromaps import transforms\n",
    "from neuromaps import datasets\n",
    "from neuromaps.datasets import available_tags, available_annotations, fetch_annotation"
   ]
  },
  {
   "cell_type": "code",
   "execution_count": 107,
   "id": "6314a03b",
   "metadata": {},
   "outputs": [
    {
     "data": {
      "text/plain": [
       "dict_keys(['dopamine', 'gaba', 'norepinephrine', 'acetylcholine', 'serotonin', 'glutamate', 'mu opioid'])"
      ]
     },
     "execution_count": 107,
     "metadata": {},
     "output_type": "execute_result"
    }
   ],
   "source": [
    "import json\n",
    "with open('data/data_desc.json', 'r') as f:\n",
    "    data_desc = json.load(f)\n",
    "data_desc.keys()"
   ]
  },
  {
   "cell_type": "code",
   "execution_count": 28,
   "id": "df082106",
   "metadata": {},
   "outputs": [],
   "source": [
    "AD_association = nib.load('data/neurosynth_maps/terms/alzheimer_association-test_z_FDR_0.01.nii')\n",
    "\n",
    "genes1 = {\n",
    "    'ELMO2': nib.load('data/neurosynth_maps/genes1/gene_40559_ELMO2_63916.0.nii'),\n",
    "    'GADD45B': nib.load('data/neurosynth_maps/genes1/gene_4590_GADD45B_4616.0.nii'),\n",
    "    'LANCL2': nib.load('data/neurosynth_maps/genes1/gene_35202_LANCL2_55915.0.nii'),\n",
    "    'RSPO3': nib.load('data/neurosynth_maps/genes1/gene_59060_RSPO3_84870.0.nii'),\n",
    "    'TRIM66': nib.load('data/neurosynth_maps/genes1/gene_9722_TRIM66_9866.0.nii'),\n",
    "    'DCAF5': nib.load('data/neurosynth_maps/genes1/gene_8739_DCAF5_8816.0.nii'),\n",
    "    'ARL2': nib.load('data/neurosynth_maps/genes1/gene_399_ARL2_402.0.nii'),\n",
    "    'NEURL1B': nib.load('data/neurosynth_maps/genes1/gene_33783_NEURL1B_54492.0.nii'),\n",
    "    'STXBP6': nib.load('data/neurosynth_maps/genes1/gene_28827_STXBP6_29091.0.nii'),\n",
    "    \n",
    "}"
   ]
  },
  {
   "cell_type": "code",
   "execution_count": 30,
   "id": "7297844a",
   "metadata": {},
   "outputs": [],
   "source": [
    "def spatial_nulls(map1, map2):\n",
    "    fsavg_map1 = transforms.mni152_to_fsaverage(map1, '10k')\n",
    "    fsavg_map2 = transforms.mni152_to_fsaverage(map2, '10k')\n",
    "    rotated = nulls.alexander_bloch(fsavg_map1, atlas='fsaverage', density='10k', n_perm=100, seed=1234)\n",
    "    corr, pval = stats.compare_images(fsavg_map1, fsavg_map2, nulls=rotated)\n",
    "    return (f'r = {corr:.3f}, p = {pval:.3f}')"
   ]
  },
  {
   "cell_type": "markdown",
   "id": "6b4dec06",
   "metadata": {},
   "source": [
    "### Serotonin"
   ]
  },
  {
   "cell_type": "code",
   "execution_count": 31,
   "id": "5043c420",
   "metadata": {},
   "outputs": [
    {
     "data": {
      "text/plain": [
       "{'gallezot2010': 'serotonin 5-HT(1B) receptor',\n",
       " 'fazio2016': 'serotonin transporter',\n",
       " 'beliveau2017': 'seratonin agonist',\n",
       " 'radnakrishnan2018': '5-HT6 receptor availability'}"
      ]
     },
     "execution_count": 31,
     "metadata": {},
     "output_type": "execute_result"
    }
   ],
   "source": [
    "data_desc['serotonin']"
   ]
  },
  {
   "cell_type": "code",
   "execution_count": 32,
   "id": "9fd65e41",
   "metadata": {},
   "outputs": [],
   "source": [
    "gallezot2010 = fetch_annotation(source='gallezot2010')\n",
    "fazio2016 = fetch_annotation(source='fazio2016')\n",
    "beliveau2017 = fetch_annotation(source='beliveau2017')\n",
    "radnakrishnan2018 = fetch_annotation(source='radnakrishnan2018')"
   ]
  },
  {
   "cell_type": "code",
   "execution_count": 52,
   "id": "ddc8542d",
   "metadata": {},
   "outputs": [
    {
     "name": "stdout",
     "output_type": "stream",
     "text": [
      "ELMO2 <-> gallezot2010:  r = -0.301, p = 0.010\n",
      "GADD45B <-> gallezot2010:  r = 0.026, p = 0.713\n",
      "LANCL2 <-> gallezot2010:  r = -0.057, p = 0.396\n",
      "RSPO3 <-> gallezot2010:  r = -0.095, p = 0.178\n",
      "TRIM66 <-> gallezot2010:  r = -0.092, p = 0.366\n",
      "DCAF5 <-> gallezot2010:  r = -0.065, p = 0.188\n",
      "ARL2 <-> gallezot2010:  r = 0.121, p = 0.079\n",
      "NEURL1B <-> gallezot2010:  r = 0.083, p = 0.257\n",
      "STXBP6 <-> gallezot2010:  r = -0.008, p = 0.970\n"
     ]
    }
   ],
   "source": [
    "# correlation with all genes and gallezot2010\n",
    "\n",
    "for gene in genes1:\n",
    "    output = spatial_nulls(genes1[gene], gallezot2010)\n",
    "    print(gene, '<-> gallezot2010: ', output)"
   ]
  },
  {
   "cell_type": "markdown",
   "id": "3708ddab",
   "metadata": {},
   "source": [
    "    Significant W/ gallezot2010: ELMO2"
   ]
  },
  {
   "cell_type": "markdown",
   "id": "00d615b9",
   "metadata": {},
   "source": [
    "        ELMO2: LOW CORRELATION r = -0.301"
   ]
  },
  {
   "cell_type": "code",
   "execution_count": 53,
   "id": "b4cf945e",
   "metadata": {
    "scrolled": true
   },
   "outputs": [
    {
     "name": "stdout",
     "output_type": "stream",
     "text": [
      "ELMO2 <-> fazio2016:  r = -0.088, p = 0.129\n",
      "GADD45B <-> fazio2016:  r = -0.072, p = 0.218\n",
      "LANCL2 <-> fazio2016:  r = -0.010, p = 0.851\n",
      "RSPO3 <-> fazio2016:  r = 0.047, p = 0.366\n",
      "TRIM66 <-> fazio2016:  r = -0.084, p = 0.139\n",
      "DCAF5 <-> fazio2016:  r = -0.003, p = 0.921\n",
      "ARL2 <-> fazio2016:  r = -0.013, p = 0.881\n",
      "NEURL1B <-> fazio2016:  r = 0.133, p = 0.020\n",
      "STXBP6 <-> fazio2016:  r = 0.054, p = 0.277\n"
     ]
    }
   ],
   "source": [
    "# correlation with all genes and fazio2016\n",
    "\n",
    "for gene in genes1:\n",
    "    output = spatial_nulls(genes1[gene], fazio2016)\n",
    "    print(gene, '<-> fazio2016: ', output)"
   ]
  },
  {
   "cell_type": "markdown",
   "id": "095f8c59",
   "metadata": {},
   "source": [
    "    Significant W/ fazio2016: NEURL1B"
   ]
  },
  {
   "cell_type": "markdown",
   "id": "5e836fba",
   "metadata": {},
   "source": [
    "        NEURL1B: VERY LOW CORRELATION r = 0.133"
   ]
  },
  {
   "cell_type": "code",
   "execution_count": 54,
   "id": "90c63faa",
   "metadata": {},
   "outputs": [],
   "source": [
    "# multiple maps in beliveau2017"
   ]
  },
  {
   "cell_type": "code",
   "execution_count": 55,
   "id": "bed39a47",
   "metadata": {},
   "outputs": [
    {
     "name": "stdout",
     "output_type": "stream",
     "text": [
      "ELMO2 <-> beliveau2017 1:  r = -0.126, p = 0.010\n",
      "GADD45B <-> beliveau2017 1:  r = 0.070, p = 0.069\n",
      "LANCL2 <-> beliveau2017 1:  r = -0.102, p = 0.020\n",
      "RSPO3 <-> beliveau2017 1:  r = -0.059, p = 0.119\n",
      "TRIM66 <-> beliveau2017 1:  r = 0.013, p = 0.782\n",
      "DCAF5 <-> beliveau2017 1:  r = -0.059, p = 0.030\n",
      "ARL2 <-> beliveau2017 1:  r = -0.002, p = 0.901\n",
      "NEURL1B <-> beliveau2017 1:  r = -0.012, p = 0.683\n",
      "STXBP6 <-> beliveau2017 1:  r = -0.016, p = 0.703\n"
     ]
    }
   ],
   "source": [
    "# correlation with all genes and beliveau2017\n",
    "\n",
    "for gene in genes1:\n",
    "    output = spatial_nulls(genes1[gene], beliveau2017[('beliveau2017', 'az10419369', 'MNI152', '1mm')])\n",
    "    print(gene, '<-> beliveau2017 1: ', output)"
   ]
  },
  {
   "cell_type": "markdown",
   "id": "06ac79aa",
   "metadata": {},
   "source": [
    "    Significant W/ beliveau2017 #1: ELMO2, LANCL2, DCAF5"
   ]
  },
  {
   "cell_type": "markdown",
   "id": "1281695f",
   "metadata": {},
   "source": [
    "        ELMO2: VERY LOW CORRELATION r = -0.126\n",
    "        LANCL2: VERY LOW CORRELATION r = -0.102\n",
    "        DCAF5: VERY LOW CORRELATION r = -0.059"
   ]
  },
  {
   "cell_type": "code",
   "execution_count": 56,
   "id": "9b1ec33e",
   "metadata": {},
   "outputs": [
    {
     "name": "stdout",
     "output_type": "stream",
     "text": [
      "ELMO2 <-> beliveau2017 2:  r = -0.065, p = 0.059\n",
      "GADD45B <-> beliveau2017 2:  r = -0.065, p = 0.069\n",
      "LANCL2 <-> beliveau2017 2:  r = 0.012, p = 0.762\n",
      "RSPO3 <-> beliveau2017 2:  r = 0.043, p = 0.257\n",
      "TRIM66 <-> beliveau2017 2:  r = -0.012, p = 0.762\n",
      "DCAF5 <-> beliveau2017 2:  r = -0.030, p = 0.208\n",
      "ARL2 <-> beliveau2017 2:  r = -0.025, p = 0.574\n",
      "NEURL1B <-> beliveau2017 2:  r = 0.072, p = 0.050\n",
      "STXBP6 <-> beliveau2017 2:  r = -0.020, p = 0.653\n"
     ]
    }
   ],
   "source": [
    "# correlation with all genes and beliveau2017\n",
    "\n",
    "for gene in genes1:\n",
    "    output = spatial_nulls(genes1[gene], beliveau2017[('beliveau2017', 'cimbi36', 'MNI152', '1mm')])\n",
    "    print(gene, '<-> beliveau2017 2: ', output)"
   ]
  },
  {
   "cell_type": "markdown",
   "id": "ec78483d",
   "metadata": {},
   "source": [
    "    Significant W/ beliveau2017 #2: NONE"
   ]
  },
  {
   "cell_type": "code",
   "execution_count": 57,
   "id": "663c15e2",
   "metadata": {},
   "outputs": [
    {
     "name": "stdout",
     "output_type": "stream",
     "text": [
      "ELMO2 <-> beliveau2017 3:  r = 0.110, p = 0.069\n",
      "GADD45B <-> beliveau2017 3:  r = -0.234, p = 0.010\n",
      "LANCL2 <-> beliveau2017 3:  r = 0.170, p = 0.010\n",
      "RSPO3 <-> beliveau2017 3:  r = 0.261, p = 0.010\n",
      "TRIM66 <-> beliveau2017 3:  r = -0.125, p = 0.020\n",
      "DCAF5 <-> beliveau2017 3:  r = 0.054, p = 0.089\n",
      "ARL2 <-> beliveau2017 3:  r = -0.054, p = 0.634\n",
      "NEURL1B <-> beliveau2017 3:  r = 0.195, p = 0.010\n",
      "STXBP6 <-> beliveau2017 3:  r = 0.010, p = 0.842\n"
     ]
    }
   ],
   "source": [
    "# correlation with all genes and beliveau2017\n",
    "\n",
    "for gene in genes1:\n",
    "    output = spatial_nulls(genes1[gene], beliveau2017[('beliveau2017', 'cumi101', 'MNI152', '1mm')])\n",
    "    print(gene, '<-> beliveau2017 3: ', output)"
   ]
  },
  {
   "cell_type": "markdown",
   "id": "970f6a2a",
   "metadata": {},
   "source": [
    "    Significant W/ beliveau2017 #3: GADD45B, LANCL2, RSPO3, TRIM66, NEURL1B"
   ]
  },
  {
   "cell_type": "markdown",
   "id": "b29d9bed",
   "metadata": {},
   "source": [
    "        GADD45B: LOW CORRELATION\n",
    "        LANCL2: LOW CORRELATION\n",
    "        RSPO3: LOW CORRELATION\n",
    "        RSPO3: LOW CORRELATION\n",
    "        TRIM66: LOW CORRELATION\n",
    "        NEURL1B: LOW CORRELATION"
   ]
  },
  {
   "cell_type": "code",
   "execution_count": 58,
   "id": "cf93c6b4",
   "metadata": {},
   "outputs": [
    {
     "name": "stdout",
     "output_type": "stream",
     "text": [
      "ELMO2 <-> beliveau2017 4:  r = 0.027, p = 0.673\n",
      "GADD45B <-> beliveau2017 4:  r = -0.026, p = 0.752\n",
      "LANCL2 <-> beliveau2017 4:  r = -0.014, p = 0.782\n",
      "RSPO3 <-> beliveau2017 4:  r = 0.108, p = 0.040\n",
      "TRIM66 <-> beliveau2017 4:  r = -0.084, p = 0.218\n",
      "DCAF5 <-> beliveau2017 4:  r = 0.021, p = 0.574\n",
      "ARL2 <-> beliveau2017 4:  r = -0.048, p = 0.634\n",
      "NEURL1B <-> beliveau2017 4:  r = 0.079, p = 0.158\n",
      "STXBP6 <-> beliveau2017 4:  r = 0.021, p = 0.644\n"
     ]
    }
   ],
   "source": [
    "# correlation with all genes and beliveau2017\n",
    "\n",
    "for gene in genes1:\n",
    "    output = spatial_nulls(genes1[gene], beliveau2017[('beliveau2017', 'dasb', 'MNI152', '1mm')])\n",
    "    print(gene, '<-> beliveau2017 4: ', output)"
   ]
  },
  {
   "cell_type": "markdown",
   "id": "c0fa5c3f",
   "metadata": {},
   "source": [
    "    Significant W/ beliveau2017 #4: RSPO3"
   ]
  },
  {
   "cell_type": "markdown",
   "id": "200ebce0",
   "metadata": {},
   "source": [
    "        RSPO3: LOW CORRELATION"
   ]
  },
  {
   "cell_type": "code",
   "execution_count": 59,
   "id": "fa358e75",
   "metadata": {},
   "outputs": [
    {
     "name": "stdout",
     "output_type": "stream",
     "text": [
      "ELMO2 <-> beliveau2017 5:  r = 0.010, p = 0.842\n",
      "GADD45B <-> beliveau2017 5:  r = -0.136, p = 0.010\n",
      "LANCL2 <-> beliveau2017 5:  r = 0.091, p = 0.020\n",
      "RSPO3 <-> beliveau2017 5:  r = 0.130, p = 0.010\n",
      "TRIM66 <-> beliveau2017 5:  r = -0.033, p = 0.465\n",
      "DCAF5 <-> beliveau2017 5:  r = 0.012, p = 0.604\n",
      "ARL2 <-> beliveau2017 5:  r = -0.043, p = 0.535\n",
      "NEURL1B <-> beliveau2017 5:  r = 0.110, p = 0.010\n",
      "STXBP6 <-> beliveau2017 5:  r = 0.005, p = 0.960\n"
     ]
    }
   ],
   "source": [
    "# correlation with all genes and beliveau2017\n",
    "\n",
    "for gene in genes1:\n",
    "    output = spatial_nulls(genes1[gene], beliveau2017[('beliveau2017', 'sb207145', 'MNI152', '1mm')])\n",
    "    print(gene, '<-> beliveau2017 5: ', output)"
   ]
  },
  {
   "cell_type": "markdown",
   "id": "d9b0cca4",
   "metadata": {},
   "source": [
    "    Significant W/ beliveau2017 #5: GADD45B, LANCL2, RSPO3, NEURL1B"
   ]
  },
  {
   "cell_type": "markdown",
   "id": "7e34b053",
   "metadata": {},
   "source": [
    "        GADD45B: LOW CORRELATION\n",
    "        LANCL2: LOW CORRELATION\n",
    "        RSPO3: LOW CORRELATION\n",
    "        NEURL1B: LOW CORRELATION"
   ]
  },
  {
   "cell_type": "code",
   "execution_count": 60,
   "id": "da8782ff",
   "metadata": {},
   "outputs": [
    {
     "name": "stdout",
     "output_type": "stream",
     "text": [
      "ELMO2 <-> radnakrishnan2018:  r = -0.221, p = 0.010\n",
      "GADD45B <-> radnakrishnan2018:  r = -0.335, p = 0.010\n",
      "LANCL2 <-> radnakrishnan2018:  r = 0.338, p = 0.010\n",
      "RSPO3 <-> radnakrishnan2018:  r = 0.218, p = 0.020\n",
      "TRIM66 <-> radnakrishnan2018:  r = -0.315, p = 0.010\n",
      "DCAF5 <-> radnakrishnan2018:  r = 0.052, p = 0.376\n",
      "ARL2 <-> radnakrishnan2018:  r = 0.190, p = 0.010\n",
      "NEURL1B <-> radnakrishnan2018:  r = 0.375, p = 0.010\n",
      "STXBP6 <-> radnakrishnan2018:  r = -0.115, p = 0.267\n"
     ]
    }
   ],
   "source": [
    "# correlation with all genes and radnakrishnan2018\n",
    "\n",
    "for gene in genes1:\n",
    "    output = spatial_nulls(genes1[gene], radnakrishnan2018)\n",
    "    print(gene, '<-> radnakrishnan2018: ', output)"
   ]
  },
  {
   "cell_type": "markdown",
   "id": "4d3e88e4",
   "metadata": {},
   "source": [
    "    Significant W/ radnakrishnan2018: ELMO2, GADD45B, LANCL2, RSPO3, TRIM66, ARL2, NEURL1B"
   ]
  },
  {
   "cell_type": "markdown",
   "id": "a1ef1f1b",
   "metadata": {},
   "source": [
    "        ELMO2: LOW CORRELATION\n",
    "        GADD45B: LOW CORRELATION\n",
    "        LANCL2: LOW CORRELATION\n",
    "        RSPO3: LOW CORRELATION\n",
    "        TRIM66: LOW CORRELATION\n",
    "        ARL2: LOW CORRELATION\n",
    "        NEURL1B: LOW/MOD CORRELATION"
   ]
  },
  {
   "cell_type": "markdown",
   "id": "25c9987a",
   "metadata": {},
   "source": [
    "### Dopamine"
   ]
  },
  {
   "cell_type": "code",
   "execution_count": 61,
   "id": "365e1978",
   "metadata": {},
   "outputs": [
    {
     "data": {
      "text/plain": [
       "{'sandiego2015': 'D2 dopamine receptors',\n",
       " 'sasaki2012': 'dopamine transporter',\n",
       " 'kaller2017': 'dopamine D1 receptors',\n",
       " 'alarkurtti2015': 'raclopride - dopamine receptor'}"
      ]
     },
     "execution_count": 61,
     "metadata": {},
     "output_type": "execute_result"
    }
   ],
   "source": [
    "data_desc['dopamine']"
   ]
  },
  {
   "cell_type": "code",
   "execution_count": 62,
   "id": "fd258122",
   "metadata": {},
   "outputs": [],
   "source": [
    "sandiego2015 = fetch_annotation(source='sandiego2015')\n",
    "sasaki2012 = fetch_annotation(source='sasaki2012')\n",
    "kaller2017 = fetch_annotation(source='kaller2017')\n",
    "alarkurtti2015 = fetch_annotation(source='alarkurtti2015')"
   ]
  },
  {
   "cell_type": "code",
   "execution_count": 63,
   "id": "18a05134",
   "metadata": {},
   "outputs": [
    {
     "name": "stdout",
     "output_type": "stream",
     "text": [
      "ELMO2 <-> sandiego2015:  r = 0.140, p = 0.069\n",
      "GADD45B <-> sandiego2015:  r = 0.111, p = 0.129\n",
      "LANCL2 <-> sandiego2015:  r = -0.156, p = 0.010\n",
      "RSPO3 <-> sandiego2015:  r = -0.109, p = 0.178\n",
      "TRIM66 <-> sandiego2015:  r = 0.242, p = 0.010\n",
      "DCAF5 <-> sandiego2015:  r = 0.015, p = 0.772\n",
      "ARL2 <-> sandiego2015:  r = -0.123, p = 0.267\n",
      "NEURL1B <-> sandiego2015:  r = -0.141, p = 0.040\n",
      "STXBP6 <-> sandiego2015:  r = 0.302, p = 0.010\n"
     ]
    }
   ],
   "source": [
    "# correlation with all genes and sandiego2015\n",
    "\n",
    "for gene in genes1:\n",
    "    output = spatial_nulls(genes1[gene], sandiego2015)\n",
    "    print(gene, '<-> sandiego2015: ', output)"
   ]
  },
  {
   "cell_type": "markdown",
   "id": "c45ebe20",
   "metadata": {},
   "source": [
    "    Significant W/ sandiego2015: LANCL2, TRIM66, NEURL1B, STXBP6"
   ]
  },
  {
   "cell_type": "markdown",
   "id": "ae286a4f",
   "metadata": {},
   "source": [
    "        LANCL2: LOW CORRELATION\n",
    "        TRIM66: LOW CORRELATION\n",
    "        NEURL1B: LOW CORRELATION\n",
    "        STXBP6: LOW CORRELATION"
   ]
  },
  {
   "cell_type": "code",
   "execution_count": 64,
   "id": "e04bf712",
   "metadata": {},
   "outputs": [
    {
     "name": "stdout",
     "output_type": "stream",
     "text": [
      "ELMO2 <-> sasaki2012:  r = -0.037, p = 0.406\n",
      "GADD45B <-> sasaki2012:  r = 0.026, p = 0.574\n",
      "LANCL2 <-> sasaki2012:  r = 0.004, p = 0.931\n",
      "RSPO3 <-> sasaki2012:  r = -0.076, p = 0.188\n",
      "TRIM66 <-> sasaki2012:  r = 0.000, p = 0.990\n",
      "DCAF5 <-> sasaki2012:  r = 0.047, p = 0.228\n",
      "ARL2 <-> sasaki2012:  r = 0.061, p = 0.208\n",
      "NEURL1B <-> sasaki2012:  r = -0.001, p = 0.970\n",
      "STXBP6 <-> sasaki2012:  r = 0.177, p = 0.010\n"
     ]
    }
   ],
   "source": [
    "# correlation with all genes and sasaki2012\n",
    "\n",
    "for gene in genes1:\n",
    "    output = spatial_nulls(genes1[gene], sasaki2012)\n",
    "    print(gene, '<-> sasaki2012: ', output)"
   ]
  },
  {
   "cell_type": "markdown",
   "id": "14bf7030",
   "metadata": {},
   "source": [
    "    Significant W/ sasaki2012: STXBP6"
   ]
  },
  {
   "cell_type": "markdown",
   "id": "2d02510d",
   "metadata": {},
   "source": [
    "        STXBP6: LOW CORRELATION"
   ]
  },
  {
   "cell_type": "code",
   "execution_count": 65,
   "id": "3592e15a",
   "metadata": {},
   "outputs": [
    {
     "name": "stdout",
     "output_type": "stream",
     "text": [
      "ELMO2 <-> kaller2017:  r = -0.045, p = 0.455\n",
      "GADD45B <-> kaller2017:  r = -0.403, p = 0.010\n",
      "LANCL2 <-> kaller2017:  r = 0.314, p = 0.010\n",
      "RSPO3 <-> kaller2017:  r = 0.366, p = 0.010\n",
      "TRIM66 <-> kaller2017:  r = -0.293, p = 0.010\n",
      "DCAF5 <-> kaller2017:  r = 0.112, p = 0.040\n",
      "ARL2 <-> kaller2017:  r = -0.020, p = 0.733\n",
      "NEURL1B <-> kaller2017:  r = 0.431, p = 0.010\n",
      "STXBP6 <-> kaller2017:  r = -0.177, p = 0.040\n"
     ]
    }
   ],
   "source": [
    "# correlation with all genes and kaller2017\n",
    "\n",
    "for gene in genes1:\n",
    "    output = spatial_nulls(genes1[gene], kaller2017)\n",
    "    print(gene, '<-> kaller2017: ', output)"
   ]
  },
  {
   "cell_type": "markdown",
   "id": "a13f765b",
   "metadata": {},
   "source": [
    "    Significant W/ kaller2017: GADD45B, LANCL2, RSPO3, TRIM66, DCAF5, NEURL1B, STXBP6"
   ]
  },
  {
   "cell_type": "markdown",
   "id": "3caac3e9",
   "metadata": {},
   "source": [
    "        GADD45B: MODERATE CORRELATION\n",
    "        LANCL2: LOW CORRELATION\n",
    "        RSPO3: LOW CORRELATION\n",
    "        TRIM66: LOW CORRELATION\n",
    "        DCAF5: LOW CORRELATION\n",
    "        NEURL1B: MODERATE CORRELATION\n",
    "        STXBP6: LOW CORRELATION"
   ]
  },
  {
   "cell_type": "code",
   "execution_count": 66,
   "id": "fd82fcce",
   "metadata": {},
   "outputs": [
    {
     "name": "stdout",
     "output_type": "stream",
     "text": [
      "ELMO2 <-> alarkurtti2015:  r = -0.081, p = 0.208\n",
      "GADD45B <-> alarkurtti2015:  r = 0.027, p = 0.743\n",
      "LANCL2 <-> alarkurtti2015:  r = 0.027, p = 0.673\n",
      "RSPO3 <-> alarkurtti2015:  r = -0.100, p = 0.149\n",
      "TRIM66 <-> alarkurtti2015:  r = 0.012, p = 0.782\n",
      "DCAF5 <-> alarkurtti2015:  r = 0.072, p = 0.040\n",
      "ARL2 <-> alarkurtti2015:  r = 0.071, p = 0.396\n",
      "NEURL1B <-> alarkurtti2015:  r = -0.017, p = 0.812\n",
      "STXBP6 <-> alarkurtti2015:  r = 0.038, p = 0.594\n"
     ]
    }
   ],
   "source": [
    "# correlation with all genes and alarkurtti2015\n",
    "\n",
    "for gene in genes1:\n",
    "    output = spatial_nulls(genes1[gene], alarkurtti2015)\n",
    "    print(gene, '<-> alarkurtti2015: ', output)"
   ]
  },
  {
   "cell_type": "markdown",
   "id": "7e228701",
   "metadata": {},
   "source": [
    "    Significant W/ alarkurtti2015: DCAF5"
   ]
  },
  {
   "cell_type": "markdown",
   "id": "92b468e8",
   "metadata": {},
   "source": [
    "        DCAF5: LOW CORRELATION"
   ]
  },
  {
   "cell_type": "markdown",
   "id": "aee1e459",
   "metadata": {},
   "source": [
    "### Gaba"
   ]
  },
  {
   "cell_type": "code",
   "execution_count": 67,
   "id": "0854bea7",
   "metadata": {},
   "outputs": [
    {
     "data": {
      "text/plain": [
       "{'norgaard2020': 'GABAA receptors', 'dukart2018': 'flumazenil gaba anatgonist'}"
      ]
     },
     "execution_count": 67,
     "metadata": {},
     "output_type": "execute_result"
    }
   ],
   "source": [
    "data_desc['gaba']"
   ]
  },
  {
   "cell_type": "code",
   "execution_count": 68,
   "id": "3294ef6c",
   "metadata": {},
   "outputs": [],
   "source": [
    "norgaard2020 = fetch_annotation(source='norgaard2020')\n",
    "dukart2018 = fetch_annotation(source='dukart2018')"
   ]
  },
  {
   "cell_type": "code",
   "execution_count": 69,
   "id": "40277f37",
   "metadata": {},
   "outputs": [
    {
     "name": "stdout",
     "output_type": "stream",
     "text": [
      "ELMO2 <-> norgaard2020:  r = -0.168, p = 0.010\n",
      "GADD45B <-> norgaard2020:  r = -0.121, p = 0.040\n",
      "LANCL2 <-> norgaard2020:  r = 0.125, p = 0.040\n",
      "RSPO3 <-> norgaard2020:  r = 0.068, p = 0.257\n",
      "TRIM66 <-> norgaard2020:  r = -0.207, p = 0.010\n",
      "DCAF5 <-> norgaard2020:  r = 0.008, p = 0.921\n",
      "ARL2 <-> norgaard2020:  r = 0.102, p = 0.030\n",
      "NEURL1B <-> norgaard2020:  r = 0.169, p = 0.010\n",
      "STXBP6 <-> norgaard2020:  r = -0.182, p = 0.059\n"
     ]
    }
   ],
   "source": [
    "# correlation with all genes and norgaard2020\n",
    "\n",
    "for gene in genes1:\n",
    "    output = spatial_nulls(genes1[gene], norgaard2020)\n",
    "    print(gene, '<-> norgaard2020: ', output)"
   ]
  },
  {
   "cell_type": "markdown",
   "id": "0233c2e4",
   "metadata": {},
   "source": [
    "    Significant W/ norgaard2020: ELMO2, GADD45B, LANCL2, TRIM66, ARL2, NEURL1B"
   ]
  },
  {
   "cell_type": "markdown",
   "id": "38953ba0",
   "metadata": {},
   "source": [
    "        ELMO2: LOW CORRELATION\n",
    "        GADD45B: LOW CORRELATION\n",
    "        LANCL2: LOW CORRELATION\n",
    "        TRIM66: LOW CORRELATION\n",
    "        ARL2: LOW CORRELATION\n",
    "        NEURL1B: LOW CORRELATION"
   ]
  },
  {
   "cell_type": "code",
   "execution_count": 71,
   "id": "878c4815",
   "metadata": {},
   "outputs": [
    {
     "name": "stdout",
     "output_type": "stream",
     "text": [
      "ELMO2 <-> dukart2018 1:  r = -0.185, p = 0.030\n",
      "GADD45B <-> dukart2018 1:  r = -0.377, p = 0.010\n",
      "LANCL2 <-> dukart2018 1:  r = 0.337, p = 0.010\n",
      "RSPO3 <-> dukart2018 1:  r = 0.312, p = 0.010\n",
      "TRIM66 <-> dukart2018 1:  r = -0.394, p = 0.010\n",
      "DCAF5 <-> dukart2018 1:  r = 0.051, p = 0.436\n",
      "ARL2 <-> dukart2018 1:  r = 0.108, p = 0.119\n",
      "NEURL1B <-> dukart2018 1:  r = 0.423, p = 0.010\n",
      "STXBP6 <-> dukart2018 1:  r = -0.304, p = 0.010\n"
     ]
    }
   ],
   "source": [
    "# correlation with all genes and dukart2018 \n",
    "\n",
    "for gene in genes1:\n",
    "    output = spatial_nulls(genes1[gene], dukart2018[('dukart2018', 'flumazenil', 'MNI152', '3mm')])\n",
    "    print(gene, '<-> dukart2018 1: ', output)"
   ]
  },
  {
   "cell_type": "markdown",
   "id": "f39cbdcd",
   "metadata": {},
   "source": [
    "    Significant W/ dukart2018 #1: ELMO2, GADD45B, LANCL2, RSPO3, TRIM66, NEURL1B, STXBP6"
   ]
  },
  {
   "cell_type": "markdown",
   "id": "90bae0e6",
   "metadata": {},
   "source": [
    "        ELMO2: LOW CORRELATION\n",
    "        GADD45B: MODERATE CORRELATION\n",
    "        LANCL2: LOW CORRELATION\n",
    "        RSPO3: LOW CORRELATION\n",
    "        TRIM66: MODERATE CORRELATION\n",
    "        NEURL1B: MODERATE CORRELATION\n",
    "        STXBP6: LOW CORRELATION"
   ]
  },
  {
   "cell_type": "code",
   "execution_count": 73,
   "id": "5814a6fc",
   "metadata": {},
   "outputs": [
    {
     "name": "stdout",
     "output_type": "stream",
     "text": [
      "ELMO2 <-> dukart2018 2:  r = 0.155, p = 0.089\n",
      "GADD45B <-> dukart2018 2:  r = 0.247, p = 0.030\n",
      "LANCL2 <-> dukart2018 2:  r = -0.318, p = 0.010\n",
      "RSPO3 <-> dukart2018 2:  r = -0.187, p = 0.040\n",
      "TRIM66 <-> dukart2018 2:  r = 0.330, p = 0.010\n",
      "DCAF5 <-> dukart2018 2:  r = -0.012, p = 0.881\n",
      "ARL2 <-> dukart2018 2:  r = -0.237, p = 0.010\n",
      "NEURL1B <-> dukart2018 2:  r = -0.239, p = 0.010\n",
      "STXBP6 <-> dukart2018 2:  r = 0.258, p = 0.030\n"
     ]
    }
   ],
   "source": [
    "# correlation with all genes and dukart2018\n",
    "\n",
    "for gene in genes1:\n",
    "    output = spatial_nulls(genes1[gene], dukart2018[('dukart2018', 'fpcit', 'MNI152', '3mm')])\n",
    "    print(gene, '<-> dukart2018 2: ', output)"
   ]
  },
  {
   "cell_type": "markdown",
   "id": "0a4652df",
   "metadata": {},
   "source": [
    "    Significant W/ dukart2018 #2: GADD45B, LANCL2, RSPO3, TRIM66, ARL2, NEURL1B, STXBP6"
   ]
  },
  {
   "cell_type": "markdown",
   "id": "22583650",
   "metadata": {},
   "source": [
    "        GADD45B: LOW CORRELATION\n",
    "        LANCL2: LOW CORRELATION\n",
    "        RSPO3: LOW CORRELATION\n",
    "        TRIM66: LOW CORRELATION\n",
    "        ARL2: LOW CORRELATION\n",
    "        NEURL1B: LOW CORRELATION\n",
    "        STXBP6: LOW CORRELATION"
   ]
  },
  {
   "cell_type": "markdown",
   "id": "f766e624",
   "metadata": {},
   "source": [
    "### Norepinephrine"
   ]
  },
  {
   "cell_type": "code",
   "execution_count": 77,
   "id": "76e8966e",
   "metadata": {},
   "outputs": [
    {
     "data": {
      "text/plain": [
       "{'hesse2017': 'noradrenaline transporter'}"
      ]
     },
     "execution_count": 77,
     "metadata": {},
     "output_type": "execute_result"
    }
   ],
   "source": [
    "data_desc['norepinephrine']"
   ]
  },
  {
   "cell_type": "code",
   "execution_count": 78,
   "id": "6f1351cc",
   "metadata": {},
   "outputs": [],
   "source": [
    "hesse2017 = fetch_annotation(source='hesse2017')"
   ]
  },
  {
   "cell_type": "code",
   "execution_count": 76,
   "id": "23fa692d",
   "metadata": {},
   "outputs": [
    {
     "name": "stdout",
     "output_type": "stream",
     "text": [
      "ELMO2 <-> hesse2017:  r = -0.113, p = 0.079\n",
      "GADD45B <-> hesse2017:  r = -0.168, p = 0.050\n",
      "LANCL2 <-> hesse2017:  r = 0.222, p = 0.010\n",
      "RSPO3 <-> hesse2017:  r = 0.111, p = 0.119\n",
      "TRIM66 <-> hesse2017:  r = -0.240, p = 0.010\n",
      "DCAF5 <-> hesse2017:  r = 0.020, p = 0.653\n",
      "ARL2 <-> hesse2017:  r = 0.184, p = 0.010\n",
      "NEURL1B <-> hesse2017:  r = 0.158, p = 0.020\n",
      "STXBP6 <-> hesse2017:  r = -0.116, p = 0.208\n"
     ]
    }
   ],
   "source": [
    "# correlation with all genes and hesse2017\n",
    "\n",
    "for gene in genes1:\n",
    "    output = spatial_nulls(genes1[gene], hesse2017)\n",
    "    print(gene, '<-> hesse2017: ', output)"
   ]
  },
  {
   "cell_type": "markdown",
   "id": "f58b7cbe",
   "metadata": {},
   "source": [
    "    Significant W/ hesse2017: GADD45B, LANCL2, TRIM66, ARL2, NEURL1B"
   ]
  },
  {
   "cell_type": "markdown",
   "id": "3a1ad00a",
   "metadata": {},
   "source": [
    "        "
   ]
  },
  {
   "cell_type": "markdown",
   "id": "15ced048",
   "metadata": {},
   "source": [
    "### Acetylcholine"
   ]
  },
  {
   "cell_type": "code",
   "execution_count": 80,
   "id": "502cb7b3",
   "metadata": {},
   "outputs": [
    {
     "data": {
      "text/plain": [
       "{'tuominen': 'acetylcholine transporter density',\n",
       " 'hillmer2016': 'nicotinic acetylcholine receptors',\n",
       " 'naganawa2020': 'M1 muscarinic acetylcholine receptors'}"
      ]
     },
     "execution_count": 80,
     "metadata": {},
     "output_type": "execute_result"
    }
   ],
   "source": [
    "data_desc['acetylcholine']"
   ]
  },
  {
   "cell_type": "code",
   "execution_count": 81,
   "id": "50c47447",
   "metadata": {},
   "outputs": [],
   "source": [
    "tuominen = fetch_annotation(source='tuominen')\n",
    "hillmer2016 = fetch_annotation(source='hillmer2016')\n",
    "naganawa2020 = fetch_annotation(source='naganawa2020')"
   ]
  },
  {
   "cell_type": "code",
   "execution_count": 82,
   "id": "56458a5c",
   "metadata": {},
   "outputs": [
    {
     "name": "stdout",
     "output_type": "stream",
     "text": [
      "ELMO2 <-> tuominen:  r = 0.071, p = 0.406\n",
      "GADD45B <-> tuominen:  r = 0.245, p = 0.010\n",
      "LANCL2 <-> tuominen:  r = -0.262, p = 0.010\n",
      "RSPO3 <-> tuominen:  r = -0.225, p = 0.020\n",
      "TRIM66 <-> tuominen:  r = 0.232, p = 0.010\n",
      "DCAF5 <-> tuominen:  r = -0.020, p = 0.683\n",
      "ARL2 <-> tuominen:  r = -0.088, p = 0.248\n",
      "NEURL1B <-> tuominen:  r = -0.222, p = 0.010\n",
      "STXBP6 <-> tuominen:  r = 0.294, p = 0.010\n"
     ]
    }
   ],
   "source": [
    "# correlation with all genes and tuominen\n",
    "\n",
    "for gene in genes1:\n",
    "    output = spatial_nulls(genes1[gene], tuominen)\n",
    "    print(gene, '<-> tuominen: ', output)"
   ]
  },
  {
   "cell_type": "markdown",
   "id": "6e16fc2b",
   "metadata": {},
   "source": [
    "    Significant W/ tuominen: GADD45B, LANCL2, RSPO3, TRIM66, NEURL1B, STXBP6"
   ]
  },
  {
   "cell_type": "markdown",
   "id": "4d85083c",
   "metadata": {},
   "source": [
    "        "
   ]
  },
  {
   "cell_type": "code",
   "execution_count": 83,
   "id": "09ea3247",
   "metadata": {},
   "outputs": [
    {
     "name": "stdout",
     "output_type": "stream",
     "text": [
      "ELMO2 <-> hillmer2016:  r = 0.015, p = 0.792\n",
      "GADD45B <-> hillmer2016:  r = 0.336, p = 0.010\n",
      "LANCL2 <-> hillmer2016:  r = -0.333, p = 0.010\n",
      "RSPO3 <-> hillmer2016:  r = -0.344, p = 0.010\n",
      "TRIM66 <-> hillmer2016:  r = 0.371, p = 0.010\n",
      "DCAF5 <-> hillmer2016:  r = -0.078, p = 0.129\n",
      "ARL2 <-> hillmer2016:  r = -0.051, p = 0.347\n",
      "NEURL1B <-> hillmer2016:  r = -0.356, p = 0.010\n",
      "STXBP6 <-> hillmer2016:  r = 0.340, p = 0.010\n"
     ]
    }
   ],
   "source": [
    "# correlation with all genes and hillmer2016\n",
    "\n",
    "for gene in genes1:\n",
    "    output = spatial_nulls(genes1[gene], hillmer2016)\n",
    "    print(gene, '<-> hillmer2016: ', output)"
   ]
  },
  {
   "cell_type": "markdown",
   "id": "04067644",
   "metadata": {},
   "source": [
    "    Significant W/ hillmer2016: GADD45B, LANCL2, RSPO3, TRIM66, NEURL1B, STXBP6"
   ]
  },
  {
   "cell_type": "markdown",
   "id": "63abb19b",
   "metadata": {},
   "source": [
    "        "
   ]
  },
  {
   "cell_type": "code",
   "execution_count": 84,
   "id": "7dde3ac9",
   "metadata": {},
   "outputs": [
    {
     "name": "stdout",
     "output_type": "stream",
     "text": [
      "ELMO2 <-> naganawa2020:  r = -0.219, p = 0.010\n",
      "GADD45B <-> naganawa2020:  r = -0.327, p = 0.010\n",
      "LANCL2 <-> naganawa2020:  r = 0.338, p = 0.010\n",
      "RSPO3 <-> naganawa2020:  r = 0.235, p = 0.020\n",
      "TRIM66 <-> naganawa2020:  r = -0.324, p = 0.010\n",
      "DCAF5 <-> naganawa2020:  r = 0.059, p = 0.297\n",
      "ARL2 <-> naganawa2020:  r = 0.183, p = 0.010\n",
      "NEURL1B <-> naganawa2020:  r = 0.374, p = 0.010\n",
      "STXBP6 <-> naganawa2020:  r = -0.141, p = 0.139\n"
     ]
    }
   ],
   "source": [
    "# correlation with all genes and naganawa2020\n",
    "for gene in genes1:\n",
    "    output = spatial_nulls(genes1[gene], naganawa2020)\n",
    "    print(gene, '<-> naganawa2020: ', output)"
   ]
  },
  {
   "cell_type": "markdown",
   "id": "0be4a5af",
   "metadata": {},
   "source": [
    "    Significant W/ naganawa2020: ELMO2, GADD45B, LANCL2, RSPO3, TRIM66, ARL2, NEURL1B"
   ]
  },
  {
   "cell_type": "markdown",
   "id": "7f64ecb5",
   "metadata": {},
   "source": [
    "        "
   ]
  },
  {
   "cell_type": "markdown",
   "id": "d03aad50",
   "metadata": {},
   "source": [
    "### Glutamate"
   ]
  },
  {
   "cell_type": "code",
   "execution_count": 85,
   "id": "1832b259",
   "metadata": {},
   "outputs": [
    {
     "data": {
      "text/plain": [
       "{'rosaneto': 'mGluR5 ligand', 'smart2019': 'mGluR5'}"
      ]
     },
     "execution_count": 85,
     "metadata": {},
     "output_type": "execute_result"
    }
   ],
   "source": [
    "data_desc['glutamate']"
   ]
  },
  {
   "cell_type": "code",
   "execution_count": 86,
   "id": "85f4409a",
   "metadata": {},
   "outputs": [],
   "source": [
    "rosaneto = fetch_annotation(source='rosaneto')\n",
    "smart2019 = fetch_annotation(source='smart2019')"
   ]
  },
  {
   "cell_type": "code",
   "execution_count": 87,
   "id": "57c07c86",
   "metadata": {
    "scrolled": true
   },
   "outputs": [
    {
     "name": "stdout",
     "output_type": "stream",
     "text": [
      "ELMO2 <-> rosaneto:  r = -0.158, p = 0.050\n",
      "GADD45B <-> rosaneto:  r = -0.421, p = 0.010\n",
      "LANCL2 <-> rosaneto:  r = 0.396, p = 0.010\n",
      "RSPO3 <-> rosaneto:  r = 0.334, p = 0.010\n",
      "TRIM66 <-> rosaneto:  r = -0.391, p = 0.010\n",
      "DCAF5 <-> rosaneto:  r = 0.069, p = 0.287\n",
      "ARL2 <-> rosaneto:  r = 0.145, p = 0.030\n",
      "NEURL1B <-> rosaneto:  r = 0.441, p = 0.010\n",
      "STXBP6 <-> rosaneto:  r = -0.225, p = 0.050\n"
     ]
    }
   ],
   "source": [
    "# correlation with all genes and rosaneto\n",
    "\n",
    "for gene in genes1:\n",
    "    output = spatial_nulls(genes1[gene], rosaneto)\n",
    "    print(gene, '<-> rosaneto: ', output)"
   ]
  },
  {
   "cell_type": "markdown",
   "id": "45f6752a",
   "metadata": {},
   "source": [
    "    Significant W/ rosaneto: ELMO2, GADD45B, LANCL2, RSPO3, TRIM66, ARL2, NEURL1B, STXBP6"
   ]
  },
  {
   "cell_type": "markdown",
   "id": "608aefc1",
   "metadata": {},
   "source": [
    "        "
   ]
  },
  {
   "cell_type": "code",
   "execution_count": 88,
   "id": "13777215",
   "metadata": {},
   "outputs": [
    {
     "name": "stdout",
     "output_type": "stream",
     "text": [
      "ELMO2 <-> smart2019:  r = -0.138, p = 0.059\n",
      "GADD45B <-> smart2019:  r = -0.393, p = 0.010\n",
      "LANCL2 <-> smart2019:  r = 0.387, p = 0.010\n",
      "RSPO3 <-> smart2019:  r = 0.336, p = 0.010\n",
      "TRIM66 <-> smart2019:  r = -0.338, p = 0.010\n",
      "DCAF5 <-> smart2019:  r = 0.089, p = 0.109\n",
      "ARL2 <-> smart2019:  r = 0.139, p = 0.030\n",
      "NEURL1B <-> smart2019:  r = 0.415, p = 0.010\n",
      "STXBP6 <-> smart2019:  r = -0.162, p = 0.079\n"
     ]
    }
   ],
   "source": [
    "# correlation with all genes and smart2019\n",
    "\n",
    "for gene in genes1:\n",
    "    output = spatial_nulls(genes1[gene], smart2019)\n",
    "    print(gene, '<-> smart2019: ', output)"
   ]
  },
  {
   "cell_type": "markdown",
   "id": "00d88c1b",
   "metadata": {},
   "source": [
    "    Significant W/ smart2019: GADD45B, LANCL2, RSPO3, TRIM66, ARL2, NEURL1B"
   ]
  },
  {
   "cell_type": "markdown",
   "id": "377dad40",
   "metadata": {},
   "source": [
    "        "
   ]
  },
  {
   "cell_type": "markdown",
   "id": "8c08506e",
   "metadata": {},
   "source": [
    "### Mu opioid"
   ]
  },
  {
   "cell_type": "code",
   "execution_count": 89,
   "id": "5abd0b2f",
   "metadata": {},
   "outputs": [
    {
     "data": {
      "text/plain": [
       "{'turtonen2020': 'carfentanil: mu opioid receptor availability',\n",
       " 'kantonen2020': 'carfentanil: mu opioid receptor availability'}"
      ]
     },
     "execution_count": 89,
     "metadata": {},
     "output_type": "execute_result"
    }
   ],
   "source": [
    "data_desc['mu opioid']"
   ]
  },
  {
   "cell_type": "code",
   "execution_count": 90,
   "id": "4c0fe1f6",
   "metadata": {},
   "outputs": [],
   "source": [
    "turtonen2020 = fetch_annotation(source='turtonen2020')\n",
    "kantonen2020 = fetch_annotation(source='kantonen2020')"
   ]
  },
  {
   "cell_type": "code",
   "execution_count": 91,
   "id": "19d5788f",
   "metadata": {
    "scrolled": true
   },
   "outputs": [
    {
     "name": "stdout",
     "output_type": "stream",
     "text": [
      "ELMO2 <-> turtonen2020:  r = 0.154, p = 0.050\n",
      "GADD45B <-> turtonen2020:  r = -0.073, p = 0.347\n",
      "LANCL2 <-> turtonen2020:  r = 0.019, p = 0.832\n",
      "RSPO3 <-> turtonen2020:  r = 0.071, p = 0.356\n",
      "TRIM66 <-> turtonen2020:  r = 0.141, p = 0.020\n",
      "DCAF5 <-> turtonen2020:  r = 0.058, p = 0.287\n",
      "ARL2 <-> turtonen2020:  r = -0.083, p = 0.515\n",
      "NEURL1B <-> turtonen2020:  r = 0.026, p = 0.782\n",
      "STXBP6 <-> turtonen2020:  r = 0.326, p = 0.010\n"
     ]
    }
   ],
   "source": [
    "# correlation with all genes and turtonen2020\n",
    "\n",
    "for gene in genes1:\n",
    "    output = spatial_nulls(genes1[gene], turtonen2020)\n",
    "    print(gene, '<-> turtonen2020: ', output)"
   ]
  },
  {
   "cell_type": "markdown",
   "id": "25d9884b",
   "metadata": {},
   "source": [
    "    Significant W/ turtonen2020: ELMO2, TRIM66, STXBP6"
   ]
  },
  {
   "cell_type": "markdown",
   "id": "2558e44b",
   "metadata": {},
   "source": [
    "        "
   ]
  },
  {
   "cell_type": "code",
   "execution_count": 92,
   "id": "2e459309",
   "metadata": {},
   "outputs": [
    {
     "name": "stdout",
     "output_type": "stream",
     "text": [
      "ELMO2 <-> kantonen2020:  r = 0.128, p = 0.089\n",
      "GADD45B <-> kantonen2020:  r = -0.238, p = 0.020\n",
      "LANCL2 <-> kantonen2020:  r = 0.172, p = 0.020\n",
      "RSPO3 <-> kantonen2020:  r = 0.224, p = 0.010\n",
      "TRIM66 <-> kantonen2020:  r = -0.004, p = 0.970\n",
      "DCAF5 <-> kantonen2020:  r = 0.101, p = 0.050\n",
      "ARL2 <-> kantonen2020:  r = -0.033, p = 0.812\n",
      "NEURL1B <-> kantonen2020:  r = 0.191, p = 0.020\n",
      "STXBP6 <-> kantonen2020:  r = 0.255, p = 0.020\n"
     ]
    }
   ],
   "source": [
    "# correlation with all genes and kantonen2020\n",
    "\n",
    "for gene in genes1:\n",
    "    output = spatial_nulls(genes1[gene], kantonen2020)\n",
    "    print(gene, '<-> kantonen2020: ', output)"
   ]
  },
  {
   "cell_type": "markdown",
   "id": "0c967872",
   "metadata": {},
   "source": [
    "    Significant W/ kantonen2020: GADD45B, LANCL2, RSPO3, DCAF5, NEURL1B, STXBP6"
   ]
  }
 ],
 "metadata": {
  "kernelspec": {
   "display_name": "Python 3 (ipykernel)",
   "language": "python",
   "name": "python3"
  },
  "language_info": {
   "codemirror_mode": {
    "name": "ipython",
    "version": 3
   },
   "file_extension": ".py",
   "mimetype": "text/x-python",
   "name": "python",
   "nbconvert_exporter": "python",
   "pygments_lexer": "ipython3",
   "version": "3.9.7"
  }
 },
 "nbformat": 4,
 "nbformat_minor": 5
}
