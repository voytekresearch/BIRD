{
 "cells": [
  {
   "cell_type": "markdown",
   "id": "70ec3365",
   "metadata": {},
   "source": [
    "# Gene Expression Analysis of Alzheimer's Disease\n",
    "    With Neurosynth, AHBA, and Neuromaps\n",
    "    Amy Hardy | COGS 199 | Spring 2022"
   ]
  },
  {
   "cell_type": "markdown",
   "id": "fc5f5a71",
   "metadata": {},
   "source": [
    "## Background"
   ]
  },
  {
   "cell_type": "markdown",
   "id": "b5889e3f",
   "metadata": {},
   "source": [
    "### Alzheimer's Disease"
   ]
  },
  {
   "cell_type": "markdown",
   "id": "c150bac1",
   "metadata": {},
   "source": [
    "Alzheimer's disease (AD), is a neurodegenerative disease that is characterized the presence of beta-amyloid plaques between neurons and tau tangles within neurons. However, whether these physiological components involved with AD are causative or consequential is unknown. AD is most commonly diagnosed by means of attention, memory, and language assessments, along with brain scans (computed tomography, magnetic resonance imaging, or positron emission tomography). Some of the most common symptoms of the disease include difficulty performing familiar tasks, aggitation, decreased judgement and attention skills, and depression. Being progressive in nature, AD typically starts with mild symptoms and develops towards its most serve stages in approximately 8-10 years.\n",
    "\n",
    "The genetic basis of Alzheimer's disease is still widely unknown. This is true especially for sporadic AD, which accounts for about 95% of cases. The APOE-e4 gene widely known for being linked to AD, but there is not a causal link between it and having the disease. While having one or two of the e4 alleles does indeed increase your risk for developing AD, is it not guaranteed to occur. As for the remaining 5% of cases, familial AD is highly linked with mutations of the following the genes: APP, PSEN1, and PSEN2.  \n",
    "\n",
    "Over recent years, the ongoing search for causes, biomarkers, and potential treatments have resulted in diverging opinions on it's pathology. \"Reimagining Alzheimer’s Disease - An Age-Based Hypothesis\" argues that the amyloid cascade hypothesis (idea that the neurodegeneration in AD is caused by abnormal accumulation of amyloid beta plaques) may not be accurate. Herrup proposes a new set of steps towards AD that starts with the risk factor, age, and is accelerated by some type of initiating injury, where microglial activation and inflammatory response play a major role.\n",
    "\n",
    "With further advancement in the fields of genomics and a growing access to neural datasets, it is important to examine (gene-to-disease area), (gene-to-gene) and (gene-to-other-biological-ontology) statistical relationships in order to develop a well-rounded understanding of the brain's structure and function. "
   ]
  },
  {
   "cell_type": "markdown",
   "id": "4f0ca0f5",
   "metadata": {},
   "source": [
    "#### Allen Human Brain Atlas Data"
   ]
  },
  {
   "cell_type": "markdown",
   "id": "60be0a0d",
   "metadata": {},
   "source": [
    "The Allen Human Brain Atlas (AHBA) is a freely available dataset containing microarray expression data collected from the human brain. \"Derived from bulk microarray analysis of tissue samples obtained from six donors, the AHBA provides expression data for more than 20,000 genes across 3,702 brain areas in MRI-derived stereo- tactic space\" [12]."
   ]
  },
  {
   "cell_type": "markdown",
   "id": "b289c080",
   "metadata": {},
   "source": [
    "* <u>abagen: A Python toolbox for the Allen Brain Atlas genetics data</u> <br>\n",
    "\n",
    "    abagen provides access to AHBA with functionality to parcellate data into regions of interest, allowing a variety of options for probe selection, donor aggregation and data normalization. The goal of abagen is to provide a \"more standardized and systematic research in imaging transcriptomics, and will help to advance future understanding of the influence of gene expression in the human brain\" [12]. <br> \n",
    "\n",
    "    The first step with abagen in this analysis is to access an acceptable parcellation atlas, which is easily completed in this case with the <code>abagen.fetch_desikan_killiany()</code>. This returns a dictionary with keys: 'image': an atlas parcellation image to be used when fetching expression data, and 'info': a csv file with parcel id(1-83), label(brain area), hemisphere(L/R), and structure(cortex, subcortex/brainstem)."
   ]
  },
  {
   "cell_type": "code",
   "execution_count": 25,
   "id": "de9aaad2",
   "metadata": {},
   "outputs": [
    {
     "data": {
      "text/html": [
       "<div>\n",
       "<style scoped>\n",
       "    .dataframe tbody tr th:only-of-type {\n",
       "        vertical-align: middle;\n",
       "    }\n",
       "\n",
       "    .dataframe tbody tr th {\n",
       "        vertical-align: top;\n",
       "    }\n",
       "\n",
       "    .dataframe thead th {\n",
       "        text-align: right;\n",
       "    }\n",
       "</style>\n",
       "<table border=\"1\" class=\"dataframe\">\n",
       "  <thead>\n",
       "    <tr style=\"text-align: right;\">\n",
       "      <th></th>\n",
       "      <th>id</th>\n",
       "      <th>label</th>\n",
       "      <th>hemisphere</th>\n",
       "      <th>structure</th>\n",
       "    </tr>\n",
       "  </thead>\n",
       "  <tbody>\n",
       "    <tr>\n",
       "      <th>0</th>\n",
       "      <td>1</td>\n",
       "      <td>bankssts</td>\n",
       "      <td>L</td>\n",
       "      <td>cortex</td>\n",
       "    </tr>\n",
       "    <tr>\n",
       "      <th>1</th>\n",
       "      <td>2</td>\n",
       "      <td>caudalanteriorcingulate</td>\n",
       "      <td>L</td>\n",
       "      <td>cortex</td>\n",
       "    </tr>\n",
       "    <tr>\n",
       "      <th>2</th>\n",
       "      <td>3</td>\n",
       "      <td>caudalmiddlefrontal</td>\n",
       "      <td>L</td>\n",
       "      <td>cortex</td>\n",
       "    </tr>\n",
       "    <tr>\n",
       "      <th>3</th>\n",
       "      <td>4</td>\n",
       "      <td>cuneus</td>\n",
       "      <td>L</td>\n",
       "      <td>cortex</td>\n",
       "    </tr>\n",
       "    <tr>\n",
       "      <th>4</th>\n",
       "      <td>5</td>\n",
       "      <td>entorhinal</td>\n",
       "      <td>L</td>\n",
       "      <td>cortex</td>\n",
       "    </tr>\n",
       "  </tbody>\n",
       "</table>\n",
       "</div>"
      ],
      "text/plain": [
       "   id                    label hemisphere structure\n",
       "0   1                 bankssts          L    cortex\n",
       "1   2  caudalanteriorcingulate          L    cortex\n",
       "2   3      caudalmiddlefrontal          L    cortex\n",
       "3   4                   cuneus          L    cortex\n",
       "4   5               entorhinal          L    cortex"
      ]
     },
     "execution_count": 25,
     "metadata": {},
     "output_type": "execute_result"
    }
   ],
   "source": [
    "import abagen\n",
    "import pandas as pd\n",
    "atlas = abagen.fetch_desikan_killiany()\n",
    "desikan_info = pd.read_csv(atlas['info'])\n",
    "desikan_info[:5]"
   ]
  },
  {
   "cell_type": "markdown",
   "id": "2d8bc1c1",
   "metadata": {},
   "source": [
    "#### Neurosynth Data"
   ]
  },
  {
   "cell_type": "markdown",
   "id": "421045a5",
   "metadata": {},
   "source": [
    "Neurosynth, a platform for automatic meta-analysis, synthesizes data from approximately 15,000 neuroimaging studies that are published with corresponding fMRI voxel coordinates and provides probabilistic measures of a particular voxel being associated with a given term. In this analysis, we downloaded the association maps for the term \"Alzheimer\". There were 267 published studies that Neurosynth identified as being associated with Alzheimer's disease. "
   ]
  },
  {
   "cell_type": "code",
   "execution_count": 2,
   "id": "3991ae54",
   "metadata": {},
   "outputs": [],
   "source": [
    "import nibabel as nib\n",
    "AD_association = nib.load('data/neurosynth_maps/terms/alzheimer_association-test_z_FDR_0.01.nii')\n"
   ]
  },
  {
   "cell_type": "markdown",
   "id": "b83eec77",
   "metadata": {},
   "source": [
    "#### Neuromaps Parcellator\n",
    "In order to compare AHBA with the Neurosynth map, they must be datasets of similar sizes (i.e. number of rows), so we will utilize a secondary parcellator method provided by **Neuromaps** (more on this later). Similarly to the AHBA data, the Neurosynth AD map will be parcellated with the Desikan Killany atlas."
   ]
  },
  {
   "cell_type": "code",
   "execution_count": null,
   "id": "99f5c628",
   "metadata": {},
   "outputs": [],
   "source": [
    "from neuromaps.parcellate import Parcellater\n",
    "parc = Parcellater(atlas['image'], 'mni152')\n",
    "AD_parc = parc.fit_transform(AD_association, 'mni152')"
   ]
  },
  {
   "cell_type": "markdown",
   "id": "148f355b",
   "metadata": {},
   "source": [
    "![image_name](./data/plots/dk_AD_plot.png)"
   ]
  },
  {
   "cell_type": "markdown",
   "id": "e467cb85",
   "metadata": {},
   "source": [
    "## Gene Analysis"
   ]
  },
  {
   "cell_type": "markdown",
   "id": "fe993fdc",
   "metadata": {},
   "source": [
    "### 1. Over and under-expressed genes in five highest AD regions"
   ]
  },
  {
   "cell_type": "markdown",
   "id": "42343417",
   "metadata": {},
   "source": [
    "The five rows (regions from Desikan Killany atlas) with the highest corresponding Alzheimer's association from the Neurosynth map were chosen and identified as the entorhinal cortex, hippocampus, inferior temporal gyrus, parahippocampal gyrus, and fusiform gyrus. Each of these defined areas seem to play a role in AD. The **entorhinal cortex** acts as a gateway for input and output to the hippocampus and expression of new memory relies on this entorhinal–hippocampal connectivity. In severe AD, the number of neurons in layer II of the entorhinal cortex is reduced by about 90% [4]. The **hippocampus** is known to be highly involved in learning and memory, and it is known to be affected in AD [6,7,8]. The inferior temporal gyrus, parahippocampal gyrus, and fusiform gyrus have also been linked to Alzheimer's and are some of the first areas to experience synaptic loss during the course of the disease[9,10]. Atrophy in the parahippocampal gyrus, may be a very important biomarker in detecting early AD [11]."
   ]
  },
  {
   "cell_type": "markdown",
   "id": "17ce5b1d",
   "metadata": {},
   "source": [
    "<div>\n",
    "<img src=\"./data/plots/over_under_ad_regions.png\" width=\"900\"/>\n",
    "</div>"
   ]
  },
  {
   "cell_type": "markdown",
   "id": "3b174893",
   "metadata": {},
   "source": [
    "### 2. AD association -- gene expression correlation"
   ]
  },
  {
   "cell_type": "markdown",
   "id": "08870028",
   "metadata": {},
   "source": [
    "<div>\n",
    "<img src=\"./data/plots/ten_corr_subplots.png\" width=\"850\"/>\n",
    "</div>"
   ]
  },
  {
   "cell_type": "markdown",
   "id": "0da26dd2",
   "metadata": {},
   "source": [
    "#### The top ten AD correlated genes are plotted above, in addition to their AD correlation bar plot on the bottom right. The bottom left plot shows the histogram for log transformed AD correlation across all genes which shows the correlation of genes is approximately normally distributed. "
   ]
  },
  {
   "cell_type": "markdown",
   "id": "326db9ff",
   "metadata": {},
   "source": [
    "<div>\n",
    "<img src=\"./data/plots/hist_and_bar.png\" width=\"850\"/>\n",
    "</div>"
   ]
  },
  {
   "cell_type": "markdown",
   "id": "53982754",
   "metadata": {},
   "source": [
    "Another useful perspective in genetic analysis of diseases is to examine gene co-expression. \"Recently, the weighted gene co-expression network analysis (WGCNA) has been widely used to identify clusters of co-expressed genes with highly correlated expression patterns based on the genetic profile of many diseases\" Constructing a co-expression network and extracting hub genes following gene enrichment analysis recently identified four novel genes associated with AD [5]. All of the genes in the matrix below have a moderate to strong correlation with  Neurosynth derived AD association, so it is worth noting which of them are possibly being co-expressed with one another. \n",
    "\n",
    "Some of the significant results were: GADD45B & DCAF5, LANCL2 & DCAF5, NEURL1B & TRIM66."
   ]
  },
  {
   "cell_type": "markdown",
   "id": "e378ad69",
   "metadata": {},
   "source": [
    "<div>\n",
    "<img src=\"./data/plots/ten_coexpression.png\" width=\"700\"/>\n",
    "</div>"
   ]
  },
  {
   "cell_type": "markdown",
   "id": "ef9508e4",
   "metadata": {},
   "source": [
    "### 3. Guilt by association genes"
   ]
  },
  {
   "cell_type": "markdown",
   "id": "a8b35b22",
   "metadata": {},
   "source": [
    "As mentioned, APOE, APP, PSEN1, and PSEN2 are genes that are known to be involved in Alzheimer's disease. For this section, we plotted the genes most correlated with these four 'AD' genes. These were collected from a pairwise correlation matrix for all ~15,000 genes in the AHBA dataset. \"Potential disease genes can be identified using a guilt-by-association (GBA) approach that highlights genes that are co-expressed with multiple disease genes\" [2]."
   ]
  },
  {
   "cell_type": "markdown",
   "id": "88cf7ad6",
   "metadata": {},
   "source": [
    "<div>\n",
    "<img src=\"./data/plots/adgenescattercorr.png\" width=\"900\"/>\n",
    "</div>"
   ]
  },
  {
   "cell_type": "markdown",
   "id": "916f2133",
   "metadata": {},
   "source": [
    "#### Lastly in the correlation analysis is these four 'AD' genes pairwise correlation with eachother.  While none of these correlations are very high, the largest r value seems to be between APOE and PSEN1."
   ]
  },
  {
   "cell_type": "markdown",
   "id": "ad38ed64",
   "metadata": {},
   "source": [
    "<div>\n",
    "<img src=\"./data/plots/adgene4.png\" width=\"550\"/>\n",
    "</div>"
   ]
  },
  {
   "cell_type": "markdown",
   "id": "4b015f29",
   "metadata": {},
   "source": [
    "## Neuromaps"
   ]
  },
  {
   "cell_type": "markdown",
   "id": "ab3a28d6",
   "metadata": {},
   "source": [
    "Neuromaps is a toolbox designed to create a standardized workflow for contextualzing brain maps with the broader literature. The main functionality of Neuromaps is:\n",
    "\n",
    "* Access to curated repository of annotations from recent literature \n",
    "* High-quality transformations between four standard coordinate systems\n",
    "* Uniform interfaces for statistical comparisons between brain maps"
   ]
  },
  {
   "cell_type": "markdown",
   "id": "6316114a",
   "metadata": {},
   "source": [
    "After obtaining the list of ten genes most correlated with AD association, we obtained gene maps, which are derived from the AHBA dataset via <a href='https://neurosynth.org/genes/'>Neurosynth/Genes</a>. These maps transformed to surface space and were then plotted with <code>neuromaps.plotting.plot_surf_template()</code>."
   ]
  },
  {
   "cell_type": "markdown",
   "id": "e03e543c",
   "metadata": {},
   "source": [
    "<div>\n",
    "<title>Top AD Associated Genes</title><br>\n",
    "<img src=\"./data/plots/geneplots2.png\" width=\"650\"/>\n",
    "</div>"
   ]
  },
  {
   "cell_type": "markdown",
   "id": "9d8e31a2",
   "metadata": {},
   "source": [
    "#### MEG Oscillation Map to Gene Correlation"
   ]
  },
  {
   "cell_type": "code",
   "execution_count": 27,
   "id": "dcbefc31",
   "metadata": {},
   "outputs": [],
   "source": [
    "import nibabel as nib\n",
    "from neuromaps import nulls\n",
    "from neuromaps import stats\n",
    "from neuromaps import transforms\n",
    "from neuromaps import datasets\n",
    "from neuromaps.datasets import available_tags, available_annotations, fetch_annotation"
   ]
  },
  {
   "cell_type": "markdown",
   "id": "400dc306",
   "metadata": {},
   "source": [
    "Neuromaps methods <code>available_tags()</code> and <code>available_annotations()</code> can be used to find annotations within their repository that best match a specific interest. In this case, we were interested in determining if any of the brain annotations measuring neural oscillations. "
   ]
  },
  {
   "cell_type": "code",
   "execution_count": 30,
   "id": "2b5035fa",
   "metadata": {},
   "outputs": [
    {
     "name": "stdout",
     "output_type": "stream",
     "text": [
      "('hcps1200', 'megalpha', 'fsLR', '4k')\n",
      "('hcps1200', 'megbeta', 'fsLR', '4k')\n",
      "('hcps1200', 'megdelta', 'fsLR', '4k')\n",
      "('hcps1200', 'meggamma1', 'fsLR', '4k')\n",
      "('hcps1200', 'meggamma2', 'fsLR', '4k')\n",
      "('hcps1200', 'megtheta', 'fsLR', '4k')\n"
     ]
    }
   ],
   "source": [
    "for annotation in available_annotations(tags=['MEG'])[:-1]:\n",
    "    print(annotation)"
   ]
  },
  {
   "cell_type": "markdown",
   "id": "330b995c",
   "metadata": {},
   "source": [
    "\n",
    "<div>\n",
    "<img src=\"./data/plots/megmap.png\" width=\"750\"/>\n",
    "</div>"
   ]
  },
  {
   "cell_type": "markdown",
   "id": "9d324666",
   "metadata": {},
   "source": [
    "Each of the above annotations were fetched from the Neuromaps data and we calculated the pairwise correlation between each of them and each of the top AD associated genes. As seen here, both maps in the correlation were transformed/resampled to an fsLR coordinate system with 32k resolution. Note that the MEG maps were already in an fsLR coordinate system, but Neuromaps does not currently support transforming into 4k resolution. The correlation analysis here includes spatial nulls for significance testing.\n",
    "\n",
    "<code>\n",
    "def spatial_nulls(map1, map2):\n",
    "    fsav_map1 = transforms.fslr_to_fslr(map1, '32k')\n",
    "    fsav_map2 = transforms.fslr_to_fslr(map2, '32k')\n",
    "    rotated = nulls.alexander_bloch(fsav_map1, atlas='fsLR', density='32k', n_perm=100, \n",
    "    seed=1234)\n",
    "    corr, pval = stats.compare_images(fsav_map1, fsav_map2, nulls=rotated)\n",
    "    return (f'r = {corr:.3f}, p = {pval:.3f}') </code>"
   ]
  },
  {
   "cell_type": "markdown",
   "id": "09f04c55",
   "metadata": {},
   "source": [
    "Results for these pairwise correlations were generally low, with the highest values being around r = 0.3. \n",
    "\n",
    "Therefore, they are excluded from this analysis for now."
   ]
  },
  {
   "cell_type": "markdown",
   "id": "92e994bd",
   "metadata": {},
   "source": [
    "However, when doing pairwise correlation between the MEG maps alone, there were more significant results:\n",
    "\n",
    "    alpha & delta: r = -0.838 \n",
    "    alpha & gamma1: r = -0.880\n",
    "    alpha & theta: r = -0.886\n",
    "    delta & gamma2: r = 0.843\n",
    "\n",
    "        all with p-value < 0.05"
   ]
  },
  {
   "cell_type": "markdown",
   "id": "6e0b42c1",
   "metadata": {},
   "source": [
    "See [genes_meg_oscillation_maps.ipynb](./B.ipynb) for detailed correlations."
   ]
  },
  {
   "cell_type": "markdown",
   "id": "1f671e64",
   "metadata": {},
   "source": [
    "#### Receptor Density Map to Gene Correlation"
   ]
  },
  {
   "cell_type": "markdown",
   "id": "3473ab6c",
   "metadata": {},
   "source": [
    "Similar to the process used for the MEG maps, the annotations seen in <code>data_desc</code> were fetched from the Neurosynth data and correlation between each of them and each gene was calculated. However, this time both maps were transformed to a fsaverage coordinate system with 10k resolution."
   ]
  },
  {
   "cell_type": "code",
   "execution_count": 32,
   "id": "4c9b6cd5",
   "metadata": {},
   "outputs": [
    {
     "data": {
      "text/plain": [
       "{'dopamine': {'sandiego2015': 'D2 dopamine receptors',\n",
       "  'sasaki2012': 'dopamine transporter',\n",
       "  'kaller2017': 'dopamine D1 receptors',\n",
       "  'alarkurtti2015': 'raclopride - dopamine receptor'},\n",
       " 'gaba': {'norgaard2020': 'GABAA receptors',\n",
       "  'dukart2018': 'flumazenil gaba anatgonist'},\n",
       " 'norepinephrine': {'hesse2017': 'noradrenaline transporter'},\n",
       " 'acetylcholine': {'tuominen': 'acetylcholine transporter density',\n",
       "  'hillmer2016': 'nicotinic acetylcholine receptors',\n",
       "  'naganawa2020': 'M1 muscarinic acetylcholine receptors'},\n",
       " 'serotonin': {'gallezot2010': 'serotonin 5-HT(1B) receptor',\n",
       "  'fazio2016': 'serotonin transporter',\n",
       "  'beliveau2017': 'seratonin agonist',\n",
       "  'radnakrishnan2018': '5-HT6 receptor availability'},\n",
       " 'glutamate': {'rosaneto': 'mGluR5 ligand', 'smart2019': 'mGluR5'},\n",
       " 'mu opioid': {'turtonen2020': 'carfentanil: mu opioid receptor availability',\n",
       "  'kantonen2020': 'carfentanil: mu opioid receptor availability'}}"
      ]
     },
     "execution_count": 32,
     "metadata": {},
     "output_type": "execute_result"
    }
   ],
   "source": [
    "import json\n",
    "with open('data/data_desc.json', 'r') as f:\n",
    "    data_desc = json.load(f)\n",
    "data_desc"
   ]
  },
  {
   "cell_type": "markdown",
   "id": "ecfec584",
   "metadata": {},
   "source": [
    "\n",
    "<div>\n",
    "<img src=\"./data/plots/receptormaps.png\" width=\"650\"/>\n",
    "</div>"
   ]
  },
  {
   "cell_type": "markdown",
   "id": "1c5ad9f1",
   "metadata": {},
   "source": [
    "See [genes_receptors.ipynb](./B.ipynb) for detailed correlations."
   ]
  },
  {
   "cell_type": "markdown",
   "id": "b73b5806",
   "metadata": {},
   "source": [
    "## Conclusion"
   ]
  },
  {
   "cell_type": "markdown",
   "id": "39834b16",
   "metadata": {},
   "source": [
    "As an extremely complicated neurodegenerative disease with no known cause or cure, Alzheimer's disease will continue to require a multitute of techniques of analysis and investigation. Making use of online datasets and toolboxes allows us to make inferences about possible connections and perform statistical analysis. Going forward, I plan to continue working with Neuromaps repository and functionality. It is neccesary to implement spatial null models in statistical analysis of volumetric data. Documentation states that these are very computationally intensive, so I will be trying to find a way to run them in order to analyze maps in their native MNI152 space without transforming them. In doing so, it is unknown what amount of data or correlation is lost in translation. Additionally, I will be testing a few of these correlations with a different parcellation scheme. For a majority of the gene, AD matrix correlations, results were calculcated on left-hemisphere only after discarding rows with an AD value of 0, which left us with very little data to work with. I will be using a parcellation with 180+ parcels."
   ]
  },
  {
   "cell_type": "markdown",
   "id": "80c6b008",
   "metadata": {},
   "source": [
    "#### References\n",
    "[1] Markello, RD, Hansen, JY, Liu, ZQ, Bazinet, V, Shafiei, G, Suarez, LE, Blostein, N, Seidlitz, J, Baillet, S, Satterthwaite, TD & Chakravarty, M. (2022). Neuromaps: structural and functional interpretation of brain maps. Biorxiv. doi:10.1101/bioRxiv.475081\n",
    "\n",
    "[2] Hawrylycz MJ, Lein ES, Guillozet-Bongaarts AL, Shen EH, Ng L, Miller JA, van de Lagemaat LN, Smith KA, Ebbert A, Riley ZL, Abajian C, Beckmann CF, Bernard A, Bertagnolli D, Boe AF, Cartagena PM, Chakravarty MM, Chapin M, Chong J, Dalley RA, David Daly B, Dang C, Datta S, Dee N, Dolbeare TA, Faber V, Feng D, Fowler DR, Goldy J, Gregor BW, Haradon Z, Haynor DR, Hohmann JG, Horvath S, Howard RE, Jeromin A, Jochim JM, Kinnunen M, Lau C, Lazarz ET, Lee C, Lemon TA, Li L, Li Y, Morris JA, Overly CC, Parker PD, Parry SE, Reding M, Royall JJ, Schulkin J, Sequeira PA, Slaughterbeck CR, Smith SC, Sodt AJ, Sunkin SM, Swanson BE, Vawter MP, Williams D, Wohnoutka P, Zielke HR, Geschwind DH, Hof PR, Smith SM, Koch C, Grant SGN, Jones AR. An anatomically comprehensive atlas of the adult human brain transcriptome. Nature. 2012 Sep 20;489(7416):391-399. doi: 10.1038/nature11405. PMID: 22996553; PMCID: PMC4243026.\n",
    "\n",
    "[2] Sipko van Dam, Urmo Võsa, Adriaan van der Graaf, Lude Franke, João Pedro de Magalhães, Gene co-expression analysis for functional classification and gene–disease predictions, Briefings in Bioinformatics, Volume 19, Issue 4, July 2018, Pages 575–592, https://doi.org/10.1093/bib/bbw139\n",
    "\n",
    "[3] R.D. Markello, B. Misic (2021). Comparing spatial null models for brain map. Neuroimage, 236, p. 118052, 10.1016/j.neuroimage.2021.118052\n",
    "\n",
    "[4] Teresa Gómez-Isla, Joseph L. Price, Daniel W. McKeel Jr., John C. Morris, John H. Growdon Bradley T. Hyman, Profound Loss of Layer II Entorhinal Cortex Neurons Occurs in Very Mild Alzheimer’s Disease, Journal of Neuroscience 15 July 1996, 16 (14) 4491-4500; DOI: https://doi.org/10.1523/JNEUROSCI.16-14-04491.1996\n",
    "\n",
    "[5] Rui-ting Hu, Qian Yu, Shao-dan Zhou, Yi-xin Yin, Rui-guang Hu, Hai-peng Lu and Bang-li Hu (2020). Co-expression Network Analysis Reveals Novel Genes Underlying Alzheimer’s Disease Pathogenesis. Frontier Aging Neuroscience, https://doi.org/10.3389/fnagi.2020.605961\n",
    "\n",
    "[6] Chun-I Sze, MD, Juan C. Troncoso, MD, Claudia Kawas, MD, Peter Mouton, PhD, Donald L. Price, MD, Lee J. Martin, PhD, Loss of the Presynaptic Vesicle Protein Synaptophysin in Hippocampus Correlates with Cognitive Decline in Alzheimer Disease, Journal of Neuropathology & Experimental Neurology, Volume 56, Issue 8, August 1997, Pages 933–944, https://doi.org/10.1097/00005072-199708000-00011\n",
    "\n",
    "[7] Kril, J.J., Patel, S., Harding, A.J. et al. Neuron loss from the hippocampus of Alzheimer's disease exceeds extracellular neurofibrillary tangle formation. Acta Neuropathol 103, 370–376 (2002). https://doi.org/10.1007/s00401-001-0477-5\n",
    "\n",
    "[8] Paul M Thompson, Kiralee M Hayashi, Greig I de Zubicaray, Andrew L Janke, Stephen E Rose, James Semple, Michael S Hong, David H Herman, David Gravano, David M Doddrell, Arthur W Toga, Mapping hippocampal and ventricular change in Alzheimer disease, NeuroImage, Volume 22, Issue 4, 2004, ISSN 1053-8119,https://doi.org/10.1016/j.neuroimage.2004.03.040.\n",
    "\n",
    "[9] Scheff, Stephen W. et al. ‘Synaptic Loss in the Inferior Temporal Gyrus in Mild Cognitive Impairment and Alzheimer’s Disease’. 1 Jan. 2011 : 547 – 557.\n",
    "\n",
    "[10] Manja Lehmann, Abdel Douiri, Lois G. Kim, Marc Modat, Dennis Chan, Sebastien Ourselin, Josephine Barnes, Nick C. Fox, Atrophy patterns in Alzheimer's disease and semantic dementia: A comparison of FreeSurfer and manual volumetric measurements, NeuroImage, Volume 49, Issue 3, 2010, ISSN 1053-8119, https://doi.org/10.1016/j.neuroimage.2009.10.056.\n",
    "\n",
    "[11] Echávarri, C., Aalten, P., Uylings, H.B.M. et al. Atrophy in the parahippocampal gyrus as an early biomarker of Alzheimer’s disease. Brain Struct Funct 215, 265–271 (2011). https://doi.org/10.1007/s00429-010-0283-8\n",
    "\n",
    "[12] Ross D. Markello, Aurina Arnatkevi, Jean-Baptiste Poline, Ben D. Fulcher, Alex Fornito, Bratislav Misic (2021), Standardizing workflows in imaging transcriptomics with the abagen toolbox. https://doi.org/10.1101/2021.07.08.451635\n",
    "\n",
    "#### Links\n",
    "* Neurosynth: https://neurosynth.org\n",
    "* Access Allen Human Brain Atlas Gene Expression Data w/ abagen: https://abagen.readthedocs.io\n",
    "* Check for autocorrelation in Python: https://scicoding.com/4-ways-of-calculating-autocorrelation-in-python/\n",
    "* Neuromaps Setup & User Guide: https://netneurolab.github.io/neuromaps/index.html\n",
    "* Information and recommendations for spatial nulls: https://markello-spatialnulls.netlify.app/index.html\n",
    "* Project repo: https://github.com/voytekresearch/BIRD"
   ]
  }
 ],
 "metadata": {
  "kernelspec": {
   "display_name": "Python 3 (ipykernel)",
   "language": "python",
   "name": "python3"
  },
  "language_info": {
   "codemirror_mode": {
    "name": "ipython",
    "version": 3
   },
   "file_extension": ".py",
   "mimetype": "text/x-python",
   "name": "python",
   "nbconvert_exporter": "python",
   "pygments_lexer": "ipython3",
   "version": "3.9.7"
  }
 },
 "nbformat": 4,
 "nbformat_minor": 5
}
