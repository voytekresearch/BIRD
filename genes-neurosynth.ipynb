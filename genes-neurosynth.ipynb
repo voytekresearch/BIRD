{
 "cells": [
  {
   "cell_type": "markdown",
   "id": "94557570",
   "metadata": {},
   "source": [
    "## GENES // NEUROSYNTH"
   ]
  },
  {
   "cell_type": "code",
   "execution_count": 18,
   "id": "4876c748",
   "metadata": {},
   "outputs": [],
   "source": [
    "import nibabel as nib\n",
    "from neuromaps import datasets\n",
    "from neuromaps import nulls\n",
    "from neuromaps import stats\n",
    "from neuromaps import transforms"
   ]
  },
  {
   "cell_type": "code",
   "execution_count": 19,
   "id": "ea336e3e",
   "metadata": {},
   "outputs": [],
   "source": [
    "# LOAD FILES\n",
    "\n",
    "# terms\n",
    "AD_association = nib.load('neurosynth_maps/terms/alzheimer_association-test_z_FDR_0.01.nii')\n",
    "age = nib.load('neurosynth_maps/terms/age_uniformity-test_z_FDR_0.01.nii')\n",
    "memory = nib.load('neurosynth_maps/terms/memory_association-test_z_FDR_0.01.nii')\n",
    "\n",
    "# topics\n",
    "topic377 = nib.load('neurosynth_maps/topics/v4-topics-400_377_ad_disease_mci_association-test_z_FDR_0.01.nii')\n",
    "\n",
    "# genes\n",
    "# apoe = nib.load('neurosynth_maps/genes/gene_345_APOE_348.0.nii')\n",
    "# app = nib.load('neurosynth_maps/genes/gene_348_APP_351.0.nii')\n",
    "# lrp1 = nib.load('neurosynth_maps/genes/gene_4010_LRP1_4035.0.nii')\n",
    "# trem2 = nib.load('neurosynth_maps/genes/gene_33501_TREM2_54209.0.nii')\n",
    "# clu = nib.load('neurosynth_maps/genes/gene_1182_CLU_1191.0.nii')\n",
    "# fox = nib.load('neurosynth_maps/genes/gene_60868_FOXQ1_94234.0.nii')\n",
    "# plc = nib.load('neurosynth_maps/genes/gene_5300_PLCB4_5332.0.nii')\n",
    "# exo = nib.load('neurosynth_maps/genes/gene_59887_EXOC3L2_90332.0.nii')\n",
    "\n",
    "\n",
    "genes = {\n",
    "    'apoe': nib.load('neurosynth_maps/genes/gene_345_APOE_348.0.nii'),\n",
    "    'app': nib.load('neurosynth_maps/genes/gene_348_APP_351.0.nii'),\n",
    "    'lrp1': nib.load('neurosynth_maps/genes/gene_4010_LRP1_4035.0.nii'),\n",
    "    'trem2': nib.load('neurosynth_maps/genes/gene_33501_TREM2_54209.0.nii'),\n",
    "    'clu': nib.load('neurosynth_maps/genes/gene_1182_CLU_1191.0.nii'),\n",
    "    'fox': nib.load('neurosynth_maps/genes/gene_60868_FOXQ1_94234.0.nii'),\n",
    "    'plc': nib.load('neurosynth_maps/genes/gene_5300_PLCB4_5332.0.nii'),\n",
    "    'exo': nib.load('neurosynth_maps/genes/gene_59887_EXOC3L2_90332.0.nii'),\n",
    "    'sdsl': nib.load('neurosynth_maps/genes/gene_76678_SDSL_113675.0.nii'),\n",
    "    'hs3st5': nib.load('neurosynth_maps/genes/gene_85856_HS3ST5_222537.0.nii'),\n",
    "    'crabp1': nib.load('neurosynth_maps/genes/gene_1372_CRABP1_1381.0.nii'),\n",
    "    'gadd45b': nib.load('neurosynth_maps/genes/gene_4590_GADD45B_4616.0.nii')\n",
    "}"
   ]
  },
  {
   "cell_type": "code",
   "execution_count": null,
   "id": "3d0efa3e",
   "metadata": {},
   "outputs": [],
   "source": []
  },
  {
   "cell_type": "code",
   "execution_count": 20,
   "id": "57f59ef1",
   "metadata": {},
   "outputs": [],
   "source": [
    "# takes in two maps in mni152 space, transforms to fsavg, generates null models for statistical significance\n",
    "# transforming to surface because volumetric nulls take forever sooooo idk ill keep trying\n",
    "\n",
    "def spatial_nulls(map1, map2):\n",
    "    fsavg_map1 = transforms.mni152_to_fsaverage(map1, '10k')\n",
    "    fsavg_map2 = transforms.mni152_to_fsaverage(map2, '10k')\n",
    "    rotated = nulls.alexander_bloch(fsavg_map1, atlas='fsaverage', density='10k', n_perm=100, seed=1234)\n",
    "    corr, pval = stats.compare_images(fsavg_map1, fsavg_map2, nulls=rotated)\n",
    "    return (f'r = {corr:.3f}, p = {pval:.3f}')"
   ]
  },
  {
   "cell_type": "code",
   "execution_count": 9,
   "id": "67104a6c",
   "metadata": {},
   "outputs": [
    {
     "name": "stdout",
     "output_type": "stream",
     "text": [
      "APOE <-> APOE:  r = 1.000, p = 0.010\n",
      "APP <-> APOE:  r = -0.037, p = 0.545\n",
      "LRP1 <-> APOE:  r = 0.618, p = 0.010\n",
      "TREM2 <-> APOE:  r = 0.496, p = 0.010\n",
      "CLU <-> APOE:  r = 0.088, p = 0.139\n",
      "FOX <-> APOE:  r = -0.001, p = 0.990\n",
      "PLC <-> APOE:  r = 0.448, p = 0.010\n",
      "EXO <-> APOE:  r = -0.227, p = 0.010\n",
      "SDSL <-> APOE:  r = 0.090, p = 0.446\n"
     ]
    }
   ],
   "source": [
    "# gene pairwise correlation with apoe and all others\n",
    "# wanna do it between all genes \n",
    "\n",
    "for gene in genes:\n",
    "    output = spatial_nulls(genes[gene],genes['apoe'])\n",
    "    print(gene.upper(), '<-> APOE: ', output)"
   ]
  },
  {
   "cell_type": "markdown",
   "id": "04880ccf",
   "metadata": {},
   "source": [
    "    Significant W/ APOE: LRP1, TREM2, PLC, EXO"
   ]
  },
  {
   "cell_type": "markdown",
   "id": "00c12593",
   "metadata": {},
   "source": [
    "        LRP1: MODERATE CORRELATION\n",
    "        TREM2: MODERATE CORRELATION\n",
    "        PLC: MODERATE CORRELATION\n",
    "        EXO: LOW CORRELATION"
   ]
  },
  {
   "cell_type": "code",
   "execution_count": 17,
   "id": "5a89df67",
   "metadata": {},
   "outputs": [
    {
     "name": "stdout",
     "output_type": "stream",
     "text": [
      "APOE <-> AD_association:  r = 0.203, p = 0.198\n",
      "APP <-> AD_association:  r = 0.083, p = 0.396\n",
      "LRP1 <-> AD_association:  r = -0.055, p = 0.663\n",
      "TREM2 <-> AD_association:  r = 0.098, p = 0.554\n",
      "CLU <-> AD_association:  r = 0.306, p = 0.050\n",
      "FOX <-> AD_association:  r = -0.095, p = 0.604\n",
      "PLC <-> AD_association:  r = -0.235, p = 0.099\n",
      "EXO <-> AD_association:  r = -0.064, p = 0.554\n",
      "SDSL <-> AD_association:  r = -0.110, p = 0.525\n"
     ]
    }
   ],
   "source": [
    "# correlation with all genes and AD_association\n",
    "\n",
    "for gene in genes:\n",
    "    output = spatial_nulls(genes[gene],AD_association)\n",
    "    print(gene.upper(), '<-> AD_association: ', output)"
   ]
  },
  {
   "cell_type": "markdown",
   "id": "7d3c5c54",
   "metadata": {},
   "source": [
    "    Significant W/ AD_ASSOCIATION: CLU"
   ]
  },
  {
   "cell_type": "markdown",
   "id": "113ffbf7",
   "metadata": {},
   "source": [
    "        CLU: LOW CORRELATION"
   ]
  },
  {
   "cell_type": "code",
   "execution_count": null,
   "id": "453bbc4f",
   "metadata": {},
   "outputs": [],
   "source": [
    "# non thresholded alzheimer"
   ]
  },
  {
   "cell_type": "code",
   "execution_count": 8,
   "id": "1c13d0a4",
   "metadata": {},
   "outputs": [
    {
     "name": "stdout",
     "output_type": "stream",
     "text": [
      "APOE <-> Topic 377:  r = 0.025, p = 0.772\n",
      "APP <-> Topic 377:  r = 0.015, p = 0.832\n",
      "LRP1 <-> Topic 377:  r = -0.002, p = 0.970\n",
      "TREM2 <-> Topic 377:  r = 0.028, p = 0.743\n",
      "CLU <-> Topic 377:  r = 0.075, p = 0.267\n",
      "FOX <-> Topic 377:  r = -0.069, p = 0.376\n",
      "PLC <-> Topic 377:  r = -0.038, p = 0.624\n",
      "EXO <-> Topic 377:  r = -0.053, p = 0.446\n"
     ]
    }
   ],
   "source": [
    "# correlation with all genes and topic377\n",
    "# https://neurosynth.org/analyses/topics/v4-topics-400/377\n",
    "\n",
    "for gene in genes:\n",
    "    output = spatial_nulls(genes[gene], topic377)\n",
    "    print(gene.upper(), '<-> Topic 377: ', output)"
   ]
  },
  {
   "cell_type": "markdown",
   "id": "062f5e11",
   "metadata": {},
   "source": [
    "    Significant W/ TOPIC377: None"
   ]
  },
  {
   "cell_type": "code",
   "execution_count": 9,
   "id": "0c790db8",
   "metadata": {},
   "outputs": [
    {
     "name": "stdout",
     "output_type": "stream",
     "text": [
      "APOE <-> age:  r = 0.188, p = 0.020\n",
      "APP <-> age:  r = 0.128, p = 0.030\n",
      "LRP1 <-> age:  r = 0.128, p = 0.030\n",
      "TREM2 <-> age:  r = 0.153, p = 0.059\n",
      "CLU <-> age:  r = -0.103, p = 0.178\n",
      "FOX <-> age:  r = -0.069, p = 0.188\n",
      "PLC <-> age:  r = 0.248, p = 0.010\n",
      "EXO <-> age:  r = -0.133, p = 0.010\n"
     ]
    }
   ],
   "source": [
    "# correlation with all genes and age\n",
    "# https://neurosynth.org/analyses/topics/v4-topics-400/377\n",
    "\n",
    "for gene in genes:\n",
    "    output = spatial_nulls(genes[gene], age)\n",
    "    print(gene.upper(), '<-> age: ', output)"
   ]
  },
  {
   "cell_type": "markdown",
   "id": "6eb5138b",
   "metadata": {},
   "source": [
    "    Significant W/ AGE: APOE, APP, LRP1, PLC, EXO"
   ]
  },
  {
   "cell_type": "markdown",
   "id": "bba163a9",
   "metadata": {},
   "source": [
    "        APOE: LOW CORRELATION\n",
    "        APP: LOW CORRELATION\n",
    "        LRP1: LOW CORRELATION\n",
    "        PLC: LOW CORRELATION\n",
    "        EXO: LOW CORRELATION"
   ]
  },
  {
   "cell_type": "code",
   "execution_count": 24,
   "id": "481c9858",
   "metadata": {},
   "outputs": [
    {
     "data": {
      "text/plain": [
       "'r = 0.067, p = 0.475'"
      ]
     },
     "execution_count": 24,
     "metadata": {},
     "output_type": "execute_result"
    }
   ],
   "source": [
    "spatial_nulls(AD_association, memory)"
   ]
  },
  {
   "cell_type": "code",
   "execution_count": 25,
   "id": "65120067",
   "metadata": {},
   "outputs": [
    {
     "data": {
      "text/plain": [
       "'r = 0.299, p = 0.010'"
      ]
     },
     "execution_count": 25,
     "metadata": {},
     "output_type": "execute_result"
    }
   ],
   "source": [
    "spatial_nulls(age, memory)"
   ]
  },
  {
   "cell_type": "code",
   "execution_count": 26,
   "id": "9b09089e",
   "metadata": {},
   "outputs": [
    {
     "data": {
      "text/plain": [
       "'r = 0.041, p = 0.525'"
      ]
     },
     "execution_count": 26,
     "metadata": {},
     "output_type": "execute_result"
    }
   ],
   "source": [
    "spatial_nulls(topic377, memory)"
   ]
  },
  {
   "cell_type": "code",
   "execution_count": null,
   "id": "8bd33003",
   "metadata": {},
   "outputs": [],
   "source": []
  }
 ],
 "metadata": {
  "kernelspec": {
   "display_name": "Python 3 (ipykernel)",
   "language": "python",
   "name": "python3"
  },
  "language_info": {
   "codemirror_mode": {
    "name": "ipython",
    "version": 3
   },
   "file_extension": ".py",
   "mimetype": "text/x-python",
   "name": "python",
   "nbconvert_exporter": "python",
   "pygments_lexer": "ipython3",
   "version": "3.9.7"
  }
 },
 "nbformat": 4,
 "nbformat_minor": 5
}
