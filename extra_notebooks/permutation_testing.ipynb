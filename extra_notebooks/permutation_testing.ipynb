{
 "cells": [
  {
   "cell_type": "markdown",
   "id": "bb3b0998",
   "metadata": {},
   "source": [
    "## Spatial Null Models"
   ]
  },
  {
   "cell_type": "markdown",
   "id": "3c51cf05",
   "metadata": {},
   "source": [
    "* When working with parcellated data, the null framework that seems to consistently yield statistical estimates with the lowest error rate is the Cornblath method.\n",
    "* When working with vertex-level data, the optimal null method appears to be the framework proposed by Alexander-Bloch et al., 2018\n",
    "* However, if you have volumetric, subcortical, cerebellar, or region-of-interest data you can only use the parameterized data models in these situations. Here, we find that the Moran and Burt-2020 methods seem to fare rather comparably\n",
    "        - https://markello-spatialnulls.netlify.app/recommendations.html"
   ]
  },
  {
   "cell_type": "markdown",
   "id": "400c562d",
   "metadata": {},
   "source": [
    "---\n",
    "### example with surface data"
   ]
  },
  {
   "cell_type": "code",
   "execution_count": 1,
   "id": "915d8c36",
   "metadata": {},
   "outputs": [],
   "source": [
    "import neuromaps\n",
    "import nibabel as nib\n",
    "from neuromaps import nulls\n",
    "from scipy import stats\n",
    "import numpy as np"
   ]
  },
  {
   "cell_type": "code",
   "execution_count": 2,
   "id": "5974bc3d",
   "metadata": {},
   "outputs": [],
   "source": [
    "civet1 = neuromaps.datasets.fetch_annotation(source='reardon2018', desc='scalinghcp')\n",
    "civet2 = neuromaps.datasets.fetch_annotation(source='reardon2018', desc='scalingnih')"
   ]
  },
  {
   "cell_type": "code",
   "execution_count": 3,
   "id": "052136d1",
   "metadata": {},
   "outputs": [],
   "source": [
    "# array data from civet1, civet2 annotations\n",
    "\n",
    "img_civet1a = nib.load(civet1[0])\n",
    "img_civet1b = nib.load(civet1[1])\n",
    "img_civet1 = img_civet1a.agg_data() + img_civet1b.agg_data()\n",
    "\n",
    "img_civet2a = nib.load(civet2[0])\n",
    "img_civet2b = nib.load(civet2[1])\n",
    "img_civet2 = img_civet2a.agg_data() + img_civet2b.agg_data()"
   ]
  },
  {
   "cell_type": "markdown",
   "id": "db0ba4a0",
   "metadata": {},
   "source": [
    "---\n",
    "## Naive Models"
   ]
  },
  {
   "cell_type": "markdown",
   "id": "d6e8d68c",
   "metadata": {},
   "source": [
    "#### parametric - scipy pearsonr"
   ]
  },
  {
   "cell_type": "code",
   "execution_count": 4,
   "id": "b613b778",
   "metadata": {},
   "outputs": [
    {
     "name": "stdout",
     "output_type": "stream",
     "text": [
      "Correlation: 0.5343663262765331, P-value: 0.0\n"
     ]
    }
   ],
   "source": [
    "# input must be array-like, same length\n",
    "r, p = stats.pearsonr(img_civet1,img_civet2)\n",
    "print(f'Correlation: {r}, P-value: {p}')"
   ]
  },
  {
   "cell_type": "markdown",
   "id": "c93d0b2e",
   "metadata": {},
   "source": [
    "#### non-parametric - neuromaps stats method\n",
    "Calculates two-tailed p-value for hypothesis of whether samples a and b are related using permutation tests."
   ]
  },
  {
   "cell_type": "code",
   "execution_count": 5,
   "id": "9d2d9f81",
   "metadata": {},
   "outputs": [],
   "source": [
    "# input must be array-like, same length\n",
    "r, p = neuromaps.stats.permtest_metric(img_civet1, img_civet2)"
   ]
  },
  {
   "cell_type": "code",
   "execution_count": 6,
   "id": "56ad0eb3",
   "metadata": {
    "scrolled": true
   },
   "outputs": [
    {
     "data": {
      "text/plain": [
       "(0.5343663096427917, 0.000999000999000999)"
      ]
     },
     "execution_count": 6,
     "metadata": {},
     "output_type": "execute_result"
    }
   ],
   "source": [
    "r, p"
   ]
  },
  {
   "cell_type": "markdown",
   "id": "3f1357d6",
   "metadata": {},
   "source": [
    "---\n",
    "## Spatial permutation models"
   ]
  },
  {
   "cell_type": "markdown",
   "id": "eb63f621",
   "metadata": {},
   "source": [
    "#### neuromaps compare_images with null model"
   ]
  },
  {
   "cell_type": "code",
   "execution_count": 7,
   "id": "200f0c1f",
   "metadata": {},
   "outputs": [
    {
     "name": "stdout",
     "output_type": "stream",
     "text": [
      "Correlation: 0.3770379047549592, P-value: 0.009900990099009901\n"
     ]
    }
   ],
   "source": [
    "rotated = nulls.alexander_bloch(civet1, atlas='civet', density='41k',\n",
    "                                n_perm=100, seed=1234)\n",
    "\n",
    "r, p = neuromaps.stats.compare_images(civet1,civet2, nulls=rotated)\n",
    "print(f'Correlation: {r}, P-value: {p}')"
   ]
  },
  {
   "cell_type": "markdown",
   "id": "c4ff7d74",
   "metadata": {},
   "source": [
    "#### vs. neuromaps compare_images without providing a null model"
   ]
  },
  {
   "cell_type": "code",
   "execution_count": 8,
   "id": "9e59f947",
   "metadata": {
    "scrolled": true
   },
   "outputs": [
    {
     "name": "stdout",
     "output_type": "stream",
     "text": [
      "Correlation: 0.3770379047549592\n"
     ]
    }
   ],
   "source": [
    "r1 = neuromaps.stats.compare_images(civet1,civet2)\n",
    "print(f'Correlation: {r1}')"
   ]
  },
  {
   "cell_type": "code",
   "execution_count": 9,
   "id": "3c8a506b",
   "metadata": {},
   "outputs": [],
   "source": [
    "AD = nib.load('data/neurosynth_maps/terms/alzheimer_association-test_z_FDR_0.01.nii')\n",
    "age = nib.load('data/neurosynth_maps/terms/age_uniformity-test_z_FDR_0.01.nii')"
   ]
  },
  {
   "cell_type": "code",
   "execution_count": 10,
   "id": "0ec21aa7",
   "metadata": {},
   "outputs": [],
   "source": [
    "from neuromaps import stats"
   ]
  },
  {
   "cell_type": "code",
   "execution_count": 12,
   "id": "28887e82",
   "metadata": {},
   "outputs": [],
   "source": [
    "import abagen\n",
    "atlas = abagen.fetch_desikan_killiany()"
   ]
  },
  {
   "cell_type": "code",
   "execution_count": 13,
   "id": "7c47672b",
   "metadata": {},
   "outputs": [],
   "source": [
    "from neuromaps.parcellate import Parcellater\n",
    "parc = Parcellater(atlas['image'],'mni152')\n",
    "AD_p = parc.fit_transform(AD,'mni152')\n",
    "age_p = parc.fit_transform(age,'mni152')"
   ]
  },
  {
   "cell_type": "code",
   "execution_count": 14,
   "id": "8045bd02",
   "metadata": {},
   "outputs": [
    {
     "data": {
      "text/plain": [
       "-0.19654383819873872"
      ]
     },
     "execution_count": 14,
     "metadata": {},
     "output_type": "execute_result"
    }
   ],
   "source": [
    "stats.compare_images(AD_p, age_p)"
   ]
  },
  {
   "cell_type": "code",
   "execution_count": 23,
   "id": "dcfd156f",
   "metadata": {},
   "outputs": [
    {
     "data": {
      "text/plain": [
       "(-0.20520221954681284, 0.059940059940059943)"
      ]
     },
     "execution_count": 23,
     "metadata": {},
     "output_type": "execute_result"
    }
   ],
   "source": [
    "stats.permtest_metric(AD_p[0], age_p[0])"
   ]
  },
  {
   "cell_type": "code",
   "execution_count": 46,
   "id": "d0621cc2",
   "metadata": {},
   "outputs": [
    {
     "data": {
      "text/plain": [
       "(83,)"
      ]
     },
     "execution_count": 46,
     "metadata": {},
     "output_type": "execute_result"
    }
   ],
   "source": [
    "age_p[0].shape"
   ]
  },
  {
   "cell_type": "code",
   "execution_count": 47,
   "id": "6328f4ca",
   "metadata": {},
   "outputs": [],
   "source": [
    "import statsmodels.api as sm\n",
    "\n",
    "#calculate autocorrelations\n",
    "x = sm.tsa.acf(age_p[0])"
   ]
  },
  {
   "cell_type": "code",
   "execution_count": 96,
   "id": "0c695af4",
   "metadata": {},
   "outputs": [
    {
     "data": {
      "image/png": "[encoded data removed]",
      "text/plain": [
       "<Figure size 432x288 with 1 Axes>"
      ]
     },
     "metadata": {
      "needs_background": "light"
     },
     "output_type": "display_data"
    }
   ],
   "source": [
    "from statsmodels.graphics import tsaplots\n",
    "import matplotlib.pyplot as plt\n",
    "\n",
    "#plot autocorrelation function\n",
    "fig = tsaplots.plot_acf(age_p[0], lags=10)\n",
    "plt.show()"
   ]
  },
  {
   "cell_type": "code",
   "execution_count": 117,
   "id": "c1b54da0",
   "metadata": {},
   "outputs": [
    {
     "data": {
      "image/png": "[encoded data removed]",
      "text/plain": [
       "<Figure size 432x288 with 1 Axes>"
      ]
     },
     "metadata": {
      "needs_background": "light"
     },
     "output_type": "display_data"
    }
   ],
   "source": [
    "#plot autocorrelation function\n",
    "fig = tsaplots.plot_acf(AD_p[0], lags=10)\n",
    "plt.show()"
   ]
  },
  {
   "cell_type": "code",
   "execution_count": 92,
   "id": "6bad51a4",
   "metadata": {},
   "outputs": [],
   "source": [
    "''' numpy.correlate '''\n",
    "\n",
    "import numpy\n",
    "\n",
    "x = np.array(AD_p[0]) \n",
    "\n",
    "# Mean\n",
    "mean = numpy.mean(AD_p[0])\n",
    "\n",
    "# Variance\n",
    "var = numpy.var(AD_p[0])\n",
    "\n",
    "# Normalized data\n",
    "ndata = AD_p[0] - mean\n",
    "\n",
    "acorr = numpy.correlate(ndata, ndata, 'full')[len(ndata)-1:] \n",
    "acorr = acorr / var / len(ndata)"
   ]
  },
  {
   "cell_type": "code",
   "execution_count": null,
   "id": "1d82b5a7",
   "metadata": {},
   "outputs": [],
   "source": []
  }
 ],
 "metadata": {
  "kernelspec": {
   "display_name": "Python 3 (ipykernel)",
   "language": "python",
   "name": "python3"
  },
  "language_info": {
   "codemirror_mode": {
    "name": "ipython",
    "version": 3
   },
   "file_extension": ".py",
   "mimetype": "text/x-python",
   "name": "python",
   "nbconvert_exporter": "python",
   "pygments_lexer": "ipython3",
   "version": "3.9.7"
  }
 },
 "nbformat": 4,
 "nbformat_minor": 5
}
