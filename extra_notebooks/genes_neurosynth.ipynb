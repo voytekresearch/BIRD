{
 "cells": [
  {
   "cell_type": "markdown",
   "id": "94557570",
   "metadata": {},
   "source": [
    "## GENES // NEUROSYNTH"
   ]
  },
  {
   "cell_type": "code",
   "execution_count": 1,
   "id": "4876c748",
   "metadata": {},
   "outputs": [],
   "source": [
    "import nibabel as nib\n",
    "from neuromaps import datasets\n",
    "from neuromaps import nulls\n",
    "from neuromaps import stats\n",
    "from neuromaps import transforms\n",
    "import pandas as pd\n",
    "from neuromaps.stats import compare_images"
   ]
  },
  {
   "cell_type": "code",
   "execution_count": 239,
   "id": "ea336e3e",
   "metadata": {},
   "outputs": [],
   "source": [
    "# LOAD FILES\n",
    "\n",
    "# terms\n",
    "ad_unthresholded = nib.load('data/neurosynth_maps/terms/neurosynth_ad.nii')\n",
    "AD_association = nib.load('data/neurosynth_maps/terms/alzheimer_association-test_z_FDR_0.01.nii')\n",
    "age = nib.load('data/neurosynth_maps/terms/age_uniformity-test_z_FDR_0.01.nii')\n",
    "memory = nib.load('data/neurosynth_maps/terms/memory_association-test_z_FDR_0.01.nii')\n",
    "hip = nib.load('data/neurosynth_maps/terms/hippocampus_association-test_z_FDR_0.01.nii')\n",
    "\n",
    "# topics\n",
    "topic377 = nib.load('data/neurosynth_maps/topics/v4-topics-400_377_ad_disease_mci_association-test_z_FDR_0.01.nii')\n",
    "\n",
    "genes = {\n",
    "    'ELMO2': nib.load('data/neurosynth_maps/genes1/gene_40559_ELMO2_63916.0.nii'),\n",
    "    'GADD45B': nib.load('data/neurosynth_maps/genes1/gene_4590_GADD45B_4616.0.nii'),\n",
    "    'LANCL2': nib.load('data/neurosynth_maps/genes1/gene_35202_LANCL2_55915.0.nii'),\n",
    "    'RSPO3': nib.load('data/neurosynth_maps/genes1/gene_59060_RSPO3_84870.0.nii'),\n",
    "    'TRIM66': nib.load('data/neurosynth_maps/genes1/gene_9722_TRIM66_9866.0.nii'),\n",
    "    'DCAF5': nib.load('data/neurosynth_maps/genes1/gene_8739_DCAF5_8816.0.nii'),\n",
    "    'ARL2': nib.load('data/neurosynth_maps/genes1/gene_399_ARL2_402.0.nii'),\n",
    "    'NEURL1B': nib.load('data/neurosynth_maps/genes1/gene_33783_NEURL1B_54492.0.nii'),\n",
    "    'STXBP6': nib.load('data/neurosynth_maps/genes1/gene_28827_STXBP6_29091.0.nii'),\n",
    "    \n",
    "}"
   ]
  },
  {
   "cell_type": "code",
   "execution_count": 85,
   "id": "57f59ef1",
   "metadata": {},
   "outputs": [],
   "source": [
    "# takes in two maps in mni152 space, transforms to fsavg, generates null models for statistical significance\n",
    "# transforming to surface because volumetric nulls take forever sooooo idk ill keep trying\n",
    "\n",
    "def spatial_nulls(map1, map2):\n",
    "    fsavg_map1 = transforms.mni152_to_fsaverage(map1, '10k')\n",
    "    fsavg_map2 = transforms.mni152_to_fsaverage(map2, '10k')\n",
    "    rotated = nulls.alexander_bloch(fsavg_map1, atlas='fsaverage', density='10k', n_perm=100, seed=1234)\n",
    "    corr, pval = stats.compare_images(fsavg_map1, fsavg_map2, nulls=rotated)\n",
    "    return corr, pval\n",
    "    #return (f'r = {corr:.3f}, p = {pval:.3f}')"
   ]
  },
  {
   "cell_type": "code",
   "execution_count": 5,
   "id": "67104a6c",
   "metadata": {},
   "outputs": [
    {
     "name": "stdout",
     "output_type": "stream",
     "text": [
      "ELMO2 <-> ELMO2:  r = 1.000, p = 0.010\n",
      "GADD45B <-> ELMO2:  r = -0.100, p = 0.020\n",
      "LANCL2 <-> ELMO2:  r = 0.174, p = 0.010\n",
      "RSPO3 <-> ELMO2:  r = 0.270, p = 0.010\n",
      "TRIM66 <-> ELMO2:  r = 0.184, p = 0.010\n",
      "DCAF5 <-> ELMO2:  r = 0.460, p = 0.010\n",
      "ARL2 <-> ELMO2:  r = -0.189, p = 0.010\n",
      "NEURL1B <-> ELMO2:  r = -0.146, p = 0.010\n",
      "STXBP6 <-> ELMO2:  r = -0.061, p = 0.267\n"
     ]
    }
   ],
   "source": [
    "# gene pairwise correlation with apoe and all others\n",
    "# wanna do it between all genes \n",
    "\n",
    "for gene in genes:\n",
    "    output = spatial_nulls(genes[gene],genes['ELMO2'])\n",
    "    print(gene, '<-> ELMO2: ', output)"
   ]
  },
  {
   "cell_type": "markdown",
   "id": "00c12593",
   "metadata": {},
   "source": [
    "        "
   ]
  },
  {
   "cell_type": "code",
   "execution_count": 6,
   "id": "5a89df67",
   "metadata": {},
   "outputs": [
    {
     "name": "stdout",
     "output_type": "stream",
     "text": [
      "ELMO2 <-> AD_association:  r = 0.136, p = 0.238\n",
      "GADD45B <-> AD_association:  r = -0.300, p = 0.040\n",
      "LANCL2 <-> AD_association:  r = 0.269, p = 0.040\n",
      "RSPO3 <-> AD_association:  r = 0.088, p = 0.554\n",
      "TRIM66 <-> AD_association:  r = -0.193, p = 0.168\n",
      "DCAF5 <-> AD_association:  r = -0.013, p = 0.921\n",
      "ARL2 <-> AD_association:  r = 0.153, p = 0.347\n",
      "NEURL1B <-> AD_association:  r = 0.223, p = 0.089\n",
      "STXBP6 <-> AD_association:  r = 0.090, p = 0.594\n"
     ]
    }
   ],
   "source": [
    "# correlation with all genes and AD_association\n",
    "\n",
    "for gene in genes:\n",
    "    output = spatial_nulls(genes[gene],AD_association)\n",
    "    print(gene, '<-> AD_association: ', output)"
   ]
  },
  {
   "cell_type": "markdown",
   "id": "113ffbf7",
   "metadata": {},
   "source": [
    "        "
   ]
  },
  {
   "cell_type": "code",
   "execution_count": null,
   "id": "453bbc4f",
   "metadata": {},
   "outputs": [],
   "source": [
    "# non thresholded alzheimer"
   ]
  },
  {
   "cell_type": "code",
   "execution_count": 7,
   "id": "1c13d0a4",
   "metadata": {},
   "outputs": [
    {
     "name": "stdout",
     "output_type": "stream",
     "text": [
      "ELMO2 <-> Topic 377:  r = 0.075, p = 0.327\n",
      "GADD45B <-> Topic 377:  r = -0.091, p = 0.188\n",
      "LANCL2 <-> Topic 377:  r = 0.049, p = 0.515\n",
      "RSPO3 <-> Topic 377:  r = 0.039, p = 0.564\n",
      "TRIM66 <-> Topic 377:  r = -0.009, p = 0.911\n",
      "DCAF5 <-> Topic 377:  r = -0.033, p = 0.663\n",
      "ARL2 <-> Topic 377:  r = -0.015, p = 0.861\n",
      "NEURL1B <-> Topic 377:  r = 0.045, p = 0.554\n",
      "STXBP6 <-> Topic 377:  r = -0.051, p = 0.545\n"
     ]
    }
   ],
   "source": [
    "# correlation with all genes and topic377\n",
    "# https://neurosynth.org/analyses/topics/v4-topics-400/377\n",
    "\n",
    "for gene in genes:\n",
    "    output = spatial_nulls(genes[gene], topic377)\n",
    "    print(gene, '<-> Topic 377: ', output)"
   ]
  },
  {
   "cell_type": "code",
   "execution_count": 8,
   "id": "0c790db8",
   "metadata": {},
   "outputs": [
    {
     "name": "stdout",
     "output_type": "stream",
     "text": [
      "ELMO2 <-> age:  r = 0.060, p = 0.188\n",
      "GADD45B <-> age:  r = 0.264, p = 0.010\n",
      "LANCL2 <-> age:  r = -0.206, p = 0.010\n",
      "RSPO3 <-> age:  r = -0.212, p = 0.010\n",
      "TRIM66 <-> age:  r = 0.252, p = 0.010\n",
      "DCAF5 <-> age:  r = 0.002, p = 0.960\n",
      "ARL2 <-> age:  r = -0.034, p = 0.406\n",
      "NEURL1B <-> age:  r = -0.251, p = 0.010\n",
      "STXBP6 <-> age:  r = 0.208, p = 0.010\n"
     ]
    }
   ],
   "source": [
    "# correlation with all genes and age\n",
    "# https://neurosynth.org/analyses/topics/v4-topics-400/377\n",
    "\n",
    "for gene in genes:\n",
    "    output = spatial_nulls(genes[gene], age)\n",
    "    print(gene, '<-> age: ', output)"
   ]
  },
  {
   "cell_type": "markdown",
   "id": "bba163a9",
   "metadata": {},
   "source": [
    "        "
   ]
  },
  {
   "cell_type": "code",
   "execution_count": 9,
   "id": "530dd319",
   "metadata": {},
   "outputs": [
    {
     "data": {
      "text/plain": [
       "'r = 0.067, p = 0.475'"
      ]
     },
     "execution_count": 9,
     "metadata": {},
     "output_type": "execute_result"
    }
   ],
   "source": [
    "spatial_nulls(AD_association, memory)"
   ]
  },
  {
   "cell_type": "code",
   "execution_count": 10,
   "id": "81e5c394",
   "metadata": {},
   "outputs": [
    {
     "data": {
      "text/plain": [
       "'r = 0.299, p = 0.010'"
      ]
     },
     "execution_count": 10,
     "metadata": {},
     "output_type": "execute_result"
    }
   ],
   "source": [
    "spatial_nulls(age, memory)"
   ]
  },
  {
   "cell_type": "code",
   "execution_count": 11,
   "id": "e92ef145",
   "metadata": {},
   "outputs": [
    {
     "data": {
      "text/plain": [
       "'r = 0.041, p = 0.525'"
      ]
     },
     "execution_count": 11,
     "metadata": {},
     "output_type": "execute_result"
    }
   ],
   "source": [
    "spatial_nulls(topic377, memory)"
   ]
  },
  {
   "cell_type": "code",
   "execution_count": 42,
   "id": "9149443b",
   "metadata": {},
   "outputs": [],
   "source": [
    "known_genes = {\n",
    "    'APP': nib.load('data/neurosynth_maps/genes/gene_348_APP_351.0.nii'),\n",
    "    'APOE': nib.load('data/neurosynth_maps/genes/gene_345_APOE_348.0.nii'),\n",
    "    'PSEN1': nib.load('data/neurosynth_maps/genes/gene_5631_PSEN1_5663.0.nii'),\n",
    "    'PSEN2': nib.load('data/neurosynth_maps/genes/gene_5632_PSEN2_5664.0.nii')\n",
    "}"
   ]
  },
  {
   "cell_type": "code",
   "execution_count": 141,
   "id": "48cb28b9",
   "metadata": {},
   "outputs": [],
   "source": [
    "known_matrix = np.array([[ 1, -0.03650806, 0.18233806, -0.06721699],\n",
    " [-0.03650806, 1, 0.21080887, 0.31974089],\n",
    " [ 0.18233806, 0.21080887, 1, 0.09926114],\n",
    " [-0.06721699, 0.31974089, 0.09926114, 1]])"
   ]
  },
  {
   "cell_type": "code",
   "execution_count": 145,
   "id": "f79f9cc6",
   "metadata": {},
   "outputs": [],
   "source": [
    "x_axis_labels = ['APP', 'APOE', 'PSEN1', 'PSEN2']"
   ]
  },
  {
   "cell_type": "code",
   "execution_count": 227,
   "id": "d44fbd20",
   "metadata": {},
   "outputs": [],
   "source": [
    "x = pd.DataFrame(columns=['APP','APOE','PSEN1','PSEN2'], index=['APP','APOE','PSEN1','PSEN2'])\n",
    "\n",
    "\n",
    "x.APP.APP = spatial_nulls(APP,APP)\n",
    "x.APP.APOE = spatial_nulls(APP,APOE)\n",
    "x.APP.PSEN1 = spatial_nulls(APP,PSEN1)\n",
    "x.APP.PSEN2 = spatial_nulls(APP,PSEN2)\n",
    "\n",
    "x.APOE.APP = x.APP.APOE\n",
    "x.APOE.APOE = spatial_nulls(APOE,APOE)\n",
    "x.APOE.PSEN1 = spatial_nulls(APOE,PSEN1)\n",
    "x.APOE.PSEN2 = spatial_nulls(APOE,PSEN2)\n",
    "\n",
    "x.PSEN1.APP = x.APP.PSEN1\n",
    "x.PSEN1.APOE = x.APOE.PSEN1\n",
    "x.PSEN1.PSEN1 = spatial_nulls(PSEN1,PSEN1)\n",
    "x.PSEN1.PSEN2 = spatial_nulls(PSEN1,PSEN2)\n",
    "\n",
    "x.PSEN2.APP = x.APP.PSEN2\n",
    "x.PSEN2.APOE = x.APOE.PSEN2\n",
    "x.PSEN2.PSEN1 = x.PSEN1.PSEN2\n",
    "x.PSEN2.PSEN2 = spatial_nulls(PSEN2,PSEN2)"
   ]
  },
  {
   "cell_type": "code",
   "execution_count": 228,
   "id": "110bb1d3",
   "metadata": {},
   "outputs": [
    {
     "data": {
      "text/html": [
       "<div>\n",
       "<style scoped>\n",
       "    .dataframe tbody tr th:only-of-type {\n",
       "        vertical-align: middle;\n",
       "    }\n",
       "\n",
       "    .dataframe tbody tr th {\n",
       "        vertical-align: top;\n",
       "    }\n",
       "\n",
       "    .dataframe thead th {\n",
       "        text-align: right;\n",
       "    }\n",
       "</style>\n",
       "<table border=\"1\" class=\"dataframe\">\n",
       "  <thead>\n",
       "    <tr style=\"text-align: right;\">\n",
       "      <th></th>\n",
       "      <th>APP</th>\n",
       "      <th>APOE</th>\n",
       "      <th>PSEN1</th>\n",
       "      <th>PSEN2</th>\n",
       "    </tr>\n",
       "  </thead>\n",
       "  <tbody>\n",
       "    <tr>\n",
       "      <th>APP</th>\n",
       "      <td>(1.0, 0.009900990099009901)</td>\n",
       "      <td>(-0.03650806099176407, 0.5445544554455446)</td>\n",
       "      <td>(0.18233805894851685, 0.009900990099009901)</td>\n",
       "      <td>(-0.06721699237823486, 0.0594059405940594)</td>\n",
       "    </tr>\n",
       "    <tr>\n",
       "      <th>APOE</th>\n",
       "      <td>(-0.03650806099176407, 0.5445544554455446)</td>\n",
       "      <td>(1.0, 0.009900990099009901)</td>\n",
       "      <td>(0.2108088731765747, 0.009900990099009901)</td>\n",
       "      <td>(0.319740891456604, 0.009900990099009901)</td>\n",
       "    </tr>\n",
       "    <tr>\n",
       "      <th>PSEN1</th>\n",
       "      <td>(0.18233805894851685, 0.009900990099009901)</td>\n",
       "      <td>(0.2108088731765747, 0.009900990099009901)</td>\n",
       "      <td>(0.9999998807907104, 0.009900990099009901)</td>\n",
       "      <td>(0.09926114231348038, 0.009900990099009901)</td>\n",
       "    </tr>\n",
       "    <tr>\n",
       "      <th>PSEN2</th>\n",
       "      <td>(-0.06721699237823486, 0.0594059405940594)</td>\n",
       "      <td>(0.319740891456604, 0.009900990099009901)</td>\n",
       "      <td>(0.09926114231348038, 0.009900990099009901)</td>\n",
       "      <td>(1.0, 0.009900990099009901)</td>\n",
       "    </tr>\n",
       "  </tbody>\n",
       "</table>\n",
       "</div>"
      ],
      "text/plain": [
       "                                               APP  \\\n",
       "APP                    (1.0, 0.009900990099009901)   \n",
       "APOE    (-0.03650806099176407, 0.5445544554455446)   \n",
       "PSEN1  (0.18233805894851685, 0.009900990099009901)   \n",
       "PSEN2   (-0.06721699237823486, 0.0594059405940594)   \n",
       "\n",
       "                                             APOE  \\\n",
       "APP    (-0.03650806099176407, 0.5445544554455446)   \n",
       "APOE                  (1.0, 0.009900990099009901)   \n",
       "PSEN1  (0.2108088731765747, 0.009900990099009901)   \n",
       "PSEN2   (0.319740891456604, 0.009900990099009901)   \n",
       "\n",
       "                                             PSEN1  \\\n",
       "APP    (0.18233805894851685, 0.009900990099009901)   \n",
       "APOE    (0.2108088731765747, 0.009900990099009901)   \n",
       "PSEN1   (0.9999998807907104, 0.009900990099009901)   \n",
       "PSEN2  (0.09926114231348038, 0.009900990099009901)   \n",
       "\n",
       "                                             PSEN2  \n",
       "APP     (-0.06721699237823486, 0.0594059405940594)  \n",
       "APOE     (0.319740891456604, 0.009900990099009901)  \n",
       "PSEN1  (0.09926114231348038, 0.009900990099009901)  \n",
       "PSEN2                  (1.0, 0.009900990099009901)  "
      ]
     },
     "execution_count": 228,
     "metadata": {},
     "output_type": "execute_result"
    }
   ],
   "source": [
    "x"
   ]
  },
  {
   "cell_type": "code",
   "execution_count": 230,
   "id": "fe8ccdf2",
   "metadata": {},
   "outputs": [],
   "source": [
    "annot_arr = np.array(x)"
   ]
  },
  {
   "cell_type": "code",
   "execution_count": 235,
   "id": "289011e7",
   "metadata": {},
   "outputs": [
    {
     "data": {
      "image/png": "[encoded data removed]",
      "text/plain": [
       "<Figure size 864x504 with 2 Axes>"
      ]
     },
     "metadata": {
      "needs_background": "light"
     },
     "output_type": "display_data"
    }
   ],
   "source": [
    "import matplotlib.pyplot as plt\n",
    "import seaborn as sns\n",
    "plt.figure(figsize=(12, 7))\n",
    "new_heat = sns.heatmap(known_matrix, annot=True, vmin=-1, vmax=1, xticklabels=x_axis_labels, yticklabels=x_axis_labels,cmap='Blues');\n",
    "new_heat.set_title('Known AD Genes Correlation/Coexpression', fontdict={'fontsize':12}, pad=12);"
   ]
  }
 ],
 "metadata": {
  "kernelspec": {
   "display_name": "Python 3 (ipykernel)",
   "language": "python",
   "name": "python3"
  },
  "language_info": {
   "codemirror_mode": {
    "name": "ipython",
    "version": 3
   },
   "file_extension": ".py",
   "mimetype": "text/x-python",
   "name": "python",
   "nbconvert_exporter": "python",
   "pygments_lexer": "ipython3",
   "version": "3.9.7"
  }
 },
 "nbformat": 4,
 "nbformat_minor": 5
}
