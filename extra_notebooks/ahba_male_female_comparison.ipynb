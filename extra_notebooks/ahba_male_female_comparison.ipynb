{
 "cells": [
  {
   "cell_type": "markdown",
   "id": "58f5d01b",
   "metadata": {},
   "source": [
    "### Female Vs. Male ABHA Donors"
   ]
  },
  {
   "cell_type": "code",
   "execution_count": 1,
   "id": "804a8850",
   "metadata": {},
   "outputs": [],
   "source": [
    "import abagen\n",
    "import pandas as pd"
   ]
  },
  {
   "cell_type": "code",
   "execution_count": 2,
   "id": "9c704c2a",
   "metadata": {},
   "outputs": [],
   "source": [
    "atlas = abagen.fetch_desikan_killiany()"
   ]
  },
  {
   "cell_type": "code",
   "execution_count": 3,
   "id": "8cbf4285",
   "metadata": {},
   "outputs": [],
   "source": [
    "# females are ~2x as likely to develop AD\n",
    "male_donors = ['9861', '10021', '12876', '14380', '15697']\n",
    "female_donors = ['15496']"
   ]
  },
  {
   "cell_type": "code",
   "execution_count": 4,
   "id": "d443d50b",
   "metadata": {},
   "outputs": [
    {
     "data": {
      "text/plain": [
       "((83, 16077), (83, 15563))"
      ]
     },
     "execution_count": 4,
     "metadata": {},
     "output_type": "execute_result"
    }
   ],
   "source": [
    "female_expression = abagen.get_expression_data(atlas['image'], donors=female_donors, probe_selection = 'average', missing='centroids')\n",
    "\n",
    "male_expression = abagen.get_expression_data(atlas['image'], donors=male_donors, probe_selection = 'average', missing='centroids')\n",
    "\n",
    "female_expression.shape, male_expression.shape"
   ]
  },
  {
   "cell_type": "code",
   "execution_count": 5,
   "id": "f3d768ef",
   "metadata": {},
   "outputs": [],
   "source": [
    "drop = [gene for gene in female_expression.columns if gene not in male_expression.columns]\n",
    "\n",
    "drop1 = [gene for gene in male_expression.columns if gene not in female_expression.columns]\n",
    "\n",
    "drop_cols = drop + drop1"
   ]
  },
  {
   "cell_type": "code",
   "execution_count": 6,
   "id": "6f1e3df1",
   "metadata": {},
   "outputs": [],
   "source": [
    "female_abha = female_expression.drop([col for col in female_expression.columns if \n",
    "                                         col in drop_cols], axis=1, inplace=False)\n",
    "\n",
    "male_abha = male_expression.drop([col for col in male_expression.columns if \n",
    "                                         col in drop_cols], axis=1, inplace=False)"
   ]
  },
  {
   "cell_type": "code",
   "execution_count": 7,
   "id": "fb1286b8",
   "metadata": {},
   "outputs": [
    {
     "data": {
      "text/plain": [
       "((83, 15516), (83, 15516))"
      ]
     },
     "execution_count": 7,
     "metadata": {},
     "output_type": "execute_result"
    }
   ],
   "source": [
    "# 83 regions x 15516 genes\n",
    "female_abha.shape, male_abha.shape"
   ]
  },
  {
   "cell_type": "code",
   "execution_count": 8,
   "id": "336aa238",
   "metadata": {},
   "outputs": [],
   "source": [
    "# left hemi only\n",
    "\n",
    "female_abha_left = female_abha[:41]\n",
    "\n",
    "male_abha_left = male_abha[:41]"
   ]
  },
  {
   "cell_type": "code",
   "execution_count": 9,
   "id": "604955b5",
   "metadata": {},
   "outputs": [],
   "source": [
    "# \n",
    "div_df = female_abha_left/male_abha_left\n",
    "ad_div = div_df.loc[[5,6,8,15,40]]"
   ]
  },
  {
   "cell_type": "code",
   "execution_count": 30,
   "id": "799bedaf",
   "metadata": {},
   "outputs": [
    {
     "data": {
      "text/plain": [
       "66"
      ]
     },
     "execution_count": 30,
     "metadata": {},
     "output_type": "execute_result"
    }
   ],
   "source": [
    "# greatest proportially differentiated (M-F) genes in 5 AD regions\n",
    "\n",
    "div5 = list(ad_div.loc[5].nlargest(100).index) \n",
    "div6 = list(ad_div.loc[6].nlargest(100).index) \n",
    "div8 = list(ad_div.loc[8].nlargest(100).index) \n",
    "div15 = list(ad_div.loc[15].nlargest(100).index) \n",
    "div40 = list(ad_div.loc[40].nlargest(100).index)\n",
    "ad_div_genes = set(div5 + div6 + div8 + div15 + div40)\n",
    "\n",
    "# AD gene dataset from https://disgenet.org/home/\n",
    "gda = pd.read_csv('data/gda.csv')\n",
    "\n",
    "\n",
    "# confirming M vs F differentiated genes to AD gene dataset\n",
    "confirm = [x for x in ad_div_genes if x in list(gda.Gene)]\n",
    "\n",
    "len(confirm)"
   ]
  },
  {
   "cell_type": "code",
   "execution_count": 15,
   "id": "cad6f522",
   "metadata": {},
   "outputs": [],
   "source": [
    "diff_df = abs(female_abha - male_abha)\n",
    "ad_diff = diff_df.loc[[5,6,8,15,40]]"
   ]
  },
  {
   "cell_type": "code",
   "execution_count": 16,
   "id": "150594c1",
   "metadata": {},
   "outputs": [
    {
     "data": {
      "text/html": [
       "<div>\n",
       "<style scoped>\n",
       "    .dataframe tbody tr th:only-of-type {\n",
       "        vertical-align: middle;\n",
       "    }\n",
       "\n",
       "    .dataframe tbody tr th {\n",
       "        vertical-align: top;\n",
       "    }\n",
       "\n",
       "    .dataframe thead th {\n",
       "        text-align: right;\n",
       "    }\n",
       "</style>\n",
       "<table border=\"1\" class=\"dataframe\">\n",
       "  <thead>\n",
       "    <tr style=\"text-align: right;\">\n",
       "      <th>gene_symbol</th>\n",
       "      <th>A1BG</th>\n",
       "      <th>A1BG-AS1</th>\n",
       "      <th>A2M</th>\n",
       "      <th>A2ML1</th>\n",
       "      <th>A3GALT2</th>\n",
       "      <th>A4GALT</th>\n",
       "      <th>AAAS</th>\n",
       "      <th>AACS</th>\n",
       "      <th>AADACL3</th>\n",
       "      <th>AADAT</th>\n",
       "      <th>...</th>\n",
       "      <th>ZW10</th>\n",
       "      <th>ZWILCH</th>\n",
       "      <th>ZWINT</th>\n",
       "      <th>ZXDA</th>\n",
       "      <th>ZXDB</th>\n",
       "      <th>ZXDC</th>\n",
       "      <th>ZYG11B</th>\n",
       "      <th>ZYX</th>\n",
       "      <th>ZZEF1</th>\n",
       "      <th>ZZZ3</th>\n",
       "    </tr>\n",
       "    <tr>\n",
       "      <th>label</th>\n",
       "      <th></th>\n",
       "      <th></th>\n",
       "      <th></th>\n",
       "      <th></th>\n",
       "      <th></th>\n",
       "      <th></th>\n",
       "      <th></th>\n",
       "      <th></th>\n",
       "      <th></th>\n",
       "      <th></th>\n",
       "      <th></th>\n",
       "      <th></th>\n",
       "      <th></th>\n",
       "      <th></th>\n",
       "      <th></th>\n",
       "      <th></th>\n",
       "      <th></th>\n",
       "      <th></th>\n",
       "      <th></th>\n",
       "      <th></th>\n",
       "      <th></th>\n",
       "    </tr>\n",
       "  </thead>\n",
       "  <tbody>\n",
       "    <tr>\n",
       "      <th>5</th>\n",
       "      <td>0.046298</td>\n",
       "      <td>0.000745</td>\n",
       "      <td>0.012332</td>\n",
       "      <td>0.296280</td>\n",
       "      <td>0.139003</td>\n",
       "      <td>0.240184</td>\n",
       "      <td>0.299298</td>\n",
       "      <td>0.060899</td>\n",
       "      <td>0.180292</td>\n",
       "      <td>0.276298</td>\n",
       "      <td>...</td>\n",
       "      <td>0.200720</td>\n",
       "      <td>0.108229</td>\n",
       "      <td>0.021575</td>\n",
       "      <td>0.161248</td>\n",
       "      <td>0.087157</td>\n",
       "      <td>0.019566</td>\n",
       "      <td>0.209777</td>\n",
       "      <td>0.090309</td>\n",
       "      <td>0.290348</td>\n",
       "      <td>0.177519</td>\n",
       "    </tr>\n",
       "    <tr>\n",
       "      <th>6</th>\n",
       "      <td>0.084606</td>\n",
       "      <td>0.034752</td>\n",
       "      <td>0.060639</td>\n",
       "      <td>0.087472</td>\n",
       "      <td>0.166492</td>\n",
       "      <td>0.119250</td>\n",
       "      <td>0.007286</td>\n",
       "      <td>0.045936</td>\n",
       "      <td>0.133347</td>\n",
       "      <td>0.005412</td>\n",
       "      <td>...</td>\n",
       "      <td>0.012750</td>\n",
       "      <td>0.007851</td>\n",
       "      <td>0.080548</td>\n",
       "      <td>0.138860</td>\n",
       "      <td>0.066277</td>\n",
       "      <td>0.041849</td>\n",
       "      <td>0.012575</td>\n",
       "      <td>0.039146</td>\n",
       "      <td>0.010512</td>\n",
       "      <td>0.027334</td>\n",
       "    </tr>\n",
       "    <tr>\n",
       "      <th>8</th>\n",
       "      <td>0.084104</td>\n",
       "      <td>0.104442</td>\n",
       "      <td>0.025087</td>\n",
       "      <td>0.044233</td>\n",
       "      <td>0.059581</td>\n",
       "      <td>0.059302</td>\n",
       "      <td>0.218642</td>\n",
       "      <td>0.022517</td>\n",
       "      <td>0.043997</td>\n",
       "      <td>0.043120</td>\n",
       "      <td>...</td>\n",
       "      <td>0.103194</td>\n",
       "      <td>0.032070</td>\n",
       "      <td>0.046904</td>\n",
       "      <td>0.169697</td>\n",
       "      <td>0.056779</td>\n",
       "      <td>0.041285</td>\n",
       "      <td>0.018363</td>\n",
       "      <td>0.031976</td>\n",
       "      <td>0.000466</td>\n",
       "      <td>0.060713</td>\n",
       "    </tr>\n",
       "    <tr>\n",
       "      <th>15</th>\n",
       "      <td>0.147520</td>\n",
       "      <td>0.130994</td>\n",
       "      <td>0.003788</td>\n",
       "      <td>0.061682</td>\n",
       "      <td>0.033510</td>\n",
       "      <td>0.068312</td>\n",
       "      <td>0.170027</td>\n",
       "      <td>0.081914</td>\n",
       "      <td>0.232870</td>\n",
       "      <td>0.353830</td>\n",
       "      <td>...</td>\n",
       "      <td>0.188453</td>\n",
       "      <td>0.041756</td>\n",
       "      <td>0.001786</td>\n",
       "      <td>0.081642</td>\n",
       "      <td>0.166363</td>\n",
       "      <td>0.217495</td>\n",
       "      <td>0.034314</td>\n",
       "      <td>0.127074</td>\n",
       "      <td>0.001214</td>\n",
       "      <td>0.276410</td>\n",
       "    </tr>\n",
       "    <tr>\n",
       "      <th>40</th>\n",
       "      <td>0.104386</td>\n",
       "      <td>0.101879</td>\n",
       "      <td>0.042342</td>\n",
       "      <td>0.045147</td>\n",
       "      <td>0.066777</td>\n",
       "      <td>0.003665</td>\n",
       "      <td>0.155268</td>\n",
       "      <td>0.084071</td>\n",
       "      <td>0.100764</td>\n",
       "      <td>0.055037</td>\n",
       "      <td>...</td>\n",
       "      <td>0.055755</td>\n",
       "      <td>0.113532</td>\n",
       "      <td>0.214199</td>\n",
       "      <td>0.069246</td>\n",
       "      <td>0.107695</td>\n",
       "      <td>0.141675</td>\n",
       "      <td>0.029582</td>\n",
       "      <td>0.064952</td>\n",
       "      <td>0.056083</td>\n",
       "      <td>0.104010</td>\n",
       "    </tr>\n",
       "  </tbody>\n",
       "</table>\n",
       "<p>5 rows × 15516 columns</p>\n",
       "</div>"
      ],
      "text/plain": [
       "gene_symbol      A1BG  A1BG-AS1       A2M     A2ML1   A3GALT2    A4GALT  \\\n",
       "label                                                                     \n",
       "5            0.046298  0.000745  0.012332  0.296280  0.139003  0.240184   \n",
       "6            0.084606  0.034752  0.060639  0.087472  0.166492  0.119250   \n",
       "8            0.084104  0.104442  0.025087  0.044233  0.059581  0.059302   \n",
       "15           0.147520  0.130994  0.003788  0.061682  0.033510  0.068312   \n",
       "40           0.104386  0.101879  0.042342  0.045147  0.066777  0.003665   \n",
       "\n",
       "gene_symbol      AAAS      AACS   AADACL3     AADAT  ...      ZW10    ZWILCH  \\\n",
       "label                                                ...                       \n",
       "5            0.299298  0.060899  0.180292  0.276298  ...  0.200720  0.108229   \n",
       "6            0.007286  0.045936  0.133347  0.005412  ...  0.012750  0.007851   \n",
       "8            0.218642  0.022517  0.043997  0.043120  ...  0.103194  0.032070   \n",
       "15           0.170027  0.081914  0.232870  0.353830  ...  0.188453  0.041756   \n",
       "40           0.155268  0.084071  0.100764  0.055037  ...  0.055755  0.113532   \n",
       "\n",
       "gene_symbol     ZWINT      ZXDA      ZXDB      ZXDC    ZYG11B       ZYX  \\\n",
       "label                                                                     \n",
       "5            0.021575  0.161248  0.087157  0.019566  0.209777  0.090309   \n",
       "6            0.080548  0.138860  0.066277  0.041849  0.012575  0.039146   \n",
       "8            0.046904  0.169697  0.056779  0.041285  0.018363  0.031976   \n",
       "15           0.001786  0.081642  0.166363  0.217495  0.034314  0.127074   \n",
       "40           0.214199  0.069246  0.107695  0.141675  0.029582  0.064952   \n",
       "\n",
       "gene_symbol     ZZEF1      ZZZ3  \n",
       "label                            \n",
       "5            0.290348  0.177519  \n",
       "6            0.010512  0.027334  \n",
       "8            0.000466  0.060713  \n",
       "15           0.001214  0.276410  \n",
       "40           0.056083  0.104010  \n",
       "\n",
       "[5 rows x 15516 columns]"
      ]
     },
     "execution_count": 16,
     "metadata": {},
     "output_type": "execute_result"
    }
   ],
   "source": [
    "ad_diff"
   ]
  },
  {
   "cell_type": "code",
   "execution_count": 21,
   "id": "30227c30",
   "metadata": {},
   "outputs": [
    {
     "data": {
      "text/plain": [
       "143"
      ]
     },
     "execution_count": 21,
     "metadata": {},
     "output_type": "execute_result"
    }
   ],
   "source": [
    "# greatest difference (M-F) genes in 5 AD regions\n",
    "\n",
    "diff5 = list(ad_diff.loc[5].nlargest(100).index) + list(ad_diff.loc[5].nsmallest(100).index)\n",
    "diff6 = list(ad_diff.loc[6].nlargest(100).index) + list(ad_diff.loc[6].nsmallest(100).index)\n",
    "diff8 = list(ad_diff.loc[8].nlargest(100).index) + list(ad_diff.loc[8].nsmallest(100).index)\n",
    "diff15 = list(ad_diff.loc[15].nlargest(100).index) + list(ad_diff.loc[15].nsmallest(100).index)\n",
    "diff40 = list(ad_diff.loc[40].nlargest(100).index) + list(ad_diff.loc[40].nsmallest(100).index)\n",
    "ad_diff_genes = set(diff5 + diff6 + diff8 + diff15 + diff40)\n",
    "\n",
    "# AD gene dataset from https://disgenet.org/home/\n",
    "gda = pd.read_csv('data/gda.csv')\n",
    "\n",
    "\n",
    "# confirming M vs F differentiated genes to AD gene dataset\n",
    "confirm2 = [x for x in ad_diff_genes if x in list(gda.Gene)]\n",
    "\n",
    "len(confirm2)"
   ]
  }
 ],
 "metadata": {
  "kernelspec": {
   "display_name": "Python 3 (ipykernel)",
   "language": "python",
   "name": "python3"
  },
  "language_info": {
   "codemirror_mode": {
    "name": "ipython",
    "version": 3
   },
   "file_extension": ".py",
   "mimetype": "text/x-python",
   "name": "python",
   "nbconvert_exporter": "python",
   "pygments_lexer": "ipython3",
   "version": "3.9.7"
  }
 },
 "nbformat": 4,
 "nbformat_minor": 5
}
