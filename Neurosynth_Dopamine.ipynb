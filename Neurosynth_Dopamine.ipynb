{
 "cells": [
  {
   "cell_type": "code",
   "execution_count": 10,
   "id": "2d9d3a64",
   "metadata": {},
   "outputs": [],
   "source": [
    "import json\n",
    "from itertools import combinations\n",
    "\n",
    "import numpy as np\n",
    "from scipy.stats import linregress\n",
    "\n",
    "from neuromaps import datasets, transforms\n",
    "from neuromaps.transforms import mni152_to_fsaverage\n",
    "from neuromaps.datasets import fetch_annotation, fetch_atlas\n",
    "from neuromaps.stats import compare_images\n",
    "\n",
    "from nilearn.plotting import view_surf, plot_surf\n",
    "import nibabel as nib\n",
    "\n",
    "import matplotlib.pyplot as plt\n",
    "\n",
    "import import_ipynb\n",
    "\n",
    "# from example_serotonin import load_array"
   ]
  },
  {
   "cell_type": "code",
   "execution_count": 2,
   "id": "56512f4c",
   "metadata": {},
   "outputs": [
    {
     "data": {
      "text/plain": [
       "{'sandiego2015': 'D2 dopamine receptors',\n",
       " 'sasaki2012': 'dopamine transporter',\n",
       " 'kaller2017': 'dopamine D1 receptors',\n",
       " 'alarkurtti2015': 'raclopride - dopamine receptor'}"
      ]
     },
     "execution_count": 2,
     "metadata": {},
     "output_type": "execute_result"
    }
   ],
   "source": [
    "# Get dopamine map labels\n",
    "with open('data_desc.json', 'r') as f:\n",
    "    data_desc = json.load(f)\n",
    "    \n",
    "data_desc['dopamine']"
   ]
  },
  {
   "cell_type": "code",
   "execution_count": 3,
   "id": "5c69d44f",
   "metadata": {},
   "outputs": [
    {
     "name": "stdout",
     "output_type": "stream",
     "text": [
      "('alarkurtti2015', 'raclopride', 'MNI152', '3mm')\n",
      "('kaller2017', 'sch23390', 'MNI152', '3mm')\n",
      "('sandiego2015', 'flb457', 'MNI152', '1mm')\n",
      "('sasaki2012', 'fepe2i', 'MNI152', '1mm')\n"
     ]
    }
   ],
   "source": [
    "for annot in datasets.available_annotations():\n",
    "    if annot[0] in data_desc['dopamine'].keys():\n",
    "        print(annot)"
   ]
  },
  {
   "cell_type": "code",
   "execution_count": 17,
   "id": "47fb5c3f",
   "metadata": {},
   "outputs": [],
   "source": [
    "sd15 = fetch_annotation(source='sandiego2015')\n",
    "sd15 = nib.load(sd15)\n",
    "sd15 = transforms.mni152_to_mni152(sd15, '3mm')"
   ]
  },
  {
   "cell_type": "code",
   "execution_count": 18,
   "id": "b30bafda",
   "metadata": {},
   "outputs": [],
   "source": [
    "s12 = fetch_annotation(source='sasaki2012')\n",
    "s12 = nib.load(s12)\n",
    "s12 = transforms.mni152_to_mni152(s12, '3mm')"
   ]
  },
  {
   "cell_type": "code",
   "execution_count": 19,
   "id": "7f692cb5",
   "metadata": {},
   "outputs": [],
   "source": [
    "k17 = fetch_annotation(source='kaller2017')\n",
    "k17 = nib.load(k17)\n",
    "k17 = transforms.mni152_to_mni152(k17, '3mm')"
   ]
  },
  {
   "cell_type": "code",
   "execution_count": 20,
   "id": "f14a3b65",
   "metadata": {},
   "outputs": [],
   "source": [
    "ak15 = fetch_annotation(source='alarkurtti2015')\n",
    "ak15 = nib.load(ak15)\n",
    "ak15 = transforms.mni152_to_mni152(ak15, '3mm')"
   ]
  },
  {
   "cell_type": "code",
   "execution_count": 21,
   "id": "1ce34829",
   "metadata": {},
   "outputs": [],
   "source": [
    "dopamine_nm = [sd15, s12, k17, ak15]"
   ]
  },
  {
   "cell_type": "code",
   "execution_count": 22,
   "id": "2c935ecd",
   "metadata": {},
   "outputs": [],
   "source": [
    "neurosynth_dop = nib.load('dopamine_association-test_z_FDR_0.01.nii')\n",
    "neurosynth_dop = transforms.mni152_to_mni152(neurosynth_dop, '3mm')"
   ]
  },
  {
   "cell_type": "code",
   "execution_count": 24,
   "id": "aa0f0547",
   "metadata": {},
   "outputs": [
    {
     "name": "stdout",
     "output_type": "stream",
     "text": [
      "0.17018631746373786\n",
      "0.07236018388239251\n",
      "0.2037508330354565\n",
      "0.08448165689040764\n"
     ]
    }
   ],
   "source": [
    "# correlation between each neuromaps dopamine map and the neurosynth dopamine map\n",
    "# low af\n",
    "for anno in dopamine_nm:\n",
    "    corr = compare_images(neurosynth_dop, anno, metric='pearsonr')\n",
    "    print(corr)"
   ]
  },
  {
   "cell_type": "code",
   "execution_count": null,
   "id": "df676eeb",
   "metadata": {},
   "outputs": [],
   "source": []
  }
 ],
 "metadata": {
  "kernelspec": {
   "display_name": "Python 3 (ipykernel)",
   "language": "python",
   "name": "python3"
  },
  "language_info": {
   "codemirror_mode": {
    "name": "ipython",
    "version": 3
   },
   "file_extension": ".py",
   "mimetype": "text/x-python",
   "name": "python",
   "nbconvert_exporter": "python",
   "pygments_lexer": "ipython3",
   "version": "3.9.7"
  }
 },
 "nbformat": 4,
 "nbformat_minor": 5
}
