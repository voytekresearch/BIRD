{
 "cells": [
  {
   "cell_type": "markdown",
   "id": "3cdd10a9",
   "metadata": {},
   "source": [
    "### "
   ]
  },
  {
   "cell_type": "code",
   "execution_count": 1,
   "id": "afc65f05",
   "metadata": {},
   "outputs": [],
   "source": [
    "import nibabel as nib\n",
    "from neuromaps import nulls\n",
    "from neuromaps import stats\n",
    "from neuromaps import transforms\n",
    "from neuromaps import datasets\n",
    "from neuromaps.datasets import available_tags, available_annotations, fetch_annotation"
   ]
  },
  {
   "cell_type": "code",
   "execution_count": 2,
   "id": "8ed77ea8",
   "metadata": {},
   "outputs": [
    {
     "name": "stdout",
     "output_type": "stream",
     "text": [
      "('hcps1200', 'megalpha', 'fsLR', '4k')\n",
      "('hcps1200', 'megbeta', 'fsLR', '4k')\n",
      "('hcps1200', 'megdelta', 'fsLR', '4k')\n",
      "('hcps1200', 'meggamma1', 'fsLR', '4k')\n",
      "('hcps1200', 'meggamma2', 'fsLR', '4k')\n",
      "('hcps1200', 'megtheta', 'fsLR', '4k')\n",
      "('hcps1200', 'megtimescale', 'fsLR', '4k')\n"
     ]
    }
   ],
   "source": [
    "for annotation in available_annotations(tags=['MEG']):\n",
    "    print(annotation)"
   ]
  },
  {
   "cell_type": "code",
   "execution_count": 110,
   "id": "2a593481",
   "metadata": {},
   "outputs": [],
   "source": [
    "megalpha = fetch_annotation(source='hcps1200', desc ='megalpha')\n",
    "megbeta = fetch_annotation(source='hcps1200', desc ='megbeta')\n",
    "megdelta = fetch_annotation(source='hcps1200', desc ='megdelta')\n",
    "meggamma1 = fetch_annotation(source='hcps1200', desc ='meggamma1')\n",
    "meggamma2 = fetch_annotation(source='hcps1200', desc ='meggamma2')\n",
    "megtheta = fetch_annotation(source='hcps1200', desc ='megtheta')\n",
    "megtimescale = fetch_annotation(source='hcps1200', desc ='megtimescale')\n",
    "\n",
    "myelinmap = fetch_annotation(source='hcps1200', desc='myelinmap')\n",
    "thickness = fetch_annotation(source='hcps1200', desc='thickness')"
   ]
  },
  {
   "cell_type": "code",
   "execution_count": 4,
   "id": "8e5092d0",
   "metadata": {},
   "outputs": [],
   "source": [
    "# terms\n",
    "AD_association = nib.load('data/neurosynth_maps/terms/alzheimer_association-test_z_FDR_0.01.nii')\n",
    "age = nib.load('data/neurosynth_maps/terms/age_uniformity-test_z_FDR_0.01.nii')\n",
    "memory = nib.load('data/neurosynth_maps/terms/memory_association-test_z_FDR_0.01.nii')\n",
    "\n",
    "# topics\n",
    "topic377 = nib.load('data/neurosynth_maps/topics/v4-topics-400_377_ad_disease_mci_association-test_z_FDR_0.01.nii')"
   ]
  },
  {
   "cell_type": "code",
   "execution_count": 5,
   "id": "586f415e",
   "metadata": {},
   "outputs": [],
   "source": [
    "genes = {\n",
    "    'ELMO2': nib.load('data/neurosynth_maps/genes1/gene_40559_ELMO2_63916.0.nii'),\n",
    "    'GADD45B': nib.load('data/neurosynth_maps/genes1/gene_4590_GADD45B_4616.0.nii'),\n",
    "    'LANCL2': nib.load('data/neurosynth_maps/genes1/gene_35202_LANCL2_55915.0.nii'),\n",
    "    'RSPO3': nib.load('data/neurosynth_maps/genes1/gene_59060_RSPO3_84870.0.nii'),\n",
    "    'TRIM66': nib.load('data/neurosynth_maps/genes1/gene_9722_TRIM66_9866.0.nii'),\n",
    "    'DCAF5': nib.load('data/neurosynth_maps/genes1/gene_8739_DCAF5_8816.0.nii'),\n",
    "    'ARL2': nib.load('data/neurosynth_maps/genes1/gene_399_ARL2_402.0.nii'),\n",
    "    'NEURL1B': nib.load('data/neurosynth_maps/genes1/gene_33783_NEURL1B_54492.0.nii'),\n",
    "    'STXBP6': nib.load('data/neurosynth_maps/genes1/gene_28827_STXBP6_29091.0.nii'),\n",
    "    \n",
    "}"
   ]
  },
  {
   "cell_type": "code",
   "execution_count": 102,
   "id": "96252b1f",
   "metadata": {},
   "outputs": [],
   "source": [
    "def plot_mni_fsav(annot):\n",
    "    surf = transforms.mni152_to_fsaverage(annot, '10k')\n",
    "    surfplt = plotting.plot_surf_template(surf, 'fsaverage','10k',hemi='L', \n",
    "                                          colorbar=True)\n",
    "    \n",
    "    return surfplt"
   ]
  },
  {
   "cell_type": "code",
   "execution_count": null,
   "id": "8e484fa7",
   "metadata": {},
   "outputs": [],
   "source": [
    "rotated = nulls.alexander_bloch(fsav_map1, atlas='fsLR', density='10k', n_perm=100, seed=1234)"
   ]
  },
  {
   "cell_type": "code",
   "execution_count": 113,
   "id": "c3120fc4",
   "metadata": {},
   "outputs": [],
   "source": [
    "# edited for fslr\n",
    "\n",
    "def spatial_nulls(map1, map2):\n",
    "    fsav_map1 = transforms.fslr_to_fslr(map1, '32k')\n",
    "    fsav_map2 = transforms.fslr_to_fslr(map2, '32k')\n",
    "    rotated = nulls.alexander_bloch(fsav_map1, atlas='fsLR', density='32k', n_perm=100, seed=1234)\n",
    "    corr, pval = stats.compare_images(fsav_map1, fsav_map2, nulls=rotated)\n",
    "    return (f'r = {corr:.3f}, p = {pval:.3f}')"
   ]
  },
  {
   "cell_type": "code",
   "execution_count": 11,
   "id": "c39f62ad",
   "metadata": {},
   "outputs": [
    {
     "name": "stdout",
     "output_type": "stream",
     "text": [
      "ELMO2 <-> megalpha:  r = -0.090, p = 0.455\n",
      "GADD45B <-> megalpha:  r = 0.197, p = 0.020\n",
      "LANCL2 <-> megalpha:  r = -0.131, p = 0.158\n",
      "RSPO3 <-> megalpha:  r = -0.217, p = 0.020\n",
      "TRIM66 <-> megalpha:  r = 0.128, p = 0.099\n",
      "DCAF5 <-> megalpha:  r = -0.019, p = 0.535\n",
      "ARL2 <-> megalpha:  r = -0.002, p = 0.990\n",
      "NEURL1B <-> megalpha:  r = -0.225, p = 0.010\n",
      "STXBP6 <-> megalpha:  r = -0.140, p = 0.317\n"
     ]
    }
   ],
   "source": [
    "# correlation with all genes and megalpha\n",
    "\n",
    "for gene in genes:\n",
    "    output = spatial_nulls(genes[gene], megalpha)\n",
    "    print(gene, '<-> megalpha: ', output)"
   ]
  },
  {
   "cell_type": "code",
   "execution_count": null,
   "id": "7f94dad9",
   "metadata": {},
   "outputs": [],
   "source": []
  },
  {
   "cell_type": "code",
   "execution_count": 12,
   "id": "746330ea",
   "metadata": {},
   "outputs": [
    {
     "name": "stdout",
     "output_type": "stream",
     "text": [
      "ELMO2 <-> megbeta:  r = 0.002, p = 0.990\n",
      "GADD45B <-> megbeta:  r = 0.213, p = 0.010\n",
      "LANCL2 <-> megbeta:  r = -0.041, p = 0.673\n",
      "RSPO3 <-> megbeta:  r = -0.213, p = 0.020\n",
      "TRIM66 <-> megbeta:  r = 0.173, p = 0.010\n",
      "DCAF5 <-> megbeta:  r = -0.001, p = 0.980\n",
      "ARL2 <-> megbeta:  r = 0.164, p = 0.327\n",
      "NEURL1B <-> megbeta:  r = -0.275, p = 0.010\n",
      "STXBP6 <-> megbeta:  r = 0.200, p = 0.119\n"
     ]
    }
   ],
   "source": [
    "# correlation with all genes and megbeta\n",
    "\n",
    "for gene in genes:\n",
    "    output = spatial_nulls(genes[gene], megbeta)\n",
    "    print(gene, '<-> megbeta: ', output)"
   ]
  },
  {
   "cell_type": "code",
   "execution_count": 13,
   "id": "95222193",
   "metadata": {},
   "outputs": [
    {
     "name": "stdout",
     "output_type": "stream",
     "text": [
      "ELMO2 <-> megdelta:  r = 0.090, p = 0.505\n",
      "GADD45B <-> megdelta:  r = -0.302, p = 0.010\n",
      "LANCL2 <-> megdelta:  r = 0.152, p = 0.059\n",
      "RSPO3 <-> megdelta:  r = 0.312, p = 0.010\n",
      "TRIM66 <-> megdelta:  r = -0.205, p = 0.010\n",
      "DCAF5 <-> megdelta:  r = 0.028, p = 0.505\n",
      "ARL2 <-> megdelta:  r = -0.088, p = 0.703\n",
      "NEURL1B <-> megdelta:  r = 0.359, p = 0.010\n",
      "STXBP6 <-> megdelta:  r = 0.028, p = 0.861\n"
     ]
    }
   ],
   "source": [
    "# correlation with all genes and megdelta\n",
    "\n",
    "for gene in genes:\n",
    "    output = spatial_nulls(genes[gene], megdelta)\n",
    "    print(gene, '<-> megdelta: ', output)"
   ]
  },
  {
   "cell_type": "code",
   "execution_count": 14,
   "id": "23786123",
   "metadata": {},
   "outputs": [
    {
     "name": "stdout",
     "output_type": "stream",
     "text": [
      "ELMO2 <-> meggamma1:  r = 0.060, p = 0.614\n",
      "GADD45B <-> meggamma1:  r = -0.148, p = 0.089\n",
      "LANCL2 <-> meggamma1:  r = 0.110, p = 0.218\n",
      "RSPO3 <-> meggamma1:  r = 0.180, p = 0.059\n",
      "TRIM66 <-> meggamma1:  r = -0.117, p = 0.168\n",
      "DCAF5 <-> meggamma1:  r = 0.007, p = 0.861\n",
      "ARL2 <-> meggamma1:  r = 0.033, p = 0.832\n",
      "NEURL1B <-> meggamma1:  r = 0.180, p = 0.030\n",
      "STXBP6 <-> meggamma1:  r = 0.136, p = 0.257\n"
     ]
    }
   ],
   "source": [
    "# correlation with all genes and meggamma1\n",
    "\n",
    "for gene in genes:\n",
    "    output = spatial_nulls(genes[gene], meggamma1)\n",
    "    print(gene, '<-> meggamma1: ', output)"
   ]
  },
  {
   "cell_type": "code",
   "execution_count": 15,
   "id": "f6a0dcb6",
   "metadata": {},
   "outputs": [
    {
     "name": "stdout",
     "output_type": "stream",
     "text": [
      "ELMO2 <-> meggamma2:  r = 0.084, p = 0.376\n",
      "GADD45B <-> meggamma2:  r = -0.295, p = 0.010\n",
      "LANCL2 <-> meggamma2:  r = 0.181, p = 0.050\n",
      "RSPO3 <-> meggamma2:  r = 0.292, p = 0.020\n",
      "TRIM66 <-> meggamma2:  r = -0.187, p = 0.010\n",
      "DCAF5 <-> meggamma2:  r = 0.022, p = 0.673\n",
      "ARL2 <-> meggamma2:  r = -0.062, p = 0.743\n",
      "NEURL1B <-> meggamma2:  r = 0.321, p = 0.020\n",
      "STXBP6 <-> meggamma2:  r = 0.009, p = 0.931\n"
     ]
    }
   ],
   "source": [
    "# correlation with all genes and meggamma2\n",
    "\n",
    "for gene in genes:\n",
    "    output = spatial_nulls(genes[gene], meggamma2)\n",
    "    print(gene, '<-> meggamma2: ', output)"
   ]
  },
  {
   "cell_type": "code",
   "execution_count": 16,
   "id": "ad269eb7",
   "metadata": {},
   "outputs": [
    {
     "name": "stdout",
     "output_type": "stream",
     "text": [
      "ELMO2 <-> megtheta:  r = 0.063, p = 0.644\n",
      "GADD45B <-> megtheta:  r = -0.080, p = 0.436\n",
      "LANCL2 <-> megtheta:  r = 0.071, p = 0.525\n",
      "RSPO3 <-> megtheta:  r = 0.111, p = 0.238\n",
      "TRIM66 <-> megtheta:  r = -0.055, p = 0.604\n",
      "DCAF5 <-> megtheta:  r = 0.003, p = 0.960\n",
      "ARL2 <-> megtheta:  r = 0.051, p = 0.772\n",
      "NEURL1B <-> megtheta:  r = 0.089, p = 0.416\n",
      "STXBP6 <-> megtheta:  r = 0.168, p = 0.178\n"
     ]
    }
   ],
   "source": [
    "# correlation with all genes and megtheta\n",
    "\n",
    "for gene in genes:\n",
    "    output = spatial_nulls(genes[gene], megtheta)\n",
    "    print(gene, '<-> megtheta: ', output)"
   ]
  },
  {
   "cell_type": "code",
   "execution_count": 17,
   "id": "7e8f47fb",
   "metadata": {},
   "outputs": [
    {
     "name": "stdout",
     "output_type": "stream",
     "text": [
      "ELMO2 <-> megtimescale:  r = 0.069, p = 0.535\n",
      "GADD45B <-> megtimescale:  r = -0.299, p = 0.010\n",
      "LANCL2 <-> megtimescale:  r = 0.160, p = 0.079\n",
      "RSPO3 <-> megtimescale:  r = 0.276, p = 0.020\n",
      "TRIM66 <-> megtimescale:  r = -0.184, p = 0.030\n",
      "DCAF5 <-> megtimescale:  r = 0.021, p = 0.703\n",
      "ARL2 <-> megtimescale:  r = -0.078, p = 0.723\n",
      "NEURL1B <-> megtimescale:  r = 0.357, p = 0.010\n",
      "STXBP6 <-> megtimescale:  r = 0.047, p = 0.713\n"
     ]
    }
   ],
   "source": [
    "# correlation with all genes and megtimescale\n",
    "\n",
    "for gene in genes:\n",
    "    output = spatial_nulls(genes[gene], megtimescale)\n",
    "    print(gene, '<-> megtimescale: ', output)"
   ]
  },
  {
   "cell_type": "markdown",
   "id": "5b317cbe",
   "metadata": {},
   "source": [
    "### AD map and MEG maps"
   ]
  },
  {
   "cell_type": "code",
   "execution_count": 19,
   "id": "f64c220e",
   "metadata": {},
   "outputs": [
    {
     "data": {
      "text/plain": [
       "'r = -0.030, p = 0.683'"
      ]
     },
     "execution_count": 19,
     "metadata": {},
     "output_type": "execute_result"
    }
   ],
   "source": [
    "# megalpha and AD_association\n",
    "spatial_nulls(AD_association, megalpha)"
   ]
  },
  {
   "cell_type": "code",
   "execution_count": 20,
   "id": "72089eb8",
   "metadata": {},
   "outputs": [
    {
     "data": {
      "text/plain": [
       "'r = -0.235, p = 0.059'"
      ]
     },
     "execution_count": 20,
     "metadata": {},
     "output_type": "execute_result"
    }
   ],
   "source": [
    "# megbeta and AD_association\n",
    "spatial_nulls(AD_association, megbeta)"
   ]
  },
  {
   "cell_type": "code",
   "execution_count": 21,
   "id": "99cf2cf9",
   "metadata": {},
   "outputs": [
    {
     "data": {
      "text/plain": [
       "'r = 0.126, p = 0.188'"
      ]
     },
     "execution_count": 21,
     "metadata": {},
     "output_type": "execute_result"
    }
   ],
   "source": [
    "# megdelta and AD_association\n",
    "spatial_nulls(AD_association, megdelta)"
   ]
  },
  {
   "cell_type": "code",
   "execution_count": 22,
   "id": "9ab3b7ea",
   "metadata": {},
   "outputs": [
    {
     "data": {
      "text/plain": [
       "'r = 0.021, p = 0.703'"
      ]
     },
     "execution_count": 22,
     "metadata": {},
     "output_type": "execute_result"
    }
   ],
   "source": [
    "# meggamma1 and AD_association\n",
    "spatial_nulls(AD_association, meggamma1)"
   ]
  },
  {
   "cell_type": "code",
   "execution_count": 23,
   "id": "49363180",
   "metadata": {},
   "outputs": [
    {
     "data": {
      "text/plain": [
       "'r = 0.140, p = 0.089'"
      ]
     },
     "execution_count": 23,
     "metadata": {},
     "output_type": "execute_result"
    }
   ],
   "source": [
    "# meggamma2 and AD_association\n",
    "spatial_nulls(AD_association, meggamma2)"
   ]
  },
  {
   "cell_type": "code",
   "execution_count": 24,
   "id": "13e7f0b8",
   "metadata": {},
   "outputs": [
    {
     "data": {
      "text/plain": [
       "'r = -0.117, p = 0.158'"
      ]
     },
     "execution_count": 24,
     "metadata": {},
     "output_type": "execute_result"
    }
   ],
   "source": [
    "# megtheta and AD_association\n",
    "spatial_nulls(AD_association, megtheta)"
   ]
  },
  {
   "cell_type": "code",
   "execution_count": 25,
   "id": "523839bc",
   "metadata": {},
   "outputs": [
    {
     "data": {
      "text/plain": [
       "'r = 0.077, p = 0.366'"
      ]
     },
     "execution_count": 25,
     "metadata": {},
     "output_type": "execute_result"
    }
   ],
   "source": [
    "# megtimescale and AD_association\n",
    "spatial_nulls(AD_association, megtimescale)"
   ]
  },
  {
   "cell_type": "code",
   "execution_count": 26,
   "id": "a5dc444f",
   "metadata": {},
   "outputs": [
    {
     "data": {
      "text/plain": [
       "'r = -0.152, p = 0.069'"
      ]
     },
     "execution_count": 26,
     "metadata": {},
     "output_type": "execute_result"
    }
   ],
   "source": [
    "# myelinmap and AD_association\n",
    "spatial_nulls(AD_association, myelinmap)"
   ]
  },
  {
   "cell_type": "code",
   "execution_count": 27,
   "id": "ad753c5c",
   "metadata": {},
   "outputs": [
    {
     "data": {
      "text/plain": [
       "'r = 0.231, p = 0.020'"
      ]
     },
     "execution_count": 27,
     "metadata": {},
     "output_type": "execute_result"
    }
   ],
   "source": [
    "# thickness and AD_association\n",
    "spatial_nulls(AD_association, thickness)"
   ]
  },
  {
   "cell_type": "markdown",
   "id": "45016e33",
   "metadata": {},
   "source": [
    "### AGE map and MEG maps (gamma)"
   ]
  },
  {
   "cell_type": "code",
   "execution_count": 28,
   "id": "0530a223",
   "metadata": {},
   "outputs": [
    {
     "name": "stdout",
     "output_type": "stream",
     "text": [
      "age <-> meggamma1:  r = -0.045, p = 0.673\n",
      "age <-> meggamma2:  r = -0.223, p = 0.010\n"
     ]
    }
   ],
   "source": [
    "# meggamma1 and age\n",
    "output10 = spatial_nulls(age, meggamma1)\n",
    "print('age <-> meggamma1: ', output10)\n",
    "\n",
    "# meggamma2 and age\n",
    "output11 = spatial_nulls(age, meggamma2)\n",
    "print('age <-> meggamma2: ', output11)"
   ]
  }
 ],
 "metadata": {
  "kernelspec": {
   "display_name": "Python 3 (ipykernel)",
   "language": "python",
   "name": "python3"
  },
  "language_info": {
   "codemirror_mode": {
    "name": "ipython",
    "version": 3
   },
   "file_extension": ".py",
   "mimetype": "text/x-python",
   "name": "python",
   "nbconvert_exporter": "python",
   "pygments_lexer": "ipython3",
   "version": "3.9.7"
  }
 },
 "nbformat": 4,
 "nbformat_minor": 5
}
